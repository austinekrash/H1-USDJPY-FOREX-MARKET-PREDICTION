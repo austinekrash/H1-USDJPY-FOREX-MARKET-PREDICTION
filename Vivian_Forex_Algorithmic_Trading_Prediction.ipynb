{
  "nbformat": 4,
  "nbformat_minor": 0,
  "metadata": {
    "colab": {
      "name": "Vivian Forex Algorithmic Trading Prediction.ipynb",
      "provenance": [],
      "collapsed_sections": [],
      "toc_visible": true,
      "machine_shape": "hm",
      "include_colab_link": true
    },
    "kernelspec": {
      "name": "python3",
      "display_name": "Python 3"
    },
    "accelerator": "GPU"
  },
  "cells": [
    {
      "cell_type": "markdown",
      "metadata": {
        "id": "view-in-github",
        "colab_type": "text"
      },
      "source": [
        "<a href=\"https://colab.research.google.com/github/vivianusdjpy/H1-USDJPY-FOREX-MARKET-PREDICTION/blob/master/Vivian_Forex_Algorithmic_Trading_Prediction.ipynb\" target=\"_parent\"><img src=\"https://colab.research.google.com/assets/colab-badge.svg\" alt=\"Open In Colab\"/></a>"
      ]
    },
    {
      "cell_type": "markdown",
      "metadata": {
        "id": "0lB_HCF7oDEg",
        "colab_type": "text"
      },
      "source": [
        "# Forex Algorithmic Trading Prediction"
      ]
    },
    {
      "cell_type": "markdown",
      "metadata": {
        "id": "lyk_U-RHkQXz",
        "colab_type": "text"
      },
      "source": [
        "\n",
        "## 1.0 Defining the question\n",
        "### Objective\n",
        "Predict the highest and lowest price of the candle in the next upcoming hour.\n",
        "\n",
        "### Metric for success\n",
        "- Accuracy of predicted highest and lowest price.\n",
        "- Cummulative net profit of the orders based on predicted signals.\n",
        "- Number of won/lost orders\n",
        "\n",
        "### Understanding the context\n",
        "Foreign Exchange(FOREX) is the global market that allows the exchange of one currency for another. 5.3 trillion dollars worth of forex are traded daily. The forex market is open 24 hours a day and 5 days a week, only closing down during the weekend. The day starts when traders wake up in Sydney then moves to Tokyo, London, Frankfurt and finally, New York, before trading starts all over again in Sydney!\n",
        "\n",
        "Buying a currency is buying a share in a particular country. The price of the currency is usually a direct reflection of the market’s opinion on the current and future health of its respective economy.\n",
        "\n",
        "Forex trading is the simultaneous buying of one currency and selling another. Currencies are traded through a broker or dealer, and are traded in pairs e.g USD/JPY(US dollars/Japanese Yen).\n",
        "\n",
        "The forex market is a decentralized global network of trading partners, including banks, public and private institutions, retail dealers, speculators, and central banks in-volved in the business of buying and selling money. Trades can take place anywhere as long as you have an Internet connection! While forex market has commercial and financial transactions as part of the trading volume, 90% currency trading is based on speculation. \n",
        "\n",
        "You would buy the pair if you believe the base currency will appreciate (gain value) relative to the quote currency.\n",
        "You would sell the pair if you think the base currency will depreciate (lose value) relative to the quote currency.\n",
        "\n",
        "90% of retail buyers lose money due to making of wrong decision. Therebeing, objective is to use machine learning to increase the chances of making a profit.\n",
        "More info about forex trading available here -> https://www.babypips.com/learn/forex/\n",
        "\n",
        "### Data Source\n",
        "- Forex Capital Markets(FXCM), is a retail broker. Python wrapper API utilized to extract historical bid(sell) and ask(buy) data for USD/JPY instrument.\n",
        "Historical data is useful for detailed examination of a market's past behaviour, traders and investors can gain perspective on the inner workings of that market.\n",
        "\n",
        "- Quandl a marketplace for financial, economic data. Python wrapper API utilized to extract fundamental datasets i.e interest and employment rates.\n",
        "\n",
        "\n",
        "### Assumptions\n",
        "- Data from demo/sandbox is similar to production.\n",
        "- Currency and Fundamental data e.g interest rates is valid."
      ]
    },
    {
      "cell_type": "markdown",
      "metadata": {
        "id": "ukyXMnqfkVzF",
        "colab_type": "text"
      },
      "source": [
        "## 2.0 Libraries and Data Importation\n",
        "\n"
      ]
    },
    {
      "cell_type": "markdown",
      "metadata": {
        "id": "dW-DMw46LOpU",
        "colab_type": "text"
      },
      "source": [
        "### Import Libraries\n"
      ]
    },
    {
      "cell_type": "code",
      "metadata": {
        "id": "0HeRfPQJ5uTv",
        "colab_type": "code",
        "outputId": "3e209057-a5ee-41b9-d58c-79118121f39d",
        "colab": {
          "base_uri": "https://localhost:8080/",
          "height": 87
        }
      },
      "source": [
        "import datetime  as dt # Import data as date time\n",
        "import pytz #Convert UTC to GMT+3\n",
        "import numpy as np\n",
        "import pandas as pd\n",
        "import plotly.graph_objects as go \n",
        "import seaborn as sns\n",
        "import matplotlib.pyplot as plt\n",
        "plt.style.use('seaborn')\n",
        "%matplotlib inline\n",
        "import os\n",
        "import time\n",
        "\n",
        "#Imputation\n",
        "from sklearn.impute import KNNImputer\n",
        "\n",
        "#Modelling\n",
        "from sklearn.model_selection import train_test_split\n",
        "from sklearn.metrics import classification_report\n",
        "from sklearn import svm\n",
        "from sklearn.preprocessing import MinMaxScaler\n",
        "from sklearn.impute import SimpleImputer\n",
        "from sklearn.metrics import r2_score, median_absolute_error, mean_absolute_error\n",
        "from sklearn.metrics import median_absolute_error, mean_squared_error, mean_squared_log_error\n",
        "\n",
        "#LSTM modelling libraries\n",
        "import tensorflow as tf\n",
        "from tensorflow.keras.models import Sequential\n",
        "from tensorflow.keras.layers import Dense, Dropout, LSTM\n",
        "from sklearn.preprocessing import MinMaxScaler\n",
        "from sklearn.model_selection import train_test_split\n",
        "from tqdm.notebook import tqdm_notebook\n",
        "from tensorflow.keras.optimizers import RMSprop\n",
        "from tensorflow.keras.callbacks import ModelCheckpoint, EarlyStopping, ReduceLROnPlateau, CSVLogger\n",
        "from sklearn.metrics import mean_squared_error\n"
      ],
      "execution_count": 0,
      "outputs": [
        {
          "output_type": "stream",
          "text": [
            "/usr/local/lib/python3.6/dist-packages/statsmodels/tools/_testing.py:19: FutureWarning:\n",
            "\n",
            "pandas.util.testing is deprecated. Use the functions in the public API at pandas.testing instead.\n",
            "\n"
          ],
          "name": "stderr"
        }
      ]
    },
    {
      "cell_type": "markdown",
      "metadata": {
        "id": "uYv-m_4FcS6s",
        "colab_type": "text"
      },
      "source": [
        "Mount Google Drive to facilitate reading the fxcm config file"
      ]
    },
    {
      "cell_type": "code",
      "metadata": {
        "id": "tXhOqgqxYjMd",
        "colab_type": "code",
        "colab": {}
      },
      "source": [
        "from google.colab import drive\n",
        "drive.mount('/content/gdrive', force_remount=False)"
      ],
      "execution_count": 0,
      "outputs": []
    },
    {
      "cell_type": "code",
      "metadata": {
        "id": "YhwUWYqjUIuZ",
        "colab_type": "code",
        "colab": {}
      },
      "source": [
        "## FXCM API - for importing currencies\n",
        "# API definition https://www.fxcm.com/fxcmpy/appendix.html\n",
        "!pip  install fxcmpy -q \n",
        "!pip install python-socketio -q \n",
        "import fxcmpy\n",
        "# api token/key. Check if connection exists else reconnect\n",
        "#try:\n",
        "   \n",
        "#except:\n",
        "    # api = fxcmpy.fxcmpy(config_file='gdrive/My Drive/Colab Notebooks/Forex/fxcm.cfg')\n",
        "token='8940e2357dc02e197aced4cb4eb99d8f98197dfa'\n",
        "api = fxcmpy.fxcmpy(access_token='8940e2357dc02e197aced4cb4eb99d8f98197dfa', log_level='error',server='demo',log_file='log.txt')\n",
        "api.get_instruments()"
      ],
      "execution_count": 0,
      "outputs": []
    },
    {
      "cell_type": "code",
      "metadata": {
        "id": "DlN4yTAHNMyU",
        "colab_type": "code",
        "colab": {}
      },
      "source": [
        "## Quandl API - for fundamanetal data import e.g interest rate, employment rate.\n",
        "# API Definition https://www.quandl.com/data/FRED-Federal-Reserve-Economic-Data/documentation\n",
        "!pip install quandl -q \n",
        "import quandl\n",
        "# api token/key\n",
        "quandl.ApiConfig.api_key = \"Y4Z_EXQ7qh7xxJhC8J6E\""
      ],
      "execution_count": 0,
      "outputs": []
    },
    {
      "cell_type": "code",
      "metadata": {
        "id": "2MjdYb225xwO",
        "colab_type": "code",
        "colab": {}
      },
      "source": [
        "# Ensure all columns are displayed\n",
        "pd.pandas.set_option('display.max_rows', None)"
      ],
      "execution_count": 0,
      "outputs": []
    },
    {
      "cell_type": "markdown",
      "metadata": {
        "id": "GARs-Wn8zP48",
        "colab_type": "text"
      },
      "source": [
        "### Import Bid and Ask Historical Data"
      ]
    },
    {
      "cell_type": "markdown",
      "metadata": {
        "id": "Fg-2PHbr2Qxs",
        "colab_type": "text"
      },
      "source": [
        "Import historical bid and ask currency prices data. Will import 10 data for 10 years for starters. If need be, the years will be increased to enhance model accuracy by providing more data to make it able to generalize better.\n",
        "\n",
        "Dataset is hourly candle data. Candlesticks describe the price action during the given time frame."
      ]
    },
    {
      "cell_type": "code",
      "metadata": {
        "id": "Ub1DRyRx6bZV",
        "colab_type": "code",
        "colab": {}
      },
      "source": [
        "data_201920 = api.get_candles('USD/JPY', period = 'H1', start = dt.datetime(2019, 3, 30), stop = dt.datetime(2020, 3, 30))\n",
        "data_201819 = api.get_candles('USD/JPY', period = 'H1', start = dt.datetime(2018, 3, 30), stop = dt.datetime(2019, 3, 30))\n",
        "data_201718 = api.get_candles('USD/JPY', period = 'H1', start = dt.datetime(2017, 3, 30), stop = dt.datetime(2018, 3, 30))\n",
        "data_201617 = api.get_candles('USD/JPY', period = 'H1', start = dt.datetime(2016, 3, 30), stop = dt.datetime(2017, 3, 30))\n",
        "data_201516 = api.get_candles('USD/JPY', period = 'H1', start = dt.datetime(2015, 3, 30), stop = dt.datetime(2016, 3, 30))\n",
        "data_201415 = api.get_candles('USD/JPY', period = 'H1', start = dt.datetime(2014, 3, 30), stop = dt.datetime(2015, 3, 30))\n",
        "data_201314 = api.get_candles('USD/JPY', period = 'H1', start = dt.datetime(2013, 3, 30), stop = dt.datetime(2014, 3, 30))\n",
        "data_201213 = api.get_candles('USD/JPY', period = 'H1', start = dt.datetime(2012, 3, 30), stop = dt.datetime(2013, 3, 30))\n",
        "data_201112 = api.get_candles('USD/JPY', period = 'H1', start = dt.datetime(2011, 3, 30), stop = dt.datetime(2012, 3, 30))\n",
        "data_201011 = api.get_candles('USD/JPY', period = 'H1', start = dt.datetime(2010, 3, 30), stop = dt.datetime(2011, 3, 30))\n",
        "\n",
        "#Concatenate data for all the 10 years\n",
        "years_list = [data_201920, data_201819, data_201718, data_201617, data_201516, data_201415, data_201314, data_201213, data_201112, data_201011]\n",
        "df = pd.concat(years_list)\n",
        "\n",
        "#Print Count\n",
        "print(\"Count of hourly records per year \\n\")\n",
        "print(\"2019-2020 - \",len(data_201920))\n",
        "print(\"2018-2019 - \",len(data_201819))\n",
        "print(\"2017-2018 - \",len(data_201718))\n",
        "print(\"2016-2017 - \",len(data_201617))\n",
        "print(\"2015-2016 - \",len(data_201516))\n",
        "print(\"2014-2015 - \",len(data_201415))\n",
        "print(\"2013-2014 - \",len(data_201314))\n",
        "print(\"2012-2013 - \",len(data_201213))\n",
        "print(\"2011-2012 - \",len(data_201112))\n",
        "print(\"2010-2011 - \",len(data_201011))\n",
        "print(\"\\n Merged Data\",len(df))\n",
        "\n",
        "#View Sample\n",
        "print(\"\\n Sample Records From the DataFrame Before and After Time Conversion\")\n",
        "print(df.head(5)) # Before time convertsion\n",
        "df = df.tz_localize(\"UTC\").tz_convert('Africa/Nairobi').tz_localize(None)\n",
        "df.head(5)"
      ],
      "execution_count": 0,
      "outputs": []
    },
    {
      "cell_type": "markdown",
      "metadata": {
        "id": "MuLyqS5tqR2Q",
        "colab_type": "text"
      },
      "source": [
        "Each row represents a candle of data for a single hour per day for USD/JPY currency pair.\n",
        "\n",
        "a) Date - Date and hour. Date is originally in UTC/GMT. It's converted to GMT+3 local time\n",
        "\n",
        "b) BID PRICES - Price that retailer trader sells at\n",
        "\n",
        "- Bid open - price at the start of the candle\n",
        "\n",
        "- Bid close - price at the end of the candle\n",
        "\n",
        "- Bid high - highest price during the candle window\n",
        "\n",
        "- Bid low - lowest price during the candle window\n",
        "\n",
        "c) ASK PRICES - Price that retailer trader buys at\n",
        "\n",
        "- Ask open - price at the start of the candle\n",
        "\n",
        "- Ask close - price at the end of the candle\n",
        "\n",
        "- Ask high - highest price during the candle window\n",
        "\n",
        "- Ask low - lowest price during the candle window\n",
        "\n",
        "d) Ticket Qty -  number of price changes that occured within the candle boundaries. It does not tell when the changes occured or how big or small the changes were."
      ]
    },
    {
      "cell_type": "code",
      "metadata": {
        "id": "FLsiMpMmYrno",
        "colab_type": "code",
        "colab": {}
      },
      "source": [
        "df.describe()"
      ],
      "execution_count": 0,
      "outputs": []
    },
    {
      "cell_type": "markdown",
      "metadata": {
        "id": "n81hXTnI56aa",
        "colab_type": "text"
      },
      "source": [
        "## Fundamental Features"
      ]
    },
    {
      "cell_type": "markdown",
      "metadata": {
        "id": "Z0699KC_2TnX",
        "colab_type": "text"
      },
      "source": [
        "### Interest Rates"
      ]
    },
    {
      "cell_type": "markdown",
      "metadata": {
        "id": "WyyQo1_K6T9H",
        "colab_type": "text"
      },
      "source": [
        "Read US and Japanese Interest rates for the last 10 years from quandl API"
      ]
    },
    {
      "cell_type": "code",
      "metadata": {
        "id": "sFpvOIB45ay8",
        "colab_type": "code",
        "colab": {}
      },
      "source": [
        "# Read US Interest rates from quandl for the last 10 years\n",
        "# API frequency is daily\n",
        "v_start_date = '2010-03-30'\n",
        "v_end_date = '2020-03-30'\n",
        "df_US_Interest_Rates = quandl.get(\"FRED/DFF\", start_date=v_start_date, end_date=v_end_date,timezone='GMT+3')\n",
        "df_US_Interest_Rates.columns = df_US_Interest_Rates.columns.str.replace('Value', 'US_Daily_Interest_Rate')\n",
        "df_JPY_Interest_Rates = quandl.get(\"MOFJ/INTEREST_RATE_JAPAN_40Y\", start_date=v_start_date, end_date=v_end_date,timezone='GMT+3')\n",
        "df_JPY_Interest_Rates.columns = df_JPY_Interest_Rates.columns.str.replace('Value', 'JPY_Daily_Interest_Rate')\n",
        "\n",
        "#Create transaction date from index\n",
        "df['Transaction_Date'] = df.index.strftime('%Y-%m-%d')\n",
        "df['Candle_Date'] = df.index\n",
        "df_US_Interest_Rates['Transaction_Date']  = df_US_Interest_Rates.index.strftime('%Y-%m-%d')\n",
        "df_JPY_Interest_Rates['Transaction_Date']  = df_JPY_Interest_Rates.index.strftime('%Y-%m-%d')\n",
        "\n",
        "df_JPY_Interest_Rates[0:5]"
      ],
      "execution_count": 0,
      "outputs": []
    },
    {
      "cell_type": "code",
      "metadata": {
        "id": "-M1GFNMZ71Z6",
        "colab_type": "code",
        "colab": {}
      },
      "source": [
        "# Check length of Japanese versus US interest rates\n",
        "print(len(df_JPY_Interest_Rates), len(df_US_Interest_Rates))"
      ],
      "execution_count": 0,
      "outputs": []
    },
    {
      "cell_type": "markdown",
      "metadata": {
        "id": "k6GcJBB_86dz",
        "colab_type": "text"
      },
      "source": [
        "Some Japanese interest rates missing compared to US interest rates. Imputation to be preferred based on nearest neigbour"
      ]
    },
    {
      "cell_type": "markdown",
      "metadata": {
        "id": "4L1di0Tm9dIX",
        "colab_type": "text"
      },
      "source": [
        "### Merge Currency and Interest Data"
      ]
    },
    {
      "cell_type": "code",
      "metadata": {
        "id": "NTzT7_nq6kof",
        "colab_type": "code",
        "colab": {}
      },
      "source": [
        "# Merge Dataframe and  US interest rates\n",
        "df = df.merge(df_US_Interest_Rates,on='Transaction_Date',how='left')\n",
        "df.set_index(\"Candle_Date\", inplace = True) \n",
        "df[0:3]"
      ],
      "execution_count": 0,
      "outputs": []
    },
    {
      "cell_type": "code",
      "metadata": {
        "id": "EmlBHOrN3Pow",
        "colab_type": "code",
        "colab": {}
      },
      "source": [
        "# Merge Dataframe and  Japan interest rates\n",
        "df['Candle_Date'] = df.index\n",
        "df = df.merge(df_JPY_Interest_Rates,on='Transaction_Date',how='left')\n",
        "df.set_index(\"Candle_Date\", inplace = True) \n",
        "df[0:20]"
      ],
      "execution_count": 0,
      "outputs": []
    },
    {
      "cell_type": "markdown",
      "metadata": {
        "id": "wQYJoVJ77OWP",
        "colab_type": "text"
      },
      "source": [
        "Impute missing Japanese Currency data"
      ]
    },
    {
      "cell_type": "code",
      "metadata": {
        "id": "pgbbDyB-7KGR",
        "colab_type": "code",
        "colab": {}
      },
      "source": [
        "#Impute JPY Interest Rates Using KNN Imputer\n",
        "JPY_Interest_rate = df['JPY_Daily_Interest_Rate'].values\n",
        "JPY_Interest_rate = JPY_Interest_rate.reshape(-1, 1)\n",
        "imputer = KNNImputer(n_neighbors=2)\n",
        "df['JPY_Daily_Interest_Rate'] = imputer.fit_transform(JPY_Interest_rate)"
      ],
      "execution_count": 0,
      "outputs": []
    },
    {
      "cell_type": "code",
      "metadata": {
        "id": "EqeWtXuU7UiR",
        "colab_type": "code",
        "colab": {}
      },
      "source": [
        "df[0:10]"
      ],
      "execution_count": 0,
      "outputs": []
    },
    {
      "cell_type": "markdown",
      "metadata": {
        "id": "cwuftLP2NsKk",
        "colab_type": "text"
      },
      "source": [
        "### Unemployment rates"
      ]
    },
    {
      "cell_type": "code",
      "metadata": {
        "id": "MROKRITTADDA",
        "colab_type": "code",
        "colab": {}
      },
      "source": [
        "#  % of Total Labor Force. API Frequency is annual. \n",
        "US_Unemployment_percent = quandl.get(\"ODA/JPN_LUR\", start_date=v_start_date, end_date=v_end_date)\n",
        "JPY_Unemployment_percent = quandl.get(\"ODA/USA_LUR\", start_date=v_start_date, end_date=v_end_date)\n",
        "# quandl.get(\"ODA/USA_LUR\", authtoken=\"Y4Z_EXQ7qh7xxJhC8J6E\")\n",
        "print(\"Japanese Unemployment rate: \",len(JPY_Unemployment_percent), \" US_Unemployment_percent: \",len(US_Unemployment_percent))\n",
        "US_Unemployment_percent"
      ],
      "execution_count": 0,
      "outputs": []
    },
    {
      "cell_type": "markdown",
      "metadata": {
        "id": "I1LZuKcCGTFH",
        "colab_type": "text"
      },
      "source": [
        "## Feature Engineering"
      ]
    },
    {
      "cell_type": "code",
      "metadata": {
        "id": "fDt1Wn4IGj67",
        "colab_type": "code",
        "colab": {}
      },
      "source": [
        "## Extract date time features.\n",
        "df['year'] = df.index.year\n",
        "df['quarter'] = df.index.quarter\n",
        "df['month'] = df.index.month\n",
        "df['day'] = df.index.day\n",
        "df['hour'] = df.index.hour\n",
        "\n",
        "##Spread\n",
        "#A spread is the price difference between where a trader may purchase or sell an underlying asset. \n",
        "df['spread']= df['askclose'] - df['bidclose']\n",
        "\n",
        "### Bid High\n",
        "## Bid High Return\n",
        "# References: https://quant.stackexchange.com/questions/21092/calculating-log-returns-across-multiple-securities-and-time , https://stackoverflow.com/questions/31742545/python-calculating-log-returns-of-a-time-series\n",
        "# NB: In Quantitative Finance, doing your math in log-returns considered good manners\n",
        "df['bid_high_return'] = np.log(df['bidhigh']/df['bidhigh'].shift(1))\n",
        "\n",
        "## Bid Close Up or Down\n",
        "#Was the bid close price up or down\n",
        "df['bid_high_up_down'] = np.where(df['bid_high_return'] >0 ,1,0) # Bid Close went up or down?\n",
        "\n",
        "#Simple Moving Average\n",
        "df['bid_high_rolling_mean_20'] = df['bidhigh'].rolling(window=20).mean()\n",
        "df['bid_high_rolling_mean_50'] = df['bidhigh'].rolling(window=50).mean()\n",
        "df['bid_high_rolling_mean_120'] = df['bidhigh'].rolling(window=120).mean()\n",
        "\n",
        "#Bid Average, Range, ohlc_price, diff\n",
        "df['bid_avg'] = (df['bidlow'] + df['bidhigh']) / 2\n",
        "df['bid_range'] = df['bidhigh'] - df['bidlow']\n",
        "df['bid_ohlc_price'] = (df['bidlow'] + df['bidhigh'] + df['bidopen'] + df['bidclose']) / 4\n",
        "df['bid_diff'] = df['bidopen'] - df['bidclose']\n",
        "\n",
        "#Bid high label\n",
        "df['bid_high_next'] = df['bidhigh'].shift(-1)\n",
        "\n",
        "### Ask Low\n",
        "## Ask Low Return\n",
        "# References: https://quant.stackexchange.com/questions/21092/calculating-log-returns-across-multiple-securities-and-time , https://stackoverflow.com/questions/31742545/python-calculating-log-returns-of-a-time-series\n",
        "# NB: In Quantitative Finance, doing your math in log-returns considered good manners\n",
        "df['ask_low_return'] = np.log(df['asklow']/df['asklow'].shift(1))\n",
        "\n",
        "## Bid Close Up or Down\n",
        "#Was the bid close price up or down\n",
        "df['ask_low_up_down'] = np.where(df['ask_low_return'] >0 ,1,0) # Bid Close went up or down?\n",
        "\n",
        "#Simple Moving Average\n",
        "df['ask_low_rolling_mean_20'] = df['asklow'].rolling(window=20).mean()\n",
        "df['ask_low_rolling_mean_50'] = df['asklow'].rolling(window=50).mean()\n",
        "df['ask_low_rolling_mean_120'] = df['asklow'].rolling(window=120).mean()\n",
        "\n",
        "\n",
        "#Ask Average, Range\n",
        "df['ask_avg'] = (df['askhigh'] + df['asklow']) / 2\n",
        "df['ask_range'] = df['askhigh'] - df['asklow']\n",
        "df['ask_ohlc_price'] = (df['asklow'] + df['askhigh'] + df['askopen'] + df['askclose']) / 4\n",
        "df['ask_diff'] = df['askopen'] - df['askclose']\n",
        "\n",
        "#ASk low label\n",
        "df['asklow_next'] = df['asklow'].shift(-1)\n",
        "\n",
        "\n",
        "# Difference of order one.\n",
        "# Y - Y-1\n",
        "# df['bid_order1_difference'] = df['bid_high_next'] - df['bidhigh']\n",
        "\n",
        "# will it be same formula with respect to ask_momentum? was the question i was asking myself..to revisit l8r\n",
        "# df['bid_momentum'] = df['tickqty'] * (df['bidopen'] - df['bidclose'])\n"
      ],
      "execution_count": 0,
      "outputs": []
    },
    {
      "cell_type": "markdown",
      "metadata": {
        "id": "9t4Ki4psfRW5",
        "colab_type": "text"
      },
      "source": [
        "bidhigh versus bidhigh_next  Labels"
      ]
    },
    {
      "cell_type": "code",
      "metadata": {
        "id": "VdykMoXylejt",
        "colab_type": "code",
        "colab": {}
      },
      "source": [
        "df[['bidhigh','bid_high_next']][0:5]"
      ],
      "execution_count": 0,
      "outputs": []
    },
    {
      "cell_type": "markdown",
      "metadata": {
        "id": "uiqMelh2uyyA",
        "colab_type": "text"
      },
      "source": [
        "## Exploratory Data Analysis"
      ]
    },
    {
      "cell_type": "markdown",
      "metadata": {
        "id": "EqTVla-8u7eP",
        "colab_type": "text"
      },
      "source": [
        "### Data Cleaning"
      ]
    },
    {
      "cell_type": "markdown",
      "metadata": {
        "id": "8VLxVow-IZkO",
        "colab_type": "text"
      },
      "source": [
        "a) Missing records"
      ]
    },
    {
      "cell_type": "code",
      "metadata": {
        "id": "hqnIu-BVLRp3",
        "colab_type": "code",
        "colab": {}
      },
      "source": [
        "df.info()"
      ],
      "execution_count": 0,
      "outputs": []
    },
    {
      "cell_type": "code",
      "metadata": {
        "id": "Go3s0xt9z2Po",
        "colab_type": "code",
        "colab": {}
      },
      "source": [
        "df = df.dropna()"
      ],
      "execution_count": 0,
      "outputs": []
    },
    {
      "cell_type": "code",
      "metadata": {
        "id": "w68cpKWonMIE",
        "colab_type": "code",
        "colab": {}
      },
      "source": [
        "df.info()"
      ],
      "execution_count": 0,
      "outputs": []
    },
    {
      "cell_type": "markdown",
      "metadata": {
        "id": "gyF7603VIbiG",
        "colab_type": "text"
      },
      "source": [
        "b) Duplicate records"
      ]
    },
    {
      "cell_type": "code",
      "metadata": {
        "id": "P_E_uNcRu3xr",
        "colab_type": "code",
        "colab": {}
      },
      "source": [
        "pass"
      ],
      "execution_count": 0,
      "outputs": []
    },
    {
      "cell_type": "markdown",
      "metadata": {
        "id": "-ICPQuwIIeVG",
        "colab_type": "text"
      },
      "source": [
        "c) Outliers"
      ]
    },
    {
      "cell_type": "code",
      "metadata": {
        "id": "9y9p4_PkIfQo",
        "colab_type": "code",
        "colab": {}
      },
      "source": [
        "pass"
      ],
      "execution_count": 0,
      "outputs": []
    },
    {
      "cell_type": "markdown",
      "metadata": {
        "id": "7pmxQ30cIhGi",
        "colab_type": "text"
      },
      "source": [
        "###  Univariate Analysis"
      ]
    },
    {
      "cell_type": "markdown",
      "metadata": {
        "id": "3U6CBNeRJH_8",
        "colab_type": "text"
      },
      "source": [
        "#### a) Candlesticks for the last 10 years"
      ]
    },
    {
      "cell_type": "code",
      "metadata": {
        "id": "vY8pto_LzhWC",
        "colab_type": "code",
        "colab": {}
      },
      "source": [
        "plt.figure(figsize = (18,9))\n",
        "#plt.plot(df.index,df['bidhigh'],color='b',label='True')\n",
        "#df['bidopen'].plot(color='red',label='True')\n",
        "df['bidhigh'].plot(color='blue',label='True')\n",
        "#df['bidlow'].plot(color='b',label='True')\n",
        "#df['bidclose'].plot(color='',label='True')\n",
        "#df['bid_high_rolling_mean_3'].plot(color='red',label='True')\n",
        "# plt.plot(df['bidopen'])\n",
        "# plt.plot(df['bidhigh'])\n",
        "# plt.plot(df['bidlow'])\n",
        "# plt.plot(df[\"bidclose\"])\n",
        "plt.title('Bid price history over years', fontsize =20)\n",
        "plt.ylabel('Bid price', fontsize =15)\n",
        "plt.xlabel('Year', fontsize =15)\n",
        "plt.legend(['Open','High','Low','Close'], loc='upper left')\n",
        "plt.show()"
      ],
      "execution_count": 0,
      "outputs": []
    },
    {
      "cell_type": "markdown",
      "metadata": {
        "id": "xbgkv1TxLKiY",
        "colab_type": "text"
      },
      "source": [
        "#### b) Moving Average\n",
        "\n",
        "A moving average is commonly used with time series data to smooth out short-term fluctuations and highlight longer-term trends or cycles"
      ]
    },
    {
      "cell_type": "code",
      "metadata": {
        "id": "uAf0xZXQR_CR",
        "colab_type": "code",
        "colab": {}
      },
      "source": [
        "def plot_moving_average(series, window, plot_intervals=False, scale=1.96):\n",
        "\n",
        "    rolling_mean = series.rolling(window=window).mean()\n",
        "    \n",
        "    plt.figure(figsize=(17,8))\n",
        "    plt.title('Moving average\\n window size = {}'.format(window))\n",
        "    # plt.plot(rolling_mean, 'g', label='Rolling mean trend')\n",
        "    rolling_mean.plot(label='Rolling mean trend')\n",
        "    \n",
        "    #Plot confidence intervals for smoothed values\n",
        "    if plot_intervals:\n",
        "        mae = mean_absolute_error(series[window:], rolling_mean[window:])\n",
        "        deviation = np.std(series[window:] - rolling_mean[window:])\n",
        "        lower_bound = rolling_mean - (mae + scale * deviation)\n",
        "        upper_bound = rolling_mean + (mae + scale * deviation)\n",
        "        upper_bound.plot(label='Upper bound / Lower bound' )\n",
        "        # plt.plot(upper_bound, 'r--', label='Upper bound / Lower bound', )\n",
        "        # plt.plot(lower_bound, 'r--')\n",
        "        lower_bound.plot()\n",
        "            \n",
        "    # plt.plot(series[window:], label='Actual values')\n",
        "    series[window:].plot(label='Actual values')\n",
        "    plt.legend(loc='best')\n",
        "    plt.grid(True)"
      ],
      "execution_count": 0,
      "outputs": []
    },
    {
      "cell_type": "code",
      "metadata": {
        "id": "ajfiz3uU4bbG",
        "colab_type": "code",
        "colab": {}
      },
      "source": [
        "#Smooth by the previous 120 previous days i.e 120*24\n",
        "plot_moving_average(df['bidhigh'], 2880, plot_intervals=True)"
      ],
      "execution_count": 0,
      "outputs": []
    },
    {
      "cell_type": "markdown",
      "metadata": {
        "id": "8rhalqRH_DMR",
        "colab_type": "text"
      },
      "source": [
        "#### Exponential smoothing"
      ]
    },
    {
      "cell_type": "code",
      "metadata": {
        "id": "f2UDAvoC_P1L",
        "colab_type": "code",
        "colab": {}
      },
      "source": [
        "def exponential_smoothing(series, alpha):\n",
        "    result = [series[0]] # first value is same as series\n",
        "    for n in range(1, len(series)):\n",
        "        result.append(alpha * series[n] + (1 - alpha) * result[n-1])\n",
        "    return result\n",
        "\n",
        "def plot_exponential_smoothing(series, alphas):\n",
        "    plt.figure(figsize=(17, 8))\n",
        "    for alpha in alphas:\n",
        "        plt.plot(exponential_smoothing(series, alpha), label=\"Alpha {}\".format(alpha))\n",
        "    plt.plot(series.values, \"c\", label = \"Actual\")\n",
        "    plt.legend(loc=\"best\")\n",
        "    plt.axis('tight')\n",
        "    plt.title(\"Exponential Smoothing\")\n",
        "    plt.grid(True);\n",
        "\n",
        "plot_exponential_smoothing(df.bidhigh, [0.05, 0.3])"
      ],
      "execution_count": 0,
      "outputs": []
    },
    {
      "cell_type": "code",
      "metadata": {
        "id": "awi4NpSPIgHt",
        "colab_type": "code",
        "colab": {}
      },
      "source": [
        "#Create Plot\n",
        "fig = go.Figure(data=[go.Candlestick(x=df.index,open=df['bidopen'],high=df['bidhigh'],low=df['bidlow'],close=df['bidclose'])])\n",
        "#Specify title and y axis\n",
        "fig.update_layout( title='Forex Pricing Patterns for last 10 years',yaxis_title='Price',xaxis_title='Year')\n",
        "fig.show(renderer = \"colab\",auto_open=True)\n",
        "# fig.write_html('tmp.html', auto_open=True)"
      ],
      "execution_count": 0,
      "outputs": []
    },
    {
      "cell_type": "markdown",
      "metadata": {
        "id": "Y4Ah0QFxM1DA",
        "colab_type": "text"
      },
      "source": [
        "Price was lowest in 2012 and highest in 2016\n"
      ]
    },
    {
      "cell_type": "markdown",
      "metadata": {
        "id": "XzyKWFchJCuD",
        "colab_type": "text"
      },
      "source": [
        "b) High, Low Prices Line Plot"
      ]
    },
    {
      "cell_type": "code",
      "metadata": {
        "id": "nJCivhJGJB8S",
        "colab_type": "code",
        "colab": {}
      },
      "source": [
        "plt.figure(figsize = (18,9))\n",
        "df['bidhigh'].plot()\n",
        "plt.title('Tick prices volume history')\n",
        "plt.xlabel('Year',fontsize=18)\n",
        "plt.ylabel('Bid High Price',fontsize=18)\n",
        "plt.show()"
      ],
      "execution_count": 0,
      "outputs": []
    },
    {
      "cell_type": "code",
      "metadata": {
        "id": "c371eR6URPlW",
        "colab_type": "code",
        "colab": {}
      },
      "source": [
        "plt.figure(figsize = (18,9))\n",
        "df['bidhigh'].plot(color='b',label='Bid High')\n",
        "df['bid_high_rolling_mean_20'].plot(color='orange',label='Bid R')\n",
        "#plt.plot(range(df.shape[0]),all_mid_data,color='b',label='True')\n",
        "#plt.plot(range(window_size,N),std_avg_predictions,color='orange',label='Prediction')\n",
        "#plt.xticks(range(0,df.shape[0],50),df['Date'].loc[::50],rotation=45)\n",
        "plt.xlabel('Date')\n",
        "plt.ylabel('Mid Price')\n",
        "plt.legend(fontsize=18)\n",
        "plt.show()"
      ],
      "execution_count": 0,
      "outputs": []
    },
    {
      "cell_type": "markdown",
      "metadata": {
        "id": "H3zPqob-SGDb",
        "colab_type": "text"
      },
      "source": [
        "c) Order 1 Difference i.e y -(y-1)"
      ]
    },
    {
      "cell_type": "code",
      "metadata": {
        "id": "xmWWxBpXSLAQ",
        "colab_type": "code",
        "colab": {}
      },
      "source": [
        "pass"
      ],
      "execution_count": 0,
      "outputs": []
    },
    {
      "cell_type": "markdown",
      "metadata": {
        "id": "FOdwh5VsJS09",
        "colab_type": "text"
      },
      "source": [
        "Tick Prices Volume History"
      ]
    },
    {
      "cell_type": "code",
      "metadata": {
        "id": "_drNedM2JVaB",
        "colab_type": "code",
        "colab": {}
      },
      "source": [
        "plt.figure(figsize = (18,9))\n",
        "plt.plot(df[\"tickqty\"])\n",
        "#plt.plot(df.index,df['bidhigh'],color='red',label='True')\n",
        "#plt.plot(df.index,df['bid_high_rolling_mean_2'],color='orange',label='True')\n",
        "#plt.plot(df['bidhigh'],color='red',label='True')\n",
        "plt.title('Tick prices volume history')\n",
        "plt.ylabel('Volume')\n",
        "plt.xlabel('Year')\n",
        "plt.show()"
      ],
      "execution_count": 0,
      "outputs": []
    },
    {
      "cell_type": "markdown",
      "metadata": {
        "id": "Da78Dq1fj__t",
        "colab_type": "text"
      },
      "source": [
        "## Bivariate Analysis"
      ]
    },
    {
      "cell_type": "markdown",
      "metadata": {
        "id": "Vh0naEhEF8My",
        "colab_type": "text"
      },
      "source": [
        "Correlation"
      ]
    },
    {
      "cell_type": "code",
      "metadata": {
        "id": "Vug6h9fNF0Je",
        "colab_type": "code",
        "colab": {}
      },
      "source": [
        "# Calculate pearson correlation coefficience\n",
        "corr = df.corr() \n",
        "\n",
        "# Plot heatmap of correlation\n",
        "f, ax = plt.subplots(1, 1, figsize=(24,20))\n",
        "sns.heatmap(corr, cmap='coolwarm_r', annot_kws={'size':20})\n",
        "ax.set_title(\"Correlation Matrix\", fontsize=24)\n",
        "plt.show()"
      ],
      "execution_count": 0,
      "outputs": []
    },
    {
      "cell_type": "markdown",
      "metadata": {
        "id": "tLKtVIIMj3pZ",
        "colab_type": "text"
      },
      "source": [
        "## Multivariate Analysis"
      ]
    },
    {
      "cell_type": "markdown",
      "metadata": {
        "id": "hkC41ts6j7O1",
        "colab_type": "text"
      },
      "source": [
        "## Pre-Modelling Steps"
      ]
    },
    {
      "cell_type": "markdown",
      "metadata": {
        "id": "_2QpvX1zkLQ5",
        "colab_type": "text"
      },
      "source": [
        "a) Drop unrequired columns"
      ]
    },
    {
      "cell_type": "code",
      "metadata": {
        "id": "NgDYR08qGylX",
        "colab_type": "code",
        "colab": {}
      },
      "source": [
        "# Drop  non-required columns\n",
        "df = df.drop(['Transaction_Date'], axis=1)"
      ],
      "execution_count": 0,
      "outputs": []
    },
    {
      "cell_type": "markdown",
      "metadata": {
        "id": "W3UXQ10bi7jY",
        "colab_type": "text"
      },
      "source": [
        "## Modelling\n",
        "\n",
        "The model should be able to:\n",
        "- Identify trends as early as possible.\n",
        "- Avoid one from getting whipsawed "
      ]
    },
    {
      "cell_type": "markdown",
      "metadata": {
        "id": "N4gEWf4BlBd2",
        "colab_type": "text"
      },
      "source": [
        "### a) Support Machine Vector\n",
        "- Check with Radial as well versus linear and compare results\n"
      ]
    },
    {
      "cell_type": "code",
      "metadata": {
        "colab_type": "code",
        "id": "VieOHWCc_bkw",
        "colab": {}
      },
      "source": [
        "# columns = ['bidopen', 'bidclose', 'bidhigh', 'bidlow', 'askopen', 'askclose',\n",
        "#        'askhigh', 'asklow', 'tickqty', 'US_Daily_Interest_Rate', 'JPY_Daily_Interest_Rate', 'year', 'quarter',\n",
        "#        'month', 'day', 'hour', 'spread', 'bid_close_return',\n",
        "#        'bid_close_up_down', 'bid_close_rolling_mean_1',\n",
        "#        'bid_close_rolling_mean_2', \n",
        "#        'bid_high_rolling_mean_1', 'bid_high_rolling_mean_2', 'bid_high_next']\n",
        "# labels = df['bid_high_up_down'].values #bid_high_next 'bid_close_return',  'bid_high_up_down'\n",
        "# features = df[list(columns)].values\n",
        "\n",
        "# min_max = MinMaxScaler()\n",
        "# newfeatures = min_max.fit_transform(features)\n",
        "# X_train, X_test, y_train, y_test = train_test_split(newfeatures, labels, test_size=0.1)"
      ],
      "execution_count": 0,
      "outputs": []
    },
    {
      "cell_type": "code",
      "metadata": {
        "id": "_qKq_fzhi-Pb",
        "colab_type": "code",
        "colab": {}
      },
      "source": [
        "# clf = svm.SVC(kernel='linear')\n",
        "# clf = clf.fit(X_train, y_train)\n",
        "\n",
        "# accuracy = clf.score(X_train, y_train)\n",
        "# print (' training data accuracy ', accuracy*100)\n",
        "\n",
        "# accuracy = clf.score(X_test, y_test)\n",
        "# print (' testing data accuracy ', accuracy*100)\n",
        "\n",
        "# ypredict = clf.predict(X_train)\n",
        "# print ('\\n Training classification report\\n', classification_report(y_train, ypredict))\n",
        "\n",
        "# ypredict = clf.predict(X_test)\n",
        "# print ('\\n Testing classification report\\n', classification_report(y_test, ypredict))"
      ],
      "execution_count": 0,
      "outputs": []
    },
    {
      "cell_type": "markdown",
      "metadata": {
        "id": "Bq1Fkk7jHHgw",
        "colab_type": "text"
      },
      "source": [
        "### c) LSTM\n",
        "\n",
        "LSTMs selected as it's frequently used to model time series forecasting problems."
      ]
    },
    {
      "cell_type": "markdown",
      "metadata": {
        "id": "_RAuYRBSHncI",
        "colab_type": "text"
      },
      "source": [
        "Specify dependent and independent variables, scale and split"
      ]
    },
    {
      "cell_type": "markdown",
      "metadata": {
        "id": "fzOmLINRChwP",
        "colab_type": "text"
      },
      "source": [
        "### Split and Scale the Features"
      ]
    },
    {
      "cell_type": "code",
      "metadata": {
        "id": "8Loh1QSFnWfF",
        "colab_type": "code",
        "colab": {}
      },
      "source": [
        "df.columns"
      ],
      "execution_count": 0,
      "outputs": []
    },
    {
      "cell_type": "code",
      "metadata": {
        "id": "2oLIwAbjrI2A",
        "colab_type": "code",
        "colab": {}
      },
      "source": [
        "df[0:5]"
      ],
      "execution_count": 0,
      "outputs": []
    },
    {
      "cell_type": "code",
      "metadata": {
        "id": "fwks7HtPn5AP",
        "colab_type": "code",
        "colab": {}
      },
      "source": [
        "#Check column index for ask low next and bigh hid next\n",
        "df.iloc[:,36][0:5]\n",
        "# forex_data.iloc[:,][0:5]\n",
        "#Bid high next - 26\n",
        "#Ask hih next - 36"
      ],
      "execution_count": 0,
      "outputs": []
    },
    {
      "cell_type": "markdown",
      "metadata": {
        "id": "EpByKjijtzW_",
        "colab_type": "text"
      },
      "source": [
        "#### a) Split the train and test"
      ]
    },
    {
      "cell_type": "code",
      "metadata": {
        "id": "5EqMrpW63RS1",
        "colab_type": "code",
        "colab": {}
      },
      "source": [
        "def  split_train_test(bid_or_ask,train_percentage,test_percentage):\n",
        "  '''\n",
        "  Split train or test depending on whether it's ask or bid\n",
        "  '''\n",
        "              # removed asklow_next\n",
        "  # bid_cols = ['bidopen', 'bidclose', 'bidhigh', 'bidlow', 'askopen', 'askclose','askhigh', 'asklow', 'tickqty','bid_high_next','US_Daily_Interest_Rate','JPY_Daily_Interest_Rate',\n",
        "  #      'year', 'quarter', 'month', 'day', 'hour',\n",
        "  #      'spread', 'bid_high_return', 'bid_high_up_down',\n",
        "  #      'bid_high_rolling_mean_20', 'bid_high_rolling_mean_50',\n",
        "  #      'bid_high_rolling_mean_120']\n",
        "  # bid_cols = ['bidopen', 'bidclose', 'bidhigh', 'bidlow', 'askopen', 'askclose',\n",
        "  #      'askhigh', 'asklow', 'tickqty', 'US_Daily_Interest_Rate',\n",
        "  #      'JPY_Daily_Interest_Rate', 'year', 'quarter', 'month', 'day', 'hour',\n",
        "  #      'spread', 'bid_high_return', 'bid_high_up_down',\n",
        "  #      'bid_high_rolling_mean_20', 'bid_high_rolling_mean_50',\n",
        "  #      'bid_high_rolling_mean_120', 'bid_avg', 'bid_range', 'bid_ohlc_price',\n",
        "  #      'bid_diff', 'bid_high_next', 'ask_low_return', 'ask_low_up_down',\n",
        "  #      'ask_low_rolling_mean_20', 'ask_low_rolling_mean_50',\n",
        "  #      'ask_low_rolling_mean_120', 'ask_avg', 'ask_range', 'ask_ohlc_price',\n",
        "  #      'ask_diff'] \n",
        "\n",
        "  bid_cols = ['bidopen', 'bidclose', 'bidhigh', 'bidlow', 'askopen', 'askclose',\n",
        "       'askhigh', 'asklow', 'tickqty', 'US_Daily_Interest_Rate',\n",
        "       'JPY_Daily_Interest_Rate', 'year', 'quarter', 'month', 'day', 'hour',\n",
        "       'spread', 'bid_high_return', 'bid_high_up_down',\n",
        "       'bid_high_rolling_mean_20', 'bid_high_rolling_mean_50',\n",
        "       'bid_high_rolling_mean_120', 'bid_avg', 'bid_range', 'bid_ohlc_price',\n",
        "       'bid_diff', 'ask_low_return', 'ask_low_up_down',\n",
        "       'ask_low_rolling_mean_20', 'ask_low_rolling_mean_50',\n",
        "       'ask_low_rolling_mean_120', 'ask_avg', 'ask_range', 'ask_ohlc_price',\n",
        "       'ask_diff', 'bid_high_next']\n",
        "\n",
        "        # Removed bidhigh_next\n",
        "  ask_cols = ['bidopen', 'bidclose', 'bidhigh', 'bidlow', 'askopen', 'askclose',\n",
        "       'askhigh', 'asklow', 'tickqty', 'US_Daily_Interest_Rate',\n",
        "       'JPY_Daily_Interest_Rate', 'year', 'quarter', 'month', 'day', 'hour',\n",
        "       'spread', 'bid_high_return', 'bid_high_up_down',\n",
        "       'bid_high_rolling_mean_20', 'bid_high_rolling_mean_50',\n",
        "       'bid_high_rolling_mean_120', 'bid_avg', 'bid_range', 'bid_ohlc_price',\n",
        "       'bid_diff', 'ask_low_return', 'ask_low_up_down',\n",
        "       'ask_low_rolling_mean_20', 'ask_low_rolling_mean_50',\n",
        "       'ask_low_rolling_mean_120', 'ask_avg', 'ask_range', 'ask_ohlc_price',\n",
        "       'ask_diff', 'asklow_next']\n",
        "\n",
        "  if bid_or_ask == 'bid':\n",
        "      cols = bid_cols\n",
        "  else:\n",
        "      cols = ask_cols\n",
        "\n",
        "  #Split using 80 20 ratio.\n",
        "#  df_train, df_test = train_test_split(df, train_size=0.6, test_size=0.4, shuffle=False)\n",
        "  df_train, df_test = train_test_split(df, train_size=train_percentage, test_size=test_percentage, shuffle=False)\n",
        "  print(\"Train and Test size\", len(df_train), len(df_test))\n",
        "\n",
        "  # Scale the feature MinMax, build array\n",
        "\n",
        "  x = df_train.loc[:,cols].values\n",
        "  min_max_scaler = MinMaxScaler()\n",
        "  x_train = min_max_scaler.fit_transform(x)\n",
        "  x_test = min_max_scaler.transform(df_test.loc[:,cols])\n",
        "\n",
        "  return (x_train,x_test,min_max_scaler)"
      ],
      "execution_count": 0,
      "outputs": []
    },
    {
      "cell_type": "markdown",
      "metadata": {
        "id": "P4aWZB6bOglH",
        "colab_type": "text"
      },
      "source": [
        "#### b) Convert train test data to time series. "
      ]
    },
    {
      "cell_type": "markdown",
      "metadata": {
        "id": "puVys_RIpor3",
        "colab_type": "text"
      },
      "source": [
        "Splits data into multiple samples where each sample has a specified number of time steps and the output is a dependent and independent variable time steps input output."
      ]
    },
    {
      "cell_type": "markdown",
      "metadata": {
        "id": "5-s2WCpHqw4R",
        "colab_type": "text"
      },
      "source": [
        "Splits the train and test data into 3 dimenstional array. \n",
        "\n",
        "-> Batch Size - how many samples of input will Neural Net see before updating the weights.\n",
        "\n",
        "-> Time Steps define how many units back in time you want the network to see.\n",
        "\n",
        "-> Features is the number of attributes used to represent each time step.\n"
      ]
    },
    {
      "cell_type": "code",
      "metadata": {
        "id": "No6SbNcXgp3g",
        "colab_type": "code",
        "colab": {}
      },
      "source": [
        "def build_timeseries(forex_data, y_col_index, time_steps):\n",
        "    \"\"\"\n",
        "    y_col_index is the index of column that would act as output column\n",
        "    # total number of time-series samples would be len(forex_data) - time steps\n",
        "    \"\"\"\n",
        "    dim_0 = forex_data.shape[0] - time_steps\n",
        "    dim_1 = forex_data.shape[1]\n",
        "    x = np.zeros((dim_0, time_steps, dim_1))\n",
        "    y = np.zeros((dim_0,))\n",
        "    \n",
        "    for i in tqdm_notebook(range(dim_0)):\n",
        "        x[i] = forex_data[i:time_steps+i]\n",
        "        y[i] = forex_data[time_steps+i, y_col_index]\n",
        "    print(\"length of time-series i/o\",x.shape,y.shape)\n",
        "    return x, y\n",
        "\n",
        "\n",
        "def trim_dataset(forex_data, batch_size):\n",
        "    \"\"\"\n",
        "    trims dataset to a size that's divisible by BATCH_SIZE\n",
        "    \"\"\"\n",
        "    no_of_rows_drop = forex_data.shape[0]%batch_size\n",
        "    if(no_of_rows_drop > 0):\n",
        "        print(\"Number of rows to drop:\", no_of_rows_drop)\n",
        "        return forex_data[:-no_of_rows_drop]\n",
        "    else:\n",
        "        return forex_data"
      ],
      "execution_count": 0,
      "outputs": []
    },
    {
      "cell_type": "code",
      "metadata": {
        "id": "-MmeUokB4Arh",
        "colab_type": "code",
        "colab": {}
      },
      "source": [
        "def convert_train_test_timeseries(bid_or_ask):\n",
        "\n",
        "  if bid_or_ask == 'bid':\n",
        "      label_column_idx = BID_HIGH_NEXT_COLUMN_IDX\n",
        "  else:\n",
        "      label_column_idx = ASKLOW_NEXT_COLUMN_IDX\n",
        "\n",
        "  x_train_time_series, y_train_time_series = build_timeseries(x_train, label_column_idx, TIME_STEPS\n",
        "  \n",
        "  )\n",
        "  x_train_time_series = trim_dataset(x_train_time_series, BATCH_SIZE)\n",
        "\n",
        "  y_train_time_series = trim_dataset(y_train_time_series, BATCH_SIZE)\n",
        "\n",
        "  ## Test data set timeseries split\n",
        "  x_test_time_series, y_test_time_series = build_timeseries(x_test, 3, TIME_STEPS)\n",
        "  #Split the data into test and validation by half\n",
        "  x_val, x_test_t = np.split(trim_dataset(x_test_time_series, BATCH_SIZE),2)\n",
        "  y_val, y_test_t = np.split(trim_dataset(y_test_time_series, BATCH_SIZE),2)\n",
        "  return x_train_time_series,y_train_time_series, x_val, x_test_t,y_val, y_test_t"
      ],
      "execution_count": 0,
      "outputs": []
    },
    {
      "cell_type": "markdown",
      "metadata": {
        "id": "OZHTNyNmuqpi",
        "colab_type": "text"
      },
      "source": [
        "#### c) Define an LSTM sequential model"
      ]
    },
    {
      "cell_type": "code",
      "metadata": {
        "id": "XNSCLYz-4pNI",
        "colab_type": "code",
        "colab": {}
      },
      "source": [
        "# Define an LSTM sequential model\n",
        "#ACTION: Consider adding more LSTM layers. Had added but was getting dimension error on second layer.\n",
        "def create_model(batch_size,time_steps,lr,features):\n",
        "  model = Sequential()\n",
        "  model.add(LSTM(64, batch_input_shape=(batch_size, time_steps, features), dropout=0.0, recurrent_dropout=0.0, stateful=True, kernel_initializer='random_uniform',return_sequences=True)) #\n",
        "  model.add(Dropout(0.4))\n",
        "  #model.add(Dense(20,activation='relu'))\n",
        "  model.add(Dense(1,activation='sigmoid'))\n",
        "  opt = RMSprop(lr=lr)\n",
        "  model.compile(loss='mean_squared_error', optimizer=opt) #,metrics=['accuracy']\n",
        "  return model\n",
        "\n"
      ],
      "execution_count": 0,
      "outputs": []
    },
    {
      "cell_type": "code",
      "metadata": {
        "id": "eMxJz19r16jW",
        "colab_type": "code",
        "colab": {}
      },
      "source": [
        "# def create_model(batch_size,time_steps,lr,features):\n",
        "#   model = Sequential()\n",
        "#   model.add(LSTM(100, return_sequences=True, batch_input_shape=(batch_size, time_steps, features), dropout=0.0, recurrent_dropout=0.0, stateful=True, kernel_initializer='random_uniform')) #return_sequences=True,\n",
        "#   model.add(Dropout(0.4))\n",
        "#   model.add(LSTM(32, return_sequences=True)) \n",
        "#   model.add(Dropout(0.4))\n",
        "#   model.add(Dense(20,activation='relu'))\n",
        "#   model.add(Dense(1,activation='sigmoid'))\n",
        "#   opt = RMSprop(lr=lr)\n",
        "#   model.compile(loss='mean_squared_error', optimizer=opt) #,metrics=['accuracy']\n",
        "#   return model"
      ],
      "execution_count": 0,
      "outputs": []
    },
    {
      "cell_type": "code",
      "metadata": {
        "id": "_aTCGdZo6d7j",
        "colab_type": "code",
        "colab": {}
      },
      "source": [
        "# def create_model(batch_size,time_steps,lr,features):\n",
        "#   model = Sequential()\n",
        "#   model.add(LSTM(256, return_sequences=True, batch_input_shape=(batch_size, time_steps, features), dropout=0.0, recurrent_dropout=0.0, stateful=True, kernel_initializer='random_uniform')) #return_sequences=True,\n",
        "#   model.add(Dropout(0.4))\n",
        "#   model.add(LSTM(256, return_sequences=True)) \n",
        "#   model.add(Dropout(0.4))\n",
        "#   model.add(Dense(20,activation='relu'))\n",
        "#   model.add(Dense(1,activation='sigmoid'))\n",
        "#   opt = RMSprop(lr=lr)\n",
        "#   model.compile(loss='mean_squared_error', optimizer=opt) #,metrics=['accuracy']\n",
        "#   return model"
      ],
      "execution_count": 0,
      "outputs": []
    },
    {
      "cell_type": "markdown",
      "metadata": {
        "id": "VExiMHXSJlRD",
        "colab_type": "text"
      },
      "source": [
        "Fit the Model"
      ]
    },
    {
      "cell_type": "code",
      "metadata": {
        "id": "uz483K-XIqWb",
        "colab_type": "code",
        "colab": {}
      },
      "source": [
        "def fit_model(model_name,x_train_time_series,y_train_time_series,x_val,y_val):\n",
        "  #Log results to a file.\n",
        "  csv_logger = CSVLogger('training log')\n",
        "  # Early stopping :Monitor model performance on a validation set and stop training when performance degrades.\n",
        "  es = EarlyStopping(monitor='val_loss', mode='min', verbose=1,patience=40, min_delta=0.0001)\n",
        "  # Save model best model as 'save_best_only=True'\n",
        "  mcp = ModelCheckpoint(os.path.join(model_name), monitor='val_loss', verbose=1, save_best_only=True, save_weights_only=False, mode='min', period=1)\n",
        "  \n",
        "  history = model.fit(x_train_time_series, y_train_time_series, epochs=LSTM_MOD_EPOCHS, verbose=2, batch_size=BATCH_SIZE,\n",
        "                    shuffle=False, validation_data=(trim_dataset(x_val, BATCH_SIZE),\n",
        "                    trim_dataset(y_val, BATCH_SIZE)), callbacks=[es, mcp,csv_logger])\n",
        "  return history"
      ],
      "execution_count": 0,
      "outputs": []
    },
    {
      "cell_type": "markdown",
      "metadata": {
        "id": "Mc3SKuu07M6O",
        "colab_type": "text"
      },
      "source": [
        "Plot Train and Validation Loss"
      ]
    },
    {
      "cell_type": "code",
      "metadata": {
        "id": "1l6iq8jL7Py8",
        "colab_type": "code",
        "colab": {}
      },
      "source": [
        "def plot_model_train_history(history):\n",
        "  # summarize history for loss\n",
        "  plt.figure(figsize = (18,9))\n",
        "  plt.plot(history.history['loss'])\n",
        "  plt.plot(history.history['val_loss'])\n",
        "  plt.title('model loss')\n",
        "  plt.ylabel('loss')\n",
        "  plt.xlabel('epoch')\n",
        "  plt.legend(['train', 'test'], loc='upper left')\n",
        "  plt.show()"
      ],
      "execution_count": 0,
      "outputs": []
    },
    {
      "cell_type": "markdown",
      "metadata": {
        "id": "Ik_xxEOqUyrT",
        "colab_type": "text"
      },
      "source": [
        "Prediction"
      ]
    },
    {
      "cell_type": "code",
      "metadata": {
        "id": "W2CFuDT_U1P5",
        "colab_type": "code",
        "colab": {}
      },
      "source": [
        "def prediction_from_test_date(x_test_t,y_test_t, scaler):\n",
        "  y_pred = model.predict(trim_dataset(x_test_t, BATCH_SIZE), batch_size=BATCH_SIZE)\n",
        "  y_pred = y_pred.flatten()\n",
        "\n",
        "  y_test_t = trim_dataset(y_test_t, BATCH_SIZE)\n",
        "\n",
        "  error = mean_squared_error(y_test_t, y_pred)\n",
        "  print(\"Error is\", error)\n",
        "  \n",
        "\n",
        "  # Convert the predicted value to range of real data\n",
        "  y_pred_org = (y_pred * scaler.data_range_[3]) + scaler.data_min_[3]\n",
        "  y_test_t_org = (y_test_t * scaler.data_range_[3]) + scaler.data_min_[3]\n",
        "  return (y_pred_org,y_test_t_org)"
      ],
      "execution_count": 0,
      "outputs": []
    },
    {
      "cell_type": "markdown",
      "metadata": {
        "id": "WNP9p8vGXiXc",
        "colab_type": "text"
      },
      "source": [
        "Plot Test Versus Predicted Outcome"
      ]
    },
    {
      "cell_type": "code",
      "metadata": {
        "id": "tgioNn79XsYh",
        "colab_type": "code",
        "colab": {}
      },
      "source": [
        "def plot_pred_versus_test(y_pred,y_test):\n",
        "  plt.figure(figsize = (18,9))\n",
        "  plt.plot(y_pred)\n",
        "  plt.plot(y_test)\n",
        "  plt.title('Prediction vs Real Stock Price', fontsize=20)\n",
        "  plt.ylabel('Bid Price', fontsize=16)\n",
        "  plt.xlabel('Price Instances', fontsize=16)\n",
        "  plt.legend(['Prediction', 'Real'], loc='upper right', fontsize=16)\n",
        "  plt.show()"
      ],
      "execution_count": 0,
      "outputs": []
    },
    {
      "cell_type": "markdown",
      "metadata": {
        "id": "QDSFY9CpKi8s",
        "colab_type": "text"
      },
      "source": [
        "d) Execute the Model\n",
        "*   Split Train and Test\n",
        "*   Convert dependent and independent train test labels  into timeseries\n",
        "*   Split test into validation and test\n",
        "*   Define the model\n",
        "*   Fit the model\n",
        "*   Evaluate test results.\n",
        "\n",
        "\n",
        "\n",
        "\n",
        "\n"
      ]
    },
    {
      "cell_type": "code",
      "metadata": {
        "id": "WC56uB_XWf45",
        "colab_type": "code",
        "colab": {}
      },
      "source": [
        "TIME_STEPS = 20\n",
        "BATCH_SIZE = 20\n",
        "LSTM_MOD_EPOCHS = 20\n",
        "LEARNING_RATE = 0.0001\n",
        "#BID_HIGH_NEXT_COLUMN_IDX =26\n",
        "BID_HIGH_NEXT_COLUMN_IDX = 35 #9\n",
        "ASKLOW_NEXT_COLUMN_IDX =35\n",
        "test_percentage = 0.2\n",
        "train_percentage = 0.8"
      ],
      "execution_count": 0,
      "outputs": []
    },
    {
      "cell_type": "markdown",
      "metadata": {
        "id": "X3xxJ-Br4kFZ",
        "colab_type": "text"
      },
      "source": [
        "#### Bid High Price Model"
      ]
    },
    {
      "cell_type": "code",
      "metadata": {
        "id": "ikVb_2ndYkiv",
        "colab_type": "code",
        "colab": {}
      },
      "source": [
        "# Split\n",
        "x_train,x_test,bid_scaler = split_train_test('bid',train_percentage,test_percentage)"
      ],
      "execution_count": 0,
      "outputs": []
    },
    {
      "cell_type": "code",
      "metadata": {
        "id": "VZ43KGr5XYm_",
        "colab_type": "code",
        "colab": {}
      },
      "source": [
        "# Convert to timeseries\n",
        "x_bid_train_time_series,y_bid_train_time_series, x_bid_val, x_bid_test_t,y_bid_val, y_bid_test_t = convert_train_test_timeseries('bid') \n",
        "#Define model\n",
        "model = create_model(BATCH_SIZE,TIME_STEPS,LEARNING_RATE,x_bid_train_time_series.shape[2])\n",
        "# Display the model's architecture\n",
        "model.summary()\n",
        "# Fit Model\n",
        "model_name = \"bid_high_price_model.h5\"\n",
        "bid_history = fit_model(model_name,x_bid_train_time_series,y_bid_train_time_series,x_bid_val,y_bid_val)\n",
        "plot_model_train_history(bid_history)"
      ],
      "execution_count": 0,
      "outputs": []
    },
    {
      "cell_type": "markdown",
      "metadata": {
        "id": "HOVTWhun4sLG",
        "colab_type": "text"
      },
      "source": [
        "#### Ask Low Price Model"
      ]
    },
    {
      "cell_type": "code",
      "metadata": {
        "id": "QsRGpkNW4rMG",
        "colab_type": "code",
        "colab": {}
      },
      "source": [
        "# Split\n",
        "x_train,x_test,ask_scaler = split_train_test('ask',train_percentage,test_percentage)\n",
        "# Convert to timeseries\n",
        "x_ask_train_time_series,y_ask_train_time_series, x_ask_val, x_ask_test_t,y_ask_val, y_ask_test_t = convert_train_test_timeseries('ask') \n",
        "#Define model\n",
        "model = create_model(BATCH_SIZE,TIME_STEPS,LEARNING_RATE,x_ask_train_time_series.shape[2])\n",
        "# Display the model's architecture\n",
        "model.summary()\n",
        "# Fit Model\n",
        "model_name = \"ask_low_price_model.h5\"\n",
        "ask_history = fit_model(model_name,x_ask_train_time_series,y_ask_train_time_series,x_ask_val,y_ask_val)\n",
        "plot_model_train_history(ask_history)"
      ],
      "execution_count": 0,
      "outputs": []
    },
    {
      "cell_type": "markdown",
      "metadata": {
        "id": "fVAtYg6sbC9Y",
        "colab_type": "text"
      },
      "source": [
        "Validation loss decreasing with increase in epochs."
      ]
    },
    {
      "cell_type": "markdown",
      "metadata": {
        "id": "v11MIuPb20T8",
        "colab_type": "text"
      },
      "source": [
        "To eliminate overfitting:\n",
        "\n",
        "- Increasing dropout rate\n",
        "\n",
        "- Increased/Reducing the number of epochs\n",
        "\n",
        "- Linear activation\n",
        "\n",
        "- Reduced the timesteps from 600 to 30"
      ]
    },
    {
      "cell_type": "markdown",
      "metadata": {
        "id": "lZUMH-f2LWvr",
        "colab_type": "text"
      },
      "source": [
        "# Get model Prediction"
      ]
    },
    {
      "cell_type": "markdown",
      "metadata": {
        "id": "RRygGYjJW1mh",
        "colab_type": "text"
      },
      "source": [
        "Bid Prediction"
      ]
    },
    {
      "cell_type": "code",
      "metadata": {
        "id": "R92kxfDPV_us",
        "colab_type": "code",
        "colab": {}
      },
      "source": [
        "# Get Prediction\n",
        "y_bid_pred ,y_bid_test= prediction_from_test_date(x_bid_test_t,y_bid_test_t, bid_scaler)\n",
        "\n",
        "# Plot Prediction\n",
        "plot_pred_versus_test(y_bid_pred,y_bid_test)\n",
        "\n",
        "# Display actual figures\n",
        "diff = y_bid_pred - y_bid_test\n",
        "df_bid_pred = pd.DataFrame({\"Pred\" : y_bid_pred , \"Actual\" : y_bid_test,\"Difference\" : diff})\n",
        "df_bid_pred[0:5]"
      ],
      "execution_count": 0,
      "outputs": []
    },
    {
      "cell_type": "markdown",
      "metadata": {
        "id": "A0VRwPIsW61y",
        "colab_type": "text"
      },
      "source": [
        "Ask Prediction"
      ]
    },
    {
      "cell_type": "code",
      "metadata": {
        "id": "v7fMHELlW4WP",
        "colab_type": "code",
        "colab": {}
      },
      "source": [
        "# Get Prediction\n",
        "y_ask_pred ,y_ask_test= prediction_from_test_date(x_ask_test_t,y_ask_test_t, ask_scaler)\n",
        "\n",
        "# Plot Prediction\n",
        "plot_pred_versus_test(y_ask_pred,y_ask_test)\n",
        "\n",
        "# Display actual figures\n",
        "diff = y_ask_pred - y_ask_test\n",
        "df_ask_pred = pd.DataFrame({\"Pred\" : y_ask_pred , \"Actual\" : y_ask_test,\"Difference\" : diff})\n",
        "df_ask_pred[0:5]"
      ],
      "execution_count": 0,
      "outputs": []
    },
    {
      "cell_type": "markdown",
      "metadata": {
        "id": "FcjEb8WAS79W",
        "colab_type": "text"
      },
      "source": [
        "### Create Prediction from Streaming Data"
      ]
    },
    {
      "cell_type": "markdown",
      "metadata": {
        "id": "A9IB-VpLhrMR",
        "colab_type": "text"
      },
      "source": [
        "Read Streaming Data"
      ]
    },
    {
      "cell_type": "code",
      "metadata": {
        "id": "2gwTPiHLS_wU",
        "colab_type": "code",
        "colab": {}
      },
      "source": [
        "api.subscribe_market_data('USD/JPY')"
      ],
      "execution_count": 0,
      "outputs": []
    },
    {
      "cell_type": "code",
      "metadata": {
        "id": "2EZZuOq1i_Of",
        "colab_type": "code",
        "colab": {}
      },
      "source": [
        "api.get_prices('USD/JPY')"
      ],
      "execution_count": 0,
      "outputs": []
    },
    {
      "cell_type": "markdown",
      "metadata": {
        "id": "cp41UK1Mhtwj",
        "colab_type": "text"
      },
      "source": [
        "Create streaming data to independent variable format"
      ]
    },
    {
      "cell_type": "code",
      "metadata": {
        "id": "1LEU8AOeh37P",
        "colab_type": "code",
        "colab": {}
      },
      "source": [
        ""
      ],
      "execution_count": 0,
      "outputs": []
    },
    {
      "cell_type": "markdown",
      "metadata": {
        "id": "1Ck_Nv4ih11f",
        "colab_type": "text"
      },
      "source": [
        "Bid Prediction"
      ]
    },
    {
      "cell_type": "code",
      "metadata": {
        "id": "7tQyWLiITAQv",
        "colab_type": "code",
        "colab": {}
      },
      "source": [
        ""
      ],
      "execution_count": 0,
      "outputs": []
    },
    {
      "cell_type": "markdown",
      "metadata": {
        "id": "O3tIJua2h6cE",
        "colab_type": "text"
      },
      "source": [
        "Ask Prediction"
      ]
    },
    {
      "cell_type": "code",
      "metadata": {
        "id": "jK5oISoQh7X-",
        "colab_type": "code",
        "colab": {}
      },
      "source": [
        ""
      ],
      "execution_count": 0,
      "outputs": []
    },
    {
      "cell_type": "markdown",
      "metadata": {
        "id": "GBs6bwgUjvAU",
        "colab_type": "text"
      },
      "source": [
        "### Make Orders"
      ]
    },
    {
      "cell_type": "markdown",
      "metadata": {
        "id": "UX16iZ1njzcq",
        "colab_type": "text"
      },
      "source": [
        "Open Positions"
      ]
    },
    {
      "cell_type": "code",
      "metadata": {
        "id": "ojzoBz2VjxJB",
        "colab_type": "code",
        "colab": {}
      },
      "source": [
        "api.get_open_positions()"
      ],
      "execution_count": 0,
      "outputs": []
    },
    {
      "cell_type": "markdown",
      "metadata": {
        "id": "O_a0eLAVj2pa",
        "colab_type": "text"
      },
      "source": [
        "Create Buy Order"
      ]
    },
    {
      "cell_type": "code",
      "metadata": {
        "id": "l9mDPfbjj4X4",
        "colab_type": "code",
        "colab": {}
      },
      "source": [
        "api.create_market_buy_order('USD/JPY', (10))\n",
        "api.get_open_positions()"
      ],
      "execution_count": 0,
      "outputs": []
    },
    {
      "cell_type": "markdown",
      "metadata": {
        "id": "JRhLqwr0j6Ml",
        "colab_type": "text"
      },
      "source": [
        "Create Sell Order"
      ]
    },
    {
      "cell_type": "code",
      "metadata": {
        "id": "I_4R2TY4j7kH",
        "colab_type": "code",
        "colab": {}
      },
      "source": [
        "api.create_market_sell_order('USD/JPY', (100))\n",
        "api.get_open_positions()"
      ],
      "execution_count": 0,
      "outputs": []
    },
    {
      "cell_type": "markdown",
      "metadata": {
        "id": "ZBv1c-eDnTPW",
        "colab_type": "text"
      },
      "source": [
        "Buy Sell Engine"
      ]
    },
    {
      "cell_type": "code",
      "metadata": {
        "id": "3h7iefp2lKZs",
        "colab_type": "code",
        "colab": {}
      },
      "source": [
        "sel = ['tradeId', 'amountK', 'currency', 'grossPL', 'isBuy']\n",
        "for _ in range(5):\n",
        "    print(50 * '=')\n",
        "    print('TRADE NO {}'.format(_))\n",
        "    # GET DATA FOR LAST HOUR\n",
        "    # GET PREDICTED ASK LOW AND BID HIGH PRICES\n",
        "    \n",
        "    ## GET STREAMING DATA\n",
        "    ## If CURRENT ASK DATA IS NEAR PREDICTED LOW FOR THE HOUR\n",
        "    ## BUY\n",
        "    order = api.create_market_buy_order('USD/JPY', 100)\n",
        "    time.sleep(1)\n",
        "    ## VIEW POSITION\n",
        "    print('POSITIONS\\n', api.get_open_positions()[sel])\n",
        "    time.sleep(7)\n",
        "\n",
        "    ## IF CURRENT BID DATA IS NEAR THE PREDICTED POSITION, BUY\n",
        "    api.close_all_for_symbol('USD/JPY')\n",
        "\n",
        "    print('POSITIONS\\n', api.get_open_positions())\n",
        "    time.sleep(7)"
      ],
      "execution_count": 0,
      "outputs": []
    },
    {
      "cell_type": "markdown",
      "metadata": {
        "id": "eyyRquO6ZqJF",
        "colab_type": "text"
      },
      "source": [
        "### Conclusion"
      ]
    },
    {
      "cell_type": "markdown",
      "metadata": {
        "id": "0zyMYS4pZv_m",
        "colab_type": "text"
      },
      "source": [
        "- Mean square errors (MSE) are very close to each other between training and validation datasets.\n",
        "\n",
        "- Outlier loss is observed at x epoch for the validation dataset.\n",
        "\n",
        "- The best MSE is x for validation and the model also yielded the x on the test dataset."
      ]
    },
    {
      "cell_type": "markdown",
      "metadata": {
        "id": "PmHAy7EVIsKk",
        "colab_type": "text"
      },
      "source": [
        "# Backtesting"
      ]
    },
    {
      "cell_type": "markdown",
      "metadata": {
        "id": "dk_2vBawJISm",
        "colab_type": "text"
      },
      "source": [
        "Backtesting.py is a Python framework for inferring viability of trading strategies on historical (past) data. Of course, past performance is not indicative of future results, but a strategy that proves itself resilient in a multitude of market conditions can, with a little luck, remain just as reliable in the future. Improved upon the vision of Backtrader, and by all means surpassingly comparable to other accessible alternatives, Backtesting.py is lightweight, fast, user-friendly, intuitive, interactive, intelligent and, hopefully, future-proof. It is also documented well, including a handful of tutorials."
      ]
    },
    {
      "cell_type": "code",
      "metadata": {
        "id": "MDxOzQg-Iq2f",
        "colab_type": "code",
        "colab": {
          "base_uri": "https://localhost:8080/",
          "height": 523
        },
        "outputId": "5b99356c-0836-454a-9492-90a5bb12d93d"
      },
      "source": [
        "#!pip3 install backtesting"
      ],
      "execution_count": 4,
      "outputs": [
        {
          "output_type": "stream",
          "text": [
            "Requirement already satisfied: backtesting in /usr/local/lib/python3.6/dist-packages (0.1.7)\n",
            "Requirement already satisfied: pandas!=0.25.0,>=0.25.0 in /usr/local/lib/python3.6/dist-packages (from backtesting) (1.0.3)\n",
            "Requirement already satisfied: numpy in /usr/local/lib/python3.6/dist-packages (from backtesting) (1.18.2)\n",
            "Requirement already satisfied: bokeh>=1.4.0 in /usr/local/lib/python3.6/dist-packages (from backtesting) (1.4.0)\n",
            "Requirement already satisfied: pytz>=2017.2 in /usr/local/lib/python3.6/dist-packages (from pandas!=0.25.0,>=0.25.0->backtesting) (2018.9)\n",
            "Requirement already satisfied: python-dateutil>=2.6.1 in /usr/local/lib/python3.6/dist-packages (from pandas!=0.25.0,>=0.25.0->backtesting) (2.8.1)\n",
            "Requirement already satisfied: six>=1.5.2 in /usr/local/lib/python3.6/dist-packages (from bokeh>=1.4.0->backtesting) (1.12.0)\n",
            "Requirement already satisfied: PyYAML>=3.10 in /usr/local/lib/python3.6/dist-packages (from bokeh>=1.4.0->backtesting) (3.13)\n",
            "Requirement already satisfied: tornado>=4.3 in /usr/local/lib/python3.6/dist-packages (from bokeh>=1.4.0->backtesting) (4.5.3)\n",
            "Requirement already satisfied: pillow>=4.0 in /usr/local/lib/python3.6/dist-packages (from bokeh>=1.4.0->backtesting) (7.0.0)\n",
            "Requirement already satisfied: packaging>=16.8 in /usr/local/lib/python3.6/dist-packages (from bokeh>=1.4.0->backtesting) (20.3)\n",
            "Requirement already satisfied: Jinja2>=2.7 in /usr/local/lib/python3.6/dist-packages (from bokeh>=1.4.0->backtesting) (2.11.2)\n",
            "Requirement already satisfied: pyparsing>=2.0.2 in /usr/local/lib/python3.6/dist-packages (from packaging>=16.8->bokeh>=1.4.0->backtesting) (2.4.7)\n",
            "Requirement already satisfied: MarkupSafe>=0.23 in /usr/local/lib/python3.6/dist-packages (from Jinja2>=2.7->bokeh>=1.4.0->backtesting) (1.1.1)\n",
            "Requirement already satisfied: backtesting in /usr/local/lib/python3.6/dist-packages (0.1.7)\n",
            "Requirement already satisfied: pandas!=0.25.0,>=0.25.0 in /usr/local/lib/python3.6/dist-packages (from backtesting) (1.0.3)\n",
            "Requirement already satisfied: bokeh>=1.4.0 in /usr/local/lib/python3.6/dist-packages (from backtesting) (1.4.0)\n",
            "Requirement already satisfied: numpy in /usr/local/lib/python3.6/dist-packages (from backtesting) (1.18.2)\n",
            "Requirement already satisfied: pytz>=2017.2 in /usr/local/lib/python3.6/dist-packages (from pandas!=0.25.0,>=0.25.0->backtesting) (2018.9)\n",
            "Requirement already satisfied: python-dateutil>=2.6.1 in /usr/local/lib/python3.6/dist-packages (from pandas!=0.25.0,>=0.25.0->backtesting) (2.8.1)\n",
            "Requirement already satisfied: tornado>=4.3 in /usr/local/lib/python3.6/dist-packages (from bokeh>=1.4.0->backtesting) (4.5.3)\n",
            "Requirement already satisfied: Jinja2>=2.7 in /usr/local/lib/python3.6/dist-packages (from bokeh>=1.4.0->backtesting) (2.11.2)\n",
            "Requirement already satisfied: PyYAML>=3.10 in /usr/local/lib/python3.6/dist-packages (from bokeh>=1.4.0->backtesting) (3.13)\n",
            "Requirement already satisfied: packaging>=16.8 in /usr/local/lib/python3.6/dist-packages (from bokeh>=1.4.0->backtesting) (20.3)\n",
            "Requirement already satisfied: pillow>=4.0 in /usr/local/lib/python3.6/dist-packages (from bokeh>=1.4.0->backtesting) (7.0.0)\n",
            "Requirement already satisfied: six>=1.5.2 in /usr/local/lib/python3.6/dist-packages (from bokeh>=1.4.0->backtesting) (1.12.0)\n",
            "Requirement already satisfied: MarkupSafe>=0.23 in /usr/local/lib/python3.6/dist-packages (from Jinja2>=2.7->bokeh>=1.4.0->backtesting) (1.1.1)\n",
            "Requirement already satisfied: pyparsing>=2.0.2 in /usr/local/lib/python3.6/dist-packages (from packaging>=16.8->bokeh>=1.4.0->backtesting) (2.4.7)\n"
          ],
          "name": "stdout"
        }
      ]
    },
    {
      "cell_type": "markdown",
      "metadata": {
        "id": "khC98THBKQn_",
        "colab_type": "text"
      },
      "source": [
        "The example shows a simple, unoptimized moving average cross-over strategy. It's a common introductory strategy and a pretty decent strategy overall, provided the market isn't whipsawing sideways.\n",
        "\n",
        "We begin with 10,000 units of currency in cash, realistic 0.2% broker commission, and we trade through 9 years worth of Alphabet Inc. stock.\n",
        "\n",
        "Whenever the fast, 10-period simple moving average of closing prices crosses above the slower, 30-period moving average, we go long, buying as many stocks as we can afford. When it crosses below, we close our long position and go short (assuming the underlying instrument is actually a CFD and can be shorted).\n",
        "\n",
        "We record most significant statistics this simple system produces on our data, and we show a plot for further manual inspection."
      ]
    },
    {
      "cell_type": "code",
      "metadata": {
        "id": "SxI5dq1RJVz0",
        "colab_type": "code",
        "colab": {
          "base_uri": "https://localhost:8080/",
          "height": 707
        },
        "outputId": "69e4e282-ad99-4b08-9921-c10daec4f756"
      },
      "source": [
        "from backtesting import Backtest, Strategy\n",
        "from backtesting.lib import crossover\n",
        "\n",
        "from backtesting.test import SMA, GOOG\n",
        "\n",
        "\n",
        "class SmaCross(Strategy):\n",
        "    n1 = 10\n",
        "    n2 = 30\n",
        "\n",
        "    def init(self):\n",
        "        self.sma1 = self.I(SMA, self.data.Close, self.n1)\n",
        "        self.sma2 = self.I(SMA, self.data.Close, self.n2)\n",
        "\n",
        "    def next(self):\n",
        "        if crossover(self.sma1, self.sma2):\n",
        "            self.buy()\n",
        "        elif crossover(self.sma2, self.sma1):\n",
        "            self.sell()\n",
        "\n",
        "\n",
        "bt = Backtest(GOOG, SmaCross, cash=10000, commission=.002)\n",
        "\n",
        "output = bt.run()\n",
        "bt.plot()"
      ],
      "execution_count": 6,
      "outputs": [
        {
          "output_type": "display_data",
          "data": {
            "application/javascript": [
              "\n",
              "(function(root) {\n",
              "  function now() {\n",
              "    return new Date();\n",
              "  }\n",
              "\n",
              "  var force = true;\n",
              "\n",
              "  if (typeof root._bokeh_onload_callbacks === \"undefined\" || force === true) {\n",
              "    root._bokeh_onload_callbacks = [];\n",
              "    root._bokeh_is_loading = undefined;\n",
              "  }\n",
              "\n",
              "  var JS_MIME_TYPE = 'application/javascript';\n",
              "  var HTML_MIME_TYPE = 'text/html';\n",
              "  var EXEC_MIME_TYPE = 'application/vnd.bokehjs_exec.v0+json';\n",
              "  var CLASS_NAME = 'output_bokeh rendered_html';\n",
              "\n",
              "  /**\n",
              "   * Render data to the DOM node\n",
              "   */\n",
              "  function render(props, node) {\n",
              "    var script = document.createElement(\"script\");\n",
              "    node.appendChild(script);\n",
              "  }\n",
              "\n",
              "  /**\n",
              "   * Handle when an output is cleared or removed\n",
              "   */\n",
              "  function handleClearOutput(event, handle) {\n",
              "    var cell = handle.cell;\n",
              "\n",
              "    var id = cell.output_area._bokeh_element_id;\n",
              "    var server_id = cell.output_area._bokeh_server_id;\n",
              "    // Clean up Bokeh references\n",
              "    if (id != null && id in Bokeh.index) {\n",
              "      Bokeh.index[id].model.document.clear();\n",
              "      delete Bokeh.index[id];\n",
              "    }\n",
              "\n",
              "    if (server_id !== undefined) {\n",
              "      // Clean up Bokeh references\n",
              "      var cmd = \"from bokeh.io.state import curstate; print(curstate().uuid_to_server['\" + server_id + \"'].get_sessions()[0].document.roots[0]._id)\";\n",
              "      cell.notebook.kernel.execute(cmd, {\n",
              "        iopub: {\n",
              "          output: function(msg) {\n",
              "            var id = msg.content.text.trim();\n",
              "            if (id in Bokeh.index) {\n",
              "              Bokeh.index[id].model.document.clear();\n",
              "              delete Bokeh.index[id];\n",
              "            }\n",
              "          }\n",
              "        }\n",
              "      });\n",
              "      // Destroy server and session\n",
              "      var cmd = \"import bokeh.io.notebook as ion; ion.destroy_server('\" + server_id + \"')\";\n",
              "      cell.notebook.kernel.execute(cmd);\n",
              "    }\n",
              "  }\n",
              "\n",
              "  /**\n",
              "   * Handle when a new output is added\n",
              "   */\n",
              "  function handleAddOutput(event, handle) {\n",
              "    var output_area = handle.output_area;\n",
              "    var output = handle.output;\n",
              "\n",
              "    // limit handleAddOutput to display_data with EXEC_MIME_TYPE content only\n",
              "    if ((output.output_type != \"display_data\") || (!output.data.hasOwnProperty(EXEC_MIME_TYPE))) {\n",
              "      return\n",
              "    }\n",
              "\n",
              "    var toinsert = output_area.element.find(\".\" + CLASS_NAME.split(' ')[0]);\n",
              "\n",
              "    if (output.metadata[EXEC_MIME_TYPE][\"id\"] !== undefined) {\n",
              "      toinsert[toinsert.length - 1].firstChild.textContent = output.data[JS_MIME_TYPE];\n",
              "      // store reference to embed id on output_area\n",
              "      output_area._bokeh_element_id = output.metadata[EXEC_MIME_TYPE][\"id\"];\n",
              "    }\n",
              "    if (output.metadata[EXEC_MIME_TYPE][\"server_id\"] !== undefined) {\n",
              "      var bk_div = document.createElement(\"div\");\n",
              "      bk_div.innerHTML = output.data[HTML_MIME_TYPE];\n",
              "      var script_attrs = bk_div.children[0].attributes;\n",
              "      for (var i = 0; i < script_attrs.length; i++) {\n",
              "        toinsert[toinsert.length - 1].firstChild.setAttribute(script_attrs[i].name, script_attrs[i].value);\n",
              "      }\n",
              "      // store reference to server id on output_area\n",
              "      output_area._bokeh_server_id = output.metadata[EXEC_MIME_TYPE][\"server_id\"];\n",
              "    }\n",
              "  }\n",
              "\n",
              "  function register_renderer(events, OutputArea) {\n",
              "\n",
              "    function append_mime(data, metadata, element) {\n",
              "      // create a DOM node to render to\n",
              "      var toinsert = this.create_output_subarea(\n",
              "        metadata,\n",
              "        CLASS_NAME,\n",
              "        EXEC_MIME_TYPE\n",
              "      );\n",
              "      this.keyboard_manager.register_events(toinsert);\n",
              "      // Render to node\n",
              "      var props = {data: data, metadata: metadata[EXEC_MIME_TYPE]};\n",
              "      render(props, toinsert[toinsert.length - 1]);\n",
              "      element.append(toinsert);\n",
              "      return toinsert\n",
              "    }\n",
              "\n",
              "    /* Handle when an output is cleared or removed */\n",
              "    events.on('clear_output.CodeCell', handleClearOutput);\n",
              "    events.on('delete.Cell', handleClearOutput);\n",
              "\n",
              "    /* Handle when a new output is added */\n",
              "    events.on('output_added.OutputArea', handleAddOutput);\n",
              "\n",
              "    /**\n",
              "     * Register the mime type and append_mime function with output_area\n",
              "     */\n",
              "    OutputArea.prototype.register_mime_type(EXEC_MIME_TYPE, append_mime, {\n",
              "      /* Is output safe? */\n",
              "      safe: true,\n",
              "      /* Index of renderer in `output_area.display_order` */\n",
              "      index: 0\n",
              "    });\n",
              "  }\n",
              "\n",
              "  // register the mime type if in Jupyter Notebook environment and previously unregistered\n",
              "  if (root.Jupyter !== undefined) {\n",
              "    var events = require('base/js/events');\n",
              "    var OutputArea = require('notebook/js/outputarea').OutputArea;\n",
              "\n",
              "    if (OutputArea.prototype.mime_types().indexOf(EXEC_MIME_TYPE) == -1) {\n",
              "      register_renderer(events, OutputArea);\n",
              "    }\n",
              "  }\n",
              "\n",
              "  \n",
              "  if (typeof (root._bokeh_timeout) === \"undefined\" || force === true) {\n",
              "    root._bokeh_timeout = Date.now() + 5000;\n",
              "    root._bokeh_failed_load = false;\n",
              "  }\n",
              "\n",
              "  var NB_LOAD_WARNING = {'data': {'text/html':\n",
              "     \"<div style='background-color: #fdd'>\\n\"+\n",
              "     \"<p>\\n\"+\n",
              "     \"BokehJS does not appear to have successfully loaded. If loading BokehJS from CDN, this \\n\"+\n",
              "     \"may be due to a slow or bad network connection. Possible fixes:\\n\"+\n",
              "     \"</p>\\n\"+\n",
              "     \"<ul>\\n\"+\n",
              "     \"<li>re-rerun `output_notebook()` to attempt to load from CDN again, or</li>\\n\"+\n",
              "     \"<li>use INLINE resources instead, as so:</li>\\n\"+\n",
              "     \"</ul>\\n\"+\n",
              "     \"<code>\\n\"+\n",
              "     \"from bokeh.resources import INLINE\\n\"+\n",
              "     \"output_notebook(resources=INLINE)\\n\"+\n",
              "     \"</code>\\n\"+\n",
              "     \"</div>\"}};\n",
              "\n",
              "  function display_loaded() {\n",
              "    var el = document.getElementById(null);\n",
              "    if (el != null) {\n",
              "      el.textContent = \"BokehJS is loading...\";\n",
              "    }\n",
              "    if (root.Bokeh !== undefined) {\n",
              "      if (el != null) {\n",
              "        el.textContent = \"BokehJS \" + root.Bokeh.version + \" successfully loaded.\";\n",
              "      }\n",
              "    } else if (Date.now() < root._bokeh_timeout) {\n",
              "      setTimeout(display_loaded, 100)\n",
              "    }\n",
              "  }\n",
              "\n",
              "\n",
              "  function run_callbacks() {\n",
              "    try {\n",
              "      root._bokeh_onload_callbacks.forEach(function(callback) {\n",
              "        if (callback != null)\n",
              "          callback();\n",
              "      });\n",
              "    } finally {\n",
              "      delete root._bokeh_onload_callbacks\n",
              "    }\n",
              "    console.debug(\"Bokeh: all callbacks have finished\");\n",
              "  }\n",
              "\n",
              "  function load_libs(css_urls, js_urls, callback) {\n",
              "    if (css_urls == null) css_urls = [];\n",
              "    if (js_urls == null) js_urls = [];\n",
              "\n",
              "    root._bokeh_onload_callbacks.push(callback);\n",
              "    if (root._bokeh_is_loading > 0) {\n",
              "      console.debug(\"Bokeh: BokehJS is being loaded, scheduling callback at\", now());\n",
              "      return null;\n",
              "    }\n",
              "    if (js_urls == null || js_urls.length === 0) {\n",
              "      run_callbacks();\n",
              "      return null;\n",
              "    }\n",
              "    console.debug(\"Bokeh: BokehJS not loaded, scheduling load and callback at\", now());\n",
              "    root._bokeh_is_loading = css_urls.length + js_urls.length;\n",
              "\n",
              "    function on_load() {\n",
              "      root._bokeh_is_loading--;\n",
              "      if (root._bokeh_is_loading === 0) {\n",
              "        console.debug(\"Bokeh: all BokehJS libraries/stylesheets loaded\");\n",
              "        run_callbacks()\n",
              "      }\n",
              "    }\n",
              "\n",
              "    function on_error() {\n",
              "      console.error(\"failed to load \" + url);\n",
              "    }\n",
              "\n",
              "    for (var i = 0; i < css_urls.length; i++) {\n",
              "      var url = css_urls[i];\n",
              "      const element = document.createElement(\"link\");\n",
              "      element.onload = on_load;\n",
              "      element.onerror = on_error;\n",
              "      element.rel = \"stylesheet\";\n",
              "      element.type = \"text/css\";\n",
              "      element.href = url;\n",
              "      console.debug(\"Bokeh: injecting link tag for BokehJS stylesheet: \", url);\n",
              "      document.body.appendChild(element);\n",
              "    }\n",
              "\n",
              "    for (var i = 0; i < js_urls.length; i++) {\n",
              "      var url = js_urls[i];\n",
              "      var element = document.createElement('script');\n",
              "      element.onload = on_load;\n",
              "      element.onerror = on_error;\n",
              "      element.async = false;\n",
              "      element.src = url;\n",
              "      console.debug(\"Bokeh: injecting script tag for BokehJS library: \", url);\n",
              "      document.head.appendChild(element);\n",
              "    }\n",
              "  };\n",
              "\n",
              "  function inject_raw_css(css) {\n",
              "    const element = document.createElement(\"style\");\n",
              "    element.appendChild(document.createTextNode(css));\n",
              "    document.body.appendChild(element);\n",
              "  }\n",
              "\n",
              "  \n",
              "  var js_urls = [\"https://cdn.pydata.org/bokeh/release/bokeh-1.4.0.min.js\", \"https://cdn.pydata.org/bokeh/release/bokeh-widgets-1.4.0.min.js\", \"https://cdn.pydata.org/bokeh/release/bokeh-tables-1.4.0.min.js\", \"https://cdn.pydata.org/bokeh/release/bokeh-gl-1.4.0.min.js\"];\n",
              "  var css_urls = [];\n",
              "  \n",
              "\n",
              "  var inline_js = [\n",
              "    function(Bokeh) {\n",
              "      Bokeh.set_log_level(\"info\");\n",
              "    },\n",
              "    function(Bokeh) {\n",
              "    \n",
              "    \n",
              "    }\n",
              "  ];\n",
              "\n",
              "  function run_inline_js() {\n",
              "    \n",
              "    if (root.Bokeh !== undefined || force === true) {\n",
              "      \n",
              "    for (var i = 0; i < inline_js.length; i++) {\n",
              "      inline_js[i].call(root, root.Bokeh);\n",
              "    }\n",
              "    } else if (Date.now() < root._bokeh_timeout) {\n",
              "      setTimeout(run_inline_js, 100);\n",
              "    } else if (!root._bokeh_failed_load) {\n",
              "      console.log(\"Bokeh: BokehJS failed to load within specified timeout.\");\n",
              "      root._bokeh_failed_load = true;\n",
              "    } else if (force !== true) {\n",
              "      var cell = $(document.getElementById(null)).parents('.cell').data().cell;\n",
              "      cell.output_area.append_execute_result(NB_LOAD_WARNING)\n",
              "    }\n",
              "\n",
              "  }\n",
              "\n",
              "  if (root._bokeh_is_loading === 0) {\n",
              "    console.debug(\"Bokeh: BokehJS loaded, going straight to plotting\");\n",
              "    run_inline_js();\n",
              "  } else {\n",
              "    load_libs(css_urls, js_urls, function() {\n",
              "      console.debug(\"Bokeh: BokehJS plotting callback run at\", now());\n",
              "      run_inline_js();\n",
              "    });\n",
              "  }\n",
              "}(window));"
            ],
            "application/vnd.bokehjs_load.v0+json": "\n(function(root) {\n  function now() {\n    return new Date();\n  }\n\n  var force = true;\n\n  if (typeof root._bokeh_onload_callbacks === \"undefined\" || force === true) {\n    root._bokeh_onload_callbacks = [];\n    root._bokeh_is_loading = undefined;\n  }\n\n  \n\n  \n  if (typeof (root._bokeh_timeout) === \"undefined\" || force === true) {\n    root._bokeh_timeout = Date.now() + 5000;\n    root._bokeh_failed_load = false;\n  }\n\n  var NB_LOAD_WARNING = {'data': {'text/html':\n     \"<div style='background-color: #fdd'>\\n\"+\n     \"<p>\\n\"+\n     \"BokehJS does not appear to have successfully loaded. If loading BokehJS from CDN, this \\n\"+\n     \"may be due to a slow or bad network connection. Possible fixes:\\n\"+\n     \"</p>\\n\"+\n     \"<ul>\\n\"+\n     \"<li>re-rerun `output_notebook()` to attempt to load from CDN again, or</li>\\n\"+\n     \"<li>use INLINE resources instead, as so:</li>\\n\"+\n     \"</ul>\\n\"+\n     \"<code>\\n\"+\n     \"from bokeh.resources import INLINE\\n\"+\n     \"output_notebook(resources=INLINE)\\n\"+\n     \"</code>\\n\"+\n     \"</div>\"}};\n\n  function display_loaded() {\n    var el = document.getElementById(null);\n    if (el != null) {\n      el.textContent = \"BokehJS is loading...\";\n    }\n    if (root.Bokeh !== undefined) {\n      if (el != null) {\n        el.textContent = \"BokehJS \" + root.Bokeh.version + \" successfully loaded.\";\n      }\n    } else if (Date.now() < root._bokeh_timeout) {\n      setTimeout(display_loaded, 100)\n    }\n  }\n\n\n  function run_callbacks() {\n    try {\n      root._bokeh_onload_callbacks.forEach(function(callback) {\n        if (callback != null)\n          callback();\n      });\n    } finally {\n      delete root._bokeh_onload_callbacks\n    }\n    console.debug(\"Bokeh: all callbacks have finished\");\n  }\n\n  function load_libs(css_urls, js_urls, callback) {\n    if (css_urls == null) css_urls = [];\n    if (js_urls == null) js_urls = [];\n\n    root._bokeh_onload_callbacks.push(callback);\n    if (root._bokeh_is_loading > 0) {\n      console.debug(\"Bokeh: BokehJS is being loaded, scheduling callback at\", now());\n      return null;\n    }\n    if (js_urls == null || js_urls.length === 0) {\n      run_callbacks();\n      return null;\n    }\n    console.debug(\"Bokeh: BokehJS not loaded, scheduling load and callback at\", now());\n    root._bokeh_is_loading = css_urls.length + js_urls.length;\n\n    function on_load() {\n      root._bokeh_is_loading--;\n      if (root._bokeh_is_loading === 0) {\n        console.debug(\"Bokeh: all BokehJS libraries/stylesheets loaded\");\n        run_callbacks()\n      }\n    }\n\n    function on_error() {\n      console.error(\"failed to load \" + url);\n    }\n\n    for (var i = 0; i < css_urls.length; i++) {\n      var url = css_urls[i];\n      const element = document.createElement(\"link\");\n      element.onload = on_load;\n      element.onerror = on_error;\n      element.rel = \"stylesheet\";\n      element.type = \"text/css\";\n      element.href = url;\n      console.debug(\"Bokeh: injecting link tag for BokehJS stylesheet: \", url);\n      document.body.appendChild(element);\n    }\n\n    for (var i = 0; i < js_urls.length; i++) {\n      var url = js_urls[i];\n      var element = document.createElement('script');\n      element.onload = on_load;\n      element.onerror = on_error;\n      element.async = false;\n      element.src = url;\n      console.debug(\"Bokeh: injecting script tag for BokehJS library: \", url);\n      document.head.appendChild(element);\n    }\n  };\n\n  function inject_raw_css(css) {\n    const element = document.createElement(\"style\");\n    element.appendChild(document.createTextNode(css));\n    document.body.appendChild(element);\n  }\n\n  \n  var js_urls = [\"https://cdn.pydata.org/bokeh/release/bokeh-1.4.0.min.js\", \"https://cdn.pydata.org/bokeh/release/bokeh-widgets-1.4.0.min.js\", \"https://cdn.pydata.org/bokeh/release/bokeh-tables-1.4.0.min.js\", \"https://cdn.pydata.org/bokeh/release/bokeh-gl-1.4.0.min.js\"];\n  var css_urls = [];\n  \n\n  var inline_js = [\n    function(Bokeh) {\n      Bokeh.set_log_level(\"info\");\n    },\n    function(Bokeh) {\n    \n    \n    }\n  ];\n\n  function run_inline_js() {\n    \n    if (root.Bokeh !== undefined || force === true) {\n      \n    for (var i = 0; i < inline_js.length; i++) {\n      inline_js[i].call(root, root.Bokeh);\n    }\n    } else if (Date.now() < root._bokeh_timeout) {\n      setTimeout(run_inline_js, 100);\n    } else if (!root._bokeh_failed_load) {\n      console.log(\"Bokeh: BokehJS failed to load within specified timeout.\");\n      root._bokeh_failed_load = true;\n    } else if (force !== true) {\n      var cell = $(document.getElementById(null)).parents('.cell').data().cell;\n      cell.output_area.append_execute_result(NB_LOAD_WARNING)\n    }\n\n  }\n\n  if (root._bokeh_is_loading === 0) {\n    console.debug(\"Bokeh: BokehJS loaded, going straight to plotting\");\n    run_inline_js();\n  } else {\n    load_libs(css_urls, js_urls, function() {\n      console.debug(\"Bokeh: BokehJS plotting callback run at\", now());\n      run_inline_js();\n    });\n  }\n}(window));"
          },
          "metadata": {
            "tags": []
          }
        },
        {
          "output_type": "display_data",
          "data": {
            "text/html": [
              "\n",
              "\n",
              "\n",
              "\n",
              "\n",
              "\n",
              "  <div class=\"bk-root\" id=\"043c4231-7545-4072-b8ef-81531bf4a3e5\" data-root-id=\"2094\"></div>\n"
            ]
          },
          "metadata": {
            "tags": []
          }
        },
        {
          "output_type": "display_data",
          "data": {
            "application/javascript": [
              "(function(root) {\n",
              "  function embed_document(root) {\n",
              "    \n",
              "  var docs_json = {\"e4f76568-5ccb-4300-a369-672a9ae8acce\":{\"roots\":{\"references\":[{\"attributes\":{\"children\":[{\"id\":\"2091\",\"type\":\"GridBox\"},{\"id\":\"2093\",\"type\":\"ToolbarBox\"}],\"sizing_mode\":\"stretch_width\"},\"id\":\"2094\",\"type\":\"Row\"},{\"attributes\":{\"data_source\":{\"id\":\"1726\",\"type\":\"ColumnDataSource\"},\"glyph\":{\"id\":\"1980\",\"type\":\"MultiLine\"},\"hover_glyph\":null,\"muted_glyph\":null,\"nonselection_glyph\":{\"id\":\"1981\",\"type\":\"MultiLine\"},\"selection_glyph\":null,\"view\":{\"id\":\"1983\",\"type\":\"CDSView\"}},\"id\":\"1982\",\"type\":\"GlyphRenderer\"},{\"attributes\":{},\"id\":\"1916\",\"type\":\"LinearScale\"},{\"attributes\":{\"source\":{\"id\":\"1726\",\"type\":\"ColumnDataSource\"}},\"id\":\"1983\",\"type\":\"CDSView\"},{\"attributes\":{\"callback\":null,\"data\":{\"datetime\":{\"__ndarray__\":\"AADAxC4PcEIAAIAQYRxwQgAAgD70HnBCAAAAz3UjcEIAAMCx8TFwQgAAAP4+WHBCAABA54JjcEIAAIBnEHBwQgAAwC9RcnBCAABAI9yRcEIAAMDH0KVwQgAAgHy5sXBCAACAy0+9cEIAAICxL8pwQgAAQJSr2HBCAABAvJH3cEIAAMCoOQFxQgAAwMk8CnFCAACAQwIacUIAAAD1hidxQgAAQIKkLXFCAAAAwUZBcUIAAAAQ3UxxQgAAgBD4ZXFCAADABsxqcUIAAIAka3VxQgAAAOpiknFCAAAALGmkcUIAAECS1r1xQgAAAL0FwnFCAACA3iPkcUIAAIAtuu9xQgAAgFtN8nFCAABAeez8cUIAAMA3AQRyQgAAwMidIXJCAACAuKkpckIAAMB0kGRyQgAAACOxc3JCAACAAsmDckIAAAAQdJZyQgAAgHJimHJCAAAAMXefckIAAADpw6lyQgAAAArHsnJCAAAAemDHckIAAACbY9ByQgAAwH3f3nJCAAAA3WnickIAAEDTPedyQgAAgORnEXNCAACAM/4cc0IAAMAcQihzQgAAQK3DLHNCAADAPUUxc0IAAEDvyT5zQgAAAIOvQXNCAACAy31Qc0IAAEC7iVhzQgAAwF9+bHNCAACAfR13c0IAAEARA3pzQgAAQPfihnNCAAAAs66oc0IAAIBkM7ZzQg==\",\"dtype\":\"float64\",\"shape\":[65]},\"exit_price\":{\"__ndarray__\":\"UrgehetJZ0CuR+F6FDZoQB+F61G4nmhAAAAAAACQaECuR+F6FDZoQAAAAAAAmHJAFK5H4XqUckCPwvUoXA9zQBSuR+F6nHVAhetRuB7pekAUrkfhelh4QClcj8L1hHlAUrgehespeEC4HoXrURB4QOxRuB6Fi3dA16NwPQpLfkCkcD0K119/QGZmZmZmen1AmpmZmZnhfEDhehSuR918QAAAAAAASH5Aj8L1KFwHgEBcj8L1KBiAQFyPwvUoHoRAZmZmZmbOhUAAAAAAAGiEQBSuR+F60H1AAAAAAAA0gkDsUbgehet+QLgehetRzH1ACtejcD3qc0BxPQrXo6ByQNejcD0Ki3VAw/UoXI8ydECuR+F6FBJ2QHsUrkfh2nlA16NwPQrvekCkcD0K10+CQArXo3A9poFAmpmZmZmHgEDD9Shcj/p9QI/C9Shcb3xASOF6FK4zfkAAAAAAANh8QAAAAAAAyH5ArkfhehRYgkDD9Shcj7SCQDMzMzMzEYNAw/UoXI+ag0BmZmZmZr6CQD0K16NwgYBAPQrXo3BDgUAzMzMzMyuBQBSuR+F6oH5A7FG4HoUhgkDXo3A9Cl+CQLgehetRaINAAAAAAABQgkD2KFyPwueCQOxRuB6F7YJA7FG4HoUrg0D2KFyPwmWCQOxRuB6FcYJArkfhehQAhUAAAAAAALiFQA==\",\"dtype\":\"float64\",\"shape\":[65]},\"index\":[86,113,119,128,160,243,267,294,299,365,408,434,459,486,518,585,604,623,657,686,698,740,765,821,831,852,913,952,1008,1016,1091,1114,1120,1142,1158,1222,1238,1364,1396,1431,1472,1476,1491,1513,1532,1578,1597,1628,1635,1645,1735,1761,1785,1795,1805,1834,1841,1870,1889,1931,1954,1960,1987,2061,2088],\"position_lines_xs\":[[70,86],[86,113],[113,119],[119,128],[128,160],[160,243],[243,267],[267,294],[294,299],[299,365],[365,408],[408,434],[434,459],[459,486],[486,518],[518,585],[585,604],[604,623],[623,657],[657,686],[686,698],[698,740],[740,765],[765,821],[821,831],[831,852],[852,913],[913,952],[952,1008],[1008,1016],[1016,1091],[1091,1114],[1114,1120],[1120,1142],[1142,1158],[1158,1222],[1222,1238],[1238,1364],[1364,1396],[1396,1431],[1431,1472],[1472,1476],[1476,1491],[1491,1513],[1513,1532],[1532,1578],[1578,1597],[1597,1628],[1628,1635],[1635,1645],[1645,1735],[1735,1761],[1761,1785],[1785,1795],[1795,1805],[1805,1834],[1834,1841],[1841,1870],[1870,1889],[1889,1931],[1931,1954],[1954,1960],[1960,1987],[1987,2061],[2061,2088]],\"position_lines_ys\":[[180.36,186.31],[186.31,193.69],[193.69,196.96],[196.96,196.5],[196.5,193.69],[193.69,297.5],[297.5,297.28],[297.28,304.96],[304.96,345.78],[345.78,430.57],[430.57,389.53],[389.53,408.31],[408.31,386.62],[386.62,385.02],[385.02,376.72],[376.72,484.69],[484.69,501.99],[501.99,471.65],[471.65,462.1],[462.1,461.83],[461.83,484.5],[484.5,512.92],[512.92,515.02],[515.02,643.77],[643.77,697.8],[697.8,653.0],[653.0,477.03],[477.03,582.5],[582.5,494.72],[494.72,476.77],[476.77,318.64],[318.64,298.04],[298.04,344.69],[344.69,323.16],[323.16,353.13],[353.13,413.68],[413.68,430.94],[430.94,585.98],[585.98,564.78],[564.78,528.95],[528.95,479.66],[479.66,454.96],[454.96,483.23],[483.23,461.5],[461.5,492.5],[492.5,587.01],[587.01,598.57],[598.57,610.15],[610.15,627.32],[627.32,599.8],[599.8,528.18],[528.18,552.43],[552.43,549.4],[549.4,490.03],[490.03,580.19],[580.19,587.88],[587.88,621.04],[621.04,586.0],[586.0,604.97],[604.97,605.69],[605.69,613.44],[613.44,588.72],[588.72,590.19],[590.19,672.01],[672.01,695.0]],\"returns_long\":{\"__ndarray__\":\"AAAAAAAA+H9kpVO7e4ajPwAAAAAAAPh/7++Z8aabcb8AAAAAAAD4f3IUZLOMO+E/AAAAAAAA+H8ZD1iEMEKYPwAAAAAAAPh/e6NL36oHzz8AAAAAAAD4f62kYDpzpqc/AAAAAAAA+H9BMeH3gdx4vwAAAAAAAPh/F+U9xQcp0j8AAAAAAAD4fyMQvZBIx6+/AAAAAAAA+H+7ahsEQVplvwAAAAAAAPh/8a+UFVIwrD8AAAAAAAD4f5Re4A1lIc8/AAAAAAAA+H/IMMD+sIiwvwAAAAAAAPh/4WtXBooOzD8AAAAAAAD4f3FV8rZp/qO/AAAAAAAA+H8wMVSwET+xvwAAAAAAAPh/CVTCwnLNsL8AAAAAAAD4fydkXQyRrsU/AAAAAAAA+H+NBdQXYA/XPwAAAAAAAPh/voMkA0HSsL8AAAAAAAD4f6zMnC74pqu/AAAAAAAA+H8P7rdCKPinvwAAAAAAAPh/AuA7TGiNxz8AAAAAAAD4f/uGzno/oZE/AAAAAAAA+H+MGyeMspqnvwAAAAAAAPh/3sD26YGFpj8AAAAAAAD4f/laTbmpUby/AAAAAAAA+H8PS4ouXaWGPwAAAAAAAPh/ese4NXInrr8AAAAAAAD4f+HnHL1KjUq/AAAAAAAA+H/wMp6JohymvwAAAAAAAPh/v0hpzYu+wT8AAAAAAAD4fw==\",\"dtype\":\"float64\",\"shape\":[65]},\"returns_pos\":[\"0\",\"1\",\"0\",\"0\",\"1\",\"1\",\"0\",\"1\",\"0\",\"1\",\"1\",\"1\",\"1\",\"0\",\"1\",\"1\",\"0\",\"0\",\"1\",\"0\",\"0\",\"1\",\"0\",\"1\",\"0\",\"0\",\"1\",\"1\",\"1\",\"0\",\"1\",\"0\",\"0\",\"0\",\"0\",\"1\",\"0\",\"1\",\"1\",\"0\",\"1\",\"0\",\"0\",\"0\",\"0\",\"1\",\"0\",\"1\",\"0\",\"0\",\"1\",\"1\",\"1\",\"0\",\"0\",\"1\",\"0\",\"0\",\"0\",\"0\",\"0\",\"0\",\"0\",\"1\",\"0\"],\"returns_short\":{\"__ndarray__\":\"aMJ/LMT7ob8AAAAAAAD4f18PsuXKh5O/AAAAAAAA+H80LzKjzIyIPwAAAAAAAPh//jXZMPlMVL8AAAAAAAD4fzhQMRJDS8G/AAAAAAAA+H+omzzqWgG4PwAAAAAAAPh/AtQqUz7WqT8AAAAAAAD4f7D3pKZIQZQ/AAAAAAAA+H8DkjSPDxOjvwAAAAAAAPh/jMivhaNOkj8AAAAAAAD4f7PJfNkScKq/AAAAAAAA+H9QdFS2Oh55vwAAAAAAAPh/BtlcHMeVtr8AAAAAAAD4f729fMjSk9A/AAAAAAAA+H+3Te9OgsrCPwAAAAAAAPh/oEgaUd+Z1D8AAAAAAAD4f+1R3Fg54sS/AAAAAAAA+H+13IsxgPC3vwAAAAAAAPh/w78s4MoIp78AAAAAAAD4f5x694awVaE/AAAAAAAA+H+Fvj8fHlm3PwAAAAAAAPh/Z3MGctAQsL8AAAAAAAD4f7jNpuaozrG/AAAAAAAA+H9yzTwLNRCWvwAAAAAAAPh/B/SxHvLnnr8AAAAAAAD4fy/gWT0SG74/AAAAAAAA+H8/DBHO0t5rPwAAAAAAAPh/+hLSLMVlyL8AAAAAAAD4f8p1Lrp6p62/AAAAAAAA+H87S0F1hZWhvwAAAAAAAPh/Jg1wfgf8jb8AAAAAAAD4f9LjvaRCLXK/AAAAAAAA+H+chtKI3cWivw==\",\"dtype\":\"float64\",\"shape\":[65]}},\"selected\":{\"id\":\"2011\",\"type\":\"Selection\"},\"selection_policy\":{\"id\":\"2010\",\"type\":\"UnionRenderers\"}},\"id\":\"1726\",\"type\":\"ColumnDataSource\"},{\"attributes\":{\"fill_color\":{\"field\":\"returns_pos\",\"transform\":{\"id\":\"1728\",\"type\":\"CategoricalColorMapper\"}},\"marker\":{\"value\":\"inverted_triangle\"},\"size\":{\"units\":\"screen\",\"value\":13},\"x\":{\"field\":\"index\"},\"y\":{\"field\":\"returns_short\"}},\"id\":\"1902\",\"type\":\"Scatter\"},{\"attributes\":{\"text\":\"\"},\"id\":\"1985\",\"type\":\"Title\"},{\"attributes\":{\"format\":\"0 a\"},\"id\":\"1955\",\"type\":\"NumeralTickFormatter\"},{\"attributes\":{\"data_source\":{\"id\":\"1726\",\"type\":\"ColumnDataSource\"},\"glyph\":{\"id\":\"1902\",\"type\":\"Scatter\"},\"hover_glyph\":null,\"muted_glyph\":null,\"nonselection_glyph\":{\"id\":\"1903\",\"type\":\"Scatter\"},\"selection_glyph\":null,\"view\":{\"id\":\"1905\",\"type\":\"CDSView\"}},\"id\":\"1904\",\"type\":\"GlyphRenderer\"},{\"attributes\":{},\"id\":\"1987\",\"type\":\"BasicTickFormatter\"},{\"attributes\":{\"source\":{\"id\":\"1726\",\"type\":\"ColumnDataSource\"}},\"id\":\"1905\",\"type\":\"CDSView\"},{\"attributes\":{},\"id\":\"1989\",\"type\":\"UnionRenderers\"},{\"attributes\":{},\"id\":\"1990\",\"type\":\"Selection\"},{\"attributes\":{\"callback\":null,\"formatters\":{\"@datetime\":\"datetime\"},\"point_policy\":\"follow_mouse\",\"renderers\":[{\"id\":\"1899\",\"type\":\"GlyphRenderer\"}],\"tooltips\":[[\"Date\",\"@datetime{%c}\"],[\"P/L\",\"@returns_long{+0.[000]%}\"]]},\"id\":\"1906\",\"type\":\"HoverTool\"},{\"attributes\":{\"bottom_units\":\"screen\",\"fill_alpha\":{\"value\":0.5},\"fill_color\":{\"value\":\"lightgrey\"},\"left_units\":\"screen\",\"level\":\"overlay\",\"line_alpha\":{\"value\":1.0},\"line_color\":{\"value\":\"black\"},\"line_dash\":[4,4],\"line_width\":{\"value\":2},\"render_mode\":\"css\",\"right_units\":\"screen\",\"top_units\":\"screen\"},\"id\":\"1993\",\"type\":\"BoxAnnotation\"},{\"attributes\":{\"callback\":null,\"formatters\":{\"@datetime\":\"datetime\"},\"point_policy\":\"follow_mouse\",\"renderers\":[{\"id\":\"1904\",\"type\":\"GlyphRenderer\"}],\"tooltips\":[[\"Date\",\"@datetime{%c}\"],[\"P/L\",\"@returns_short{+0.[000]%}\"]]},\"id\":\"1908\",\"type\":\"HoverTool\"},{\"attributes\":{\"border_line_color\":{\"value\":\"#333333\"},\"items\":[{\"id\":\"1995\",\"type\":\"LegendItem\"},{\"id\":\"2013\",\"type\":\"LegendItem\"},{\"id\":\"2031\",\"type\":\"LegendItem\"}],\"label_text_font_size\":{\"value\":\"8pt\"},\"location\":\"top_left\",\"margin\":0,\"padding\":5,\"spacing\":0},\"id\":\"1994\",\"type\":\"Legend\"},{\"attributes\":{\"format\":\"0.[00]%\"},\"id\":\"1910\",\"type\":\"NumeralTickFormatter\"},{\"attributes\":{\"label\":{\"value\":\"Trades (2148)\"},\"renderers\":[{\"id\":\"1982\",\"type\":\"GlyphRenderer\"}]},\"id\":\"1995\",\"type\":\"LegendItem\"},{\"attributes\":{\"formatter\":{\"id\":\"1731\",\"type\":\"FuncTickFormatter\"},\"ticker\":{\"id\":\"1921\",\"type\":\"BasicTicker\"},\"visible\":true},\"id\":\"1920\",\"type\":\"LinearAxis\"},{\"attributes\":{\"fill_alpha\":{\"value\":0.1},\"fill_color\":{\"value\":\"#1f77b4\"},\"line_alpha\":{\"value\":0.1},\"line_color\":{\"value\":\"#1f77b4\"},\"marker\":{\"value\":\"inverted_triangle\"},\"size\":{\"units\":\"screen\",\"value\":13},\"x\":{\"field\":\"index\"},\"y\":{\"field\":\"returns_short\"}},\"id\":\"1903\",\"type\":\"Scatter\"},{\"attributes\":{},\"id\":\"1918\",\"type\":\"LinearScale\"},{\"attributes\":{\"source\":{\"id\":\"1957\",\"type\":\"ColumnDataSource\"}},\"id\":\"1962\",\"type\":\"CDSView\"},{\"attributes\":{},\"id\":\"1921\",\"type\":\"BasicTicker\"},{\"attributes\":{\"line_alpha\":{\"value\":0.1},\"line_color\":{\"value\":\"#1f77b4\"},\"x0\":{\"field\":\"index\"},\"x1\":{\"field\":\"index\"},\"y0\":{\"field\":\"High\"},\"y1\":{\"field\":\"Low\"}},\"id\":\"1960\",\"type\":\"Segment\"},{\"attributes\":{\"ticker\":{\"id\":\"1921\",\"type\":\"BasicTicker\"}},\"id\":\"1924\",\"type\":\"Grid\"},{\"attributes\":{\"factors\":[\"0\",\"1\"],\"palette\":[\"rgb(255, 220, 214)\",\"rgb(214, 255, 214)\"]},\"id\":\"1963\",\"type\":\"CategoricalColorMapper\"},{\"attributes\":{\"data_source\":{\"id\":\"1957\",\"type\":\"ColumnDataSource\"},\"glyph\":{\"id\":\"1959\",\"type\":\"Segment\"},\"hover_glyph\":null,\"muted_glyph\":null,\"nonselection_glyph\":{\"id\":\"1960\",\"type\":\"Segment\"},\"selection_glyph\":null,\"view\":{\"id\":\"1962\",\"type\":\"CDSView\"}},\"id\":\"1961\",\"type\":\"GlyphRenderer\"},{\"attributes\":{\"callback\":null},\"id\":\"1914\",\"type\":\"DataRange1d\"},{\"attributes\":{\"axis_label\":\"Volume\",\"formatter\":{\"id\":\"1955\",\"type\":\"NumeralTickFormatter\"},\"minor_tick_line_color\":{\"value\":null},\"ticker\":{\"id\":\"1926\",\"type\":\"BasicTicker\"}},\"id\":\"1925\",\"type\":\"LinearAxis\"},{\"attributes\":{},\"id\":\"1926\",\"type\":\"BasicTicker\"},{\"attributes\":{\"dimension\":1,\"ticker\":{\"id\":\"1926\",\"type\":\"BasicTicker\"}},\"id\":\"1929\",\"type\":\"Grid\"},{\"attributes\":{\"data_source\":{\"id\":\"1725\",\"type\":\"ColumnDataSource\"},\"glyph\":{\"id\":\"2015\",\"type\":\"Line\"},\"hover_glyph\":null,\"muted_glyph\":null,\"nonselection_glyph\":{\"id\":\"2016\",\"type\":\"Line\"},\"selection_glyph\":null,\"view\":{\"id\":\"2018\",\"type\":\"CDSView\"}},\"id\":\"2017\",\"type\":\"GlyphRenderer\"},{\"attributes\":{\"bottom\":{\"field\":\"Close\"},\"fill_color\":{\"field\":\"inc\",\"transform\":{\"id\":\"1963\",\"type\":\"CategoricalColorMapper\"}},\"line_color\":{\"value\":null},\"top\":{\"field\":\"Open\"},\"width\":{\"field\":\"_width\"},\"x\":{\"field\":\"index\"}},\"id\":\"1965\",\"type\":\"VBar\"},{\"attributes\":{\"fill_alpha\":{\"value\":0.1},\"fill_color\":{\"value\":\"#1f77b4\"},\"line_alpha\":{\"value\":0.1},\"line_color\":{\"value\":\"#1f77b4\"},\"top\":{\"field\":\"Volume\"},\"width\":{\"value\":0.8},\"x\":{\"field\":\"index\"}},\"id\":\"1950\",\"type\":\"VBar\"},{\"attributes\":{\"bottom\":{\"field\":\"Close\"},\"fill_alpha\":{\"value\":0.1},\"fill_color\":{\"value\":\"#1f77b4\"},\"line_alpha\":{\"value\":0.1},\"line_color\":{\"value\":\"#1f77b4\"},\"top\":{\"field\":\"Open\"},\"width\":{\"field\":\"_width\"},\"x\":{\"field\":\"index\"}},\"id\":\"1966\",\"type\":\"VBar\"},{\"attributes\":{\"fill_color\":{\"field\":\"inc\",\"transform\":{\"id\":\"1727\",\"type\":\"CategoricalColorMapper\"}},\"line_color\":{\"field\":\"inc\",\"transform\":{\"id\":\"1727\",\"type\":\"CategoricalColorMapper\"}},\"top\":{\"field\":\"Volume\"},\"width\":{\"value\":0.8},\"x\":{\"field\":\"index\"}},\"id\":\"1949\",\"type\":\"VBar\"},{\"attributes\":{\"data_source\":{\"id\":\"1957\",\"type\":\"ColumnDataSource\"},\"glyph\":{\"id\":\"1965\",\"type\":\"VBar\"},\"hover_glyph\":null,\"muted_glyph\":null,\"nonselection_glyph\":{\"id\":\"1966\",\"type\":\"VBar\"},\"selection_glyph\":null,\"view\":{\"id\":\"1968\",\"type\":\"CDSView\"}},\"id\":\"1967\",\"type\":\"GlyphRenderer\"},{\"attributes\":{\"label\":{\"value\":\"SMA(C,30)\"},\"renderers\":[{\"id\":\"2017\",\"type\":\"GlyphRenderer\"}]},\"id\":\"2031\",\"type\":\"LegendItem\"},{\"attributes\":{\"active_drag\":{\"id\":\"1930\",\"type\":\"PanTool\"},\"active_inspect\":\"auto\",\"active_multi\":null,\"active_scroll\":{\"id\":\"1931\",\"type\":\"WheelZoomTool\"},\"active_tap\":\"auto\",\"tools\":[{\"id\":\"1930\",\"type\":\"PanTool\"},{\"id\":\"1931\",\"type\":\"WheelZoomTool\"},{\"id\":\"1932\",\"type\":\"BoxZoomTool\"},{\"id\":\"1933\",\"type\":\"UndoTool\"},{\"id\":\"1934\",\"type\":\"RedoTool\"},{\"id\":\"1935\",\"type\":\"ResetTool\"},{\"id\":\"1936\",\"type\":\"CrosshairTool\"},{\"id\":\"1937\",\"type\":\"SaveTool\"},{\"id\":\"1953\",\"type\":\"HoverTool\"}]},\"id\":\"1938\",\"type\":\"Toolbar\"},{\"attributes\":{\"source\":{\"id\":\"1957\",\"type\":\"ColumnDataSource\"}},\"id\":\"1968\",\"type\":\"CDSView\"},{\"attributes\":{\"dimensions\":\"width\"},\"id\":\"1930\",\"type\":\"PanTool\"},{\"attributes\":{\"dimensions\":\"width\",\"maintain_focus\":false},\"id\":\"1931\",\"type\":\"WheelZoomTool\"},{\"attributes\":{\"line_alpha\":{\"value\":0.1},\"line_color\":{\"value\":\"#1f77b4\"},\"x0\":{\"field\":\"index\"},\"x1\":{\"field\":\"index\"},\"y0\":{\"field\":\"High\"},\"y1\":{\"field\":\"Low\"}},\"id\":\"1971\",\"type\":\"Segment\"},{\"attributes\":{\"data_source\":{\"id\":\"1725\",\"type\":\"ColumnDataSource\"},\"glyph\":{\"id\":\"1970\",\"type\":\"Segment\"},\"hover_glyph\":null,\"muted_glyph\":null,\"nonselection_glyph\":{\"id\":\"1971\",\"type\":\"Segment\"},\"selection_glyph\":null,\"view\":{\"id\":\"1973\",\"type\":\"CDSView\"}},\"id\":\"1972\",\"type\":\"GlyphRenderer\"},{\"attributes\":{\"overlay\":{\"id\":\"2088\",\"type\":\"BoxAnnotation\"}},\"id\":\"1932\",\"type\":\"BoxZoomTool\"},{\"attributes\":{},\"id\":\"1933\",\"type\":\"UndoTool\"},{\"attributes\":{\"source\":{\"id\":\"1725\",\"type\":\"ColumnDataSource\"}},\"id\":\"1973\",\"type\":\"CDSView\"},{\"attributes\":{},\"id\":\"1934\",\"type\":\"RedoTool\"},{\"attributes\":{\"line_alpha\":0.1,\"line_color\":\"#1f77b4\",\"line_width\":1.3,\"x\":{\"field\":\"index\"},\"y\":{\"field\":\"SMA(C,30)_1_1\"}},\"id\":\"2016\",\"type\":\"Line\"},{\"attributes\":{},\"id\":\"1935\",\"type\":\"ResetTool\"},{\"attributes\":{\"bottom\":{\"field\":\"Close\"},\"fill_color\":{\"field\":\"inc\",\"transform\":{\"id\":\"1727\",\"type\":\"CategoricalColorMapper\"}},\"top\":{\"field\":\"Open\"},\"width\":{\"value\":0.8},\"x\":{\"field\":\"index\"}},\"id\":\"1975\",\"type\":\"VBar\"},{\"attributes\":{},\"id\":\"1936\",\"type\":\"CrosshairTool\"},{\"attributes\":{\"bottom\":{\"field\":\"Close\"},\"fill_alpha\":{\"value\":0.1},\"fill_color\":{\"value\":\"#1f77b4\"},\"line_alpha\":{\"value\":0.1},\"line_color\":{\"value\":\"#1f77b4\"},\"top\":{\"field\":\"Open\"},\"width\":{\"value\":0.8},\"x\":{\"field\":\"index\"}},\"id\":\"1976\",\"type\":\"VBar\"},{\"attributes\":{\"text\":\"\"},\"id\":\"2083\",\"type\":\"Title\"},{\"attributes\":{\"data_source\":{\"id\":\"1725\",\"type\":\"ColumnDataSource\"},\"glyph\":{\"id\":\"1975\",\"type\":\"VBar\"},\"hover_glyph\":null,\"muted_glyph\":null,\"nonselection_glyph\":{\"id\":\"1976\",\"type\":\"VBar\"},\"selection_glyph\":null,\"view\":{\"id\":\"1978\",\"type\":\"CDSView\"}},\"id\":\"1977\",\"type\":\"GlyphRenderer\"},{\"attributes\":{},\"id\":\"1937\",\"type\":\"SaveTool\"},{\"attributes\":{\"source\":{\"id\":\"1725\",\"type\":\"ColumnDataSource\"}},\"id\":\"1978\",\"type\":\"CDSView\"},{\"attributes\":{\"data_source\":{\"id\":\"1725\",\"type\":\"ColumnDataSource\"},\"glyph\":{\"id\":\"1949\",\"type\":\"VBar\"},\"hover_glyph\":null,\"muted_glyph\":null,\"nonselection_glyph\":{\"id\":\"1950\",\"type\":\"VBar\"},\"selection_glyph\":null,\"view\":{\"id\":\"1952\",\"type\":\"CDSView\"}},\"id\":\"1951\",\"type\":\"GlyphRenderer\"},{\"attributes\":{\"source\":{\"id\":\"1725\",\"type\":\"ColumnDataSource\"}},\"id\":\"1952\",\"type\":\"CDSView\"},{\"attributes\":{\"callback\":null,\"formatters\":{\"@datetime\":\"datetime\"},\"mode\":\"vline\",\"point_policy\":\"follow_mouse\",\"renderers\":[{\"id\":\"1951\",\"type\":\"GlyphRenderer\"}],\"tooltips\":[[\"Date\",\"@datetime{%c}\"],[\"Volume\",\"@Volume{0.00 a}\"]]},\"id\":\"1953\",\"type\":\"HoverTool\"},{\"attributes\":{\"bottom_units\":\"screen\",\"fill_alpha\":{\"value\":0.5},\"fill_color\":{\"value\":\"lightgrey\"},\"left_units\":\"screen\",\"level\":\"overlay\",\"line_alpha\":{\"value\":1.0},\"line_color\":{\"value\":\"black\"},\"line_dash\":[4,4],\"line_width\":{\"value\":2},\"render_mode\":\"css\",\"right_units\":\"screen\",\"top_units\":\"screen\"},\"id\":\"2065\",\"type\":\"BoxAnnotation\"},{\"attributes\":{\"line_color\":\"#ff7f0e\",\"line_width\":1.3,\"x\":{\"field\":\"index\"},\"y\":{\"field\":\"SMA(C,30)_1_1\"}},\"id\":\"2015\",\"type\":\"Line\"},{\"attributes\":{\"args\":{\"ohlc_range\":{\"id\":\"1692\",\"type\":\"DataRange1d\"},\"source\":{\"id\":\"1725\",\"type\":\"ColumnDataSource\"},\"volume_range\":{\"id\":\"1914\",\"type\":\"DataRange1d\"}},\"code\":\"if (!window._bt_extremes)\\n    window._bt_extremes = function (arr, initial, agg_func) {\\n        const CHUNK = 32768;\\n        let extreme = initial;\\n        for (let i = 0, len = arr.length; i < len; i += CHUNK) {\\n            const subarr = CHUNK >= len ? arr : arr.slice(i, i + CHUNK);\\n            extreme = agg_func(extreme, agg_func.apply(null, subarr));\\n        }\\n        return extreme;\\n    };\\n\\nif (!window._bt_bin_search)\\n    window._bt_bin_search = function (index, value) {\\n        let mid,\\n            min = 0,\\n            max = index.length - 1;\\n\\n        while (min < max) {\\n            mid = (min + max) / 2 | 0;\\n            if (index[mid] < value)\\n                min = mid + 1;\\n            else\\n                max = mid - 1;\\n        }\\n        return min;\\n    };\\n\\nif (!window._bt_scale_range)\\n    window._bt_scale_range = function (range, highs, lows) {\\n        const max = _bt_extremes(highs, -Infinity, Math.max),\\n              min = lows && _bt_extremes(lows, Infinity, Math.min);\\n        if (min !== Infinity && max !== -Infinity) {\\n            const pad = (max - min) * .03;\\n            range.start = min - pad;\\n            range.end = max + pad;\\n        }\\n    };\\n\\nclearTimeout(window._bt_autoscale_timeout);\\n\\nwindow._bt_autoscale_timeout = setTimeout(function () {\\n    /**\\n     * @variable cb_obj `fig_ohlc.x_range`.\\n     * @variable source `ColumnDataSource`\\n     * @variable ohlc_range `fig_ohlc.y_range`.\\n     * @variable volume_range `fig_volume.y_range`.\\n     */\\n\\n    let index = source.data['index'],\\n        i = Math.max(_bt_bin_search(index, cb_obj.start) - 1, 0),\\n        j = Math.min(_bt_bin_search(index, cb_obj.end) + 1, index.length);\\n\\n    _bt_scale_range(\\n        ohlc_range,\\n        source.data['ohlc_high'].slice(i, j),\\n        source.data['ohlc_low'].slice(i, j));\\n    try {\\n        _bt_scale_range(\\n            volume_range,\\n            source.data['Volume'].slice(i, j),\\n            0);\\n    } catch (e) {}  // volume_range may be undefined\\n\\n}, 50);\\n\"},\"id\":\"2034\",\"type\":\"CustomJS\"},{\"attributes\":{\"line_color\":{\"field\":\"returns_pos\",\"transform\":{\"id\":\"1729\",\"type\":\"CategoricalColorMapper\"}},\"line_dash\":[2,4],\"line_width\":{\"value\":8},\"xs\":{\"field\":\"position_lines_xs\"},\"ys\":{\"field\":\"position_lines_ys\"}},\"id\":\"1980\",\"type\":\"MultiLine\"},{\"attributes\":{\"line_alpha\":{\"value\":0.1},\"line_color\":{\"value\":\"#1f77b4\"},\"line_dash\":[2,4],\"line_width\":{\"value\":8},\"xs\":{\"field\":\"position_lines_xs\"},\"ys\":{\"field\":\"position_lines_ys\"}},\"id\":\"1981\",\"type\":\"MultiLine\"},{\"attributes\":{\"line_alpha\":0.1,\"line_color\":\"#1f77b4\",\"line_width\":1.3,\"x\":{\"field\":\"index\"},\"y\":{\"field\":\"SMA(C,10)_0_1\"}},\"id\":\"1998\",\"type\":\"Line\"},{\"attributes\":{\"x0\":{\"field\":\"index\"},\"x1\":{\"field\":\"index\"},\"y0\":{\"field\":\"High\"},\"y1\":{\"field\":\"Low\"}},\"id\":\"1970\",\"type\":\"Segment\"},{\"attributes\":{\"factors\":[\"0\",\"1\"],\"palette\":[\"tomato\",\"lime\"]},\"id\":\"1727\",\"type\":\"CategoricalColorMapper\"},{\"attributes\":{\"source\":{\"id\":\"1838\",\"type\":\"ColumnDataSource\"}},\"id\":\"1842\",\"type\":\"CDSView\"},{\"attributes\":{},\"id\":\"2060\",\"type\":\"BasicTickFormatter\"},{\"attributes\":{\"label\":{\"value\":\"SMA(C,10)\"},\"renderers\":[{\"id\":\"1999\",\"type\":\"GlyphRenderer\"}]},\"id\":\"2013\",\"type\":\"LegendItem\"},{\"attributes\":{\"factors\":[\"0\",\"1\"],\"palette\":[\"tomato\",\"lime\"]},\"id\":\"1728\",\"type\":\"CategoricalColorMapper\"},{\"attributes\":{\"source\":{\"id\":\"1725\",\"type\":\"ColumnDataSource\"}},\"id\":\"1778\",\"type\":\"CDSView\"},{\"attributes\":{},\"id\":\"1856\",\"type\":\"UnionRenderers\"},{\"attributes\":{\"factors\":[\"0\",\"1\"],\"palette\":[\"rgb(178, 27, 0)\",\"rgb(0, 178, 0)\"]},\"id\":\"1729\",\"type\":\"CategoricalColorMapper\"},{\"attributes\":{\"toolbar\":{\"id\":\"2092\",\"type\":\"ProxyToolbar\"}},\"id\":\"2093\",\"type\":\"ToolbarBox\"},{\"attributes\":{\"callback\":null,\"formatters\":{\"@datetime\":\"datetime\"},\"mode\":\"vline\",\"point_policy\":\"follow_mouse\",\"renderers\":[{\"id\":\"1777\",\"type\":\"GlyphRenderer\"}],\"tooltips\":[[\"Date\",\"@datetime{%c}\"],[\"Equity\",\"@equity{+0,0.[000]%}\"]]},\"id\":\"1779\",\"type\":\"HoverTool\"},{\"attributes\":{},\"id\":\"2011\",\"type\":\"Selection\"},{\"attributes\":{\"bottom_units\":\"screen\",\"fill_alpha\":{\"value\":0.5},\"fill_color\":{\"value\":\"lightgrey\"},\"left_units\":\"screen\",\"level\":\"overlay\",\"line_alpha\":{\"value\":1.0},\"line_color\":{\"value\":\"black\"},\"line_dash\":[4,4],\"line_width\":{\"value\":2},\"render_mode\":\"css\",\"right_units\":\"screen\",\"top_units\":\"screen\"},\"id\":\"2088\",\"type\":\"BoxAnnotation\"},{\"attributes\":{},\"id\":\"1857\",\"type\":\"Selection\"},{\"attributes\":{\"format\":\"0,0.[00]%\"},\"id\":\"1781\",\"type\":\"NumeralTickFormatter\"},{\"attributes\":{\"label\":{\"value\":\"Max Dd Dur. (584 days)\"},\"renderers\":[{\"id\":\"1841\",\"type\":\"GlyphRenderer\"}]},\"id\":\"1859\",\"type\":\"LegendItem\"},{\"attributes\":{\"days\":[\"%d %b\",\"%a %d\"],\"months\":[\"%m/%Y\",\"%b'%y\"]},\"id\":\"1730\",\"type\":\"DatetimeTickFormatter\"},{\"attributes\":{\"fill_color\":{\"value\":\"cyan\"},\"line_color\":{\"value\":\"cyan\"},\"size\":{\"units\":\"screen\",\"value\":8},\"x\":{\"value\":1746},\"y\":{\"value\":6.931887771129211}},\"id\":\"1784\",\"type\":\"Scatter\"},{\"attributes\":{\"below\":[{\"id\":\"1868\",\"type\":\"LinearAxis\"}],\"center\":[{\"id\":\"1872\",\"type\":\"Grid\"},{\"id\":\"1877\",\"type\":\"Grid\"},{\"id\":\"1895\",\"type\":\"Span\"}],\"left\":[{\"id\":\"1873\",\"type\":\"LinearAxis\"}],\"min_border_bottom\":6,\"min_border_left\":0,\"min_border_right\":10,\"min_border_top\":3,\"outline_line_color\":{\"value\":\"#666666\"},\"plot_height\":90,\"plot_width\":null,\"renderers\":[{\"id\":\"1899\",\"type\":\"GlyphRenderer\"},{\"id\":\"1904\",\"type\":\"GlyphRenderer\"}],\"sizing_mode\":\"stretch_width\",\"title\":{\"id\":\"2059\",\"type\":\"Title\"},\"toolbar\":{\"id\":\"1886\",\"type\":\"Toolbar\"},\"toolbar_location\":null,\"x_range\":{\"id\":\"1689\",\"type\":\"Range1d\"},\"x_scale\":{\"id\":\"1864\",\"type\":\"LinearScale\"},\"y_range\":{\"id\":\"1862\",\"type\":\"DataRange1d\"},\"y_scale\":{\"id\":\"1866\",\"type\":\"LinearScale\"}},\"id\":\"1860\",\"subtype\":\"Figure\",\"type\":\"Plot\"},{\"attributes\":{\"logo\":null,\"tools\":[{\"id\":\"1751\",\"type\":\"PanTool\"},{\"id\":\"1752\",\"type\":\"WheelZoomTool\"},{\"id\":\"1753\",\"type\":\"BoxZoomTool\"},{\"id\":\"1754\",\"type\":\"UndoTool\"},{\"id\":\"1755\",\"type\":\"RedoTool\"},{\"id\":\"1756\",\"type\":\"ResetTool\"},{\"id\":\"1757\",\"type\":\"CrosshairTool\"},{\"id\":\"1758\",\"type\":\"SaveTool\"},{\"id\":\"1779\",\"type\":\"HoverTool\"},{\"id\":\"1878\",\"type\":\"PanTool\"},{\"id\":\"1879\",\"type\":\"WheelZoomTool\"},{\"id\":\"1880\",\"type\":\"BoxZoomTool\"},{\"id\":\"1881\",\"type\":\"UndoTool\"},{\"id\":\"1882\",\"type\":\"RedoTool\"},{\"id\":\"1883\",\"type\":\"ResetTool\"},{\"id\":\"1884\",\"type\":\"CrosshairTool\"},{\"id\":\"1885\",\"type\":\"SaveTool\"},{\"id\":\"1906\",\"type\":\"HoverTool\"},{\"id\":\"1908\",\"type\":\"HoverTool\"},{\"id\":\"1708\",\"type\":\"PanTool\"},{\"id\":\"1709\",\"type\":\"WheelZoomTool\"},{\"id\":\"1710\",\"type\":\"BoxZoomTool\"},{\"id\":\"1711\",\"type\":\"UndoTool\"},{\"id\":\"1712\",\"type\":\"RedoTool\"},{\"id\":\"1713\",\"type\":\"ResetTool\"},{\"id\":\"1714\",\"type\":\"CrosshairTool\"},{\"id\":\"1715\",\"type\":\"SaveTool\"},{\"id\":\"2032\",\"type\":\"HoverTool\"},{\"id\":\"1930\",\"type\":\"PanTool\"},{\"id\":\"1931\",\"type\":\"WheelZoomTool\"},{\"id\":\"1932\",\"type\":\"BoxZoomTool\"},{\"id\":\"1933\",\"type\":\"UndoTool\"},{\"id\":\"1934\",\"type\":\"RedoTool\"},{\"id\":\"1935\",\"type\":\"ResetTool\"},{\"id\":\"1936\",\"type\":\"CrosshairTool\"},{\"id\":\"1937\",\"type\":\"SaveTool\"},{\"id\":\"1953\",\"type\":\"HoverTool\"}]},\"id\":\"2092\",\"type\":\"ProxyToolbar\"},{\"attributes\":{\"args\":{\"axis\":{\"id\":\"1698\",\"type\":\"LinearAxis\"},\"formatter\":{\"id\":\"1730\",\"type\":\"DatetimeTickFormatter\"},\"source\":{\"id\":\"1725\",\"type\":\"ColumnDataSource\"}},\"code\":\"\\nthis.labels = this.labels || formatter.doFormat(ticks\\n                                                .map(i => source.data.datetime[i])\\n                                                .filter(t => t !== undefined));\\nreturn this.labels[index] || \\\"\\\";\\n        \"},\"id\":\"1731\",\"type\":\"FuncTickFormatter\"},{\"attributes\":{\"callback\":null},\"id\":\"1692\",\"type\":\"DataRange1d\"},{\"attributes\":{\"callback\":null,\"data\":{},\"selected\":{\"id\":\"1815\",\"type\":\"Selection\"},\"selection_policy\":{\"id\":\"1814\",\"type\":\"UnionRenderers\"}},\"id\":\"1783\",\"type\":\"ColumnDataSource\"},{\"attributes\":{},\"id\":\"1696\",\"type\":\"LinearScale\"},{\"attributes\":{\"callback\":null},\"id\":\"1862\",\"type\":\"DataRange1d\"},{\"attributes\":{\"fill_alpha\":{\"value\":0.1},\"fill_color\":{\"value\":\"#1f77b4\"},\"line_alpha\":{\"value\":0.1},\"line_color\":{\"value\":\"#1f77b4\"},\"size\":{\"units\":\"screen\",\"value\":8},\"x\":{\"value\":1746},\"y\":{\"value\":6.931887771129211}},\"id\":\"1785\",\"type\":\"Scatter\"},{\"attributes\":{\"bounds\":[-107.35,2254.35],\"callback\":null,\"end\":2147,\"js_property_callbacks\":{\"change:end\":[{\"id\":\"2034\",\"type\":\"CustomJS\"}]}},\"id\":\"1689\",\"type\":\"Range1d\"},{\"attributes\":{\"text\":\"\"},\"id\":\"2059\",\"type\":\"Title\"},{\"attributes\":{\"line_color\":\"#1f77b4\",\"line_width\":1.3,\"x\":{\"field\":\"index\"},\"y\":{\"field\":\"SMA(C,10)_0_1\"}},\"id\":\"1997\",\"type\":\"Line\"},{\"attributes\":{\"data_source\":{\"id\":\"1783\",\"type\":\"ColumnDataSource\"},\"glyph\":{\"id\":\"1784\",\"type\":\"Scatter\"},\"hover_glyph\":null,\"muted_glyph\":null,\"nonselection_glyph\":{\"id\":\"1785\",\"type\":\"Scatter\"},\"selection_glyph\":null,\"view\":{\"id\":\"1787\",\"type\":\"CDSView\"}},\"id\":\"1786\",\"type\":\"GlyphRenderer\"},{\"attributes\":{},\"id\":\"1864\",\"type\":\"LinearScale\"},{\"attributes\":{},\"id\":\"2055\",\"type\":\"Selection\"},{\"attributes\":{\"below\":[{\"id\":\"1741\",\"type\":\"LinearAxis\"}],\"center\":[{\"id\":\"1745\",\"type\":\"Grid\"},{\"id\":\"1750\",\"type\":\"Grid\"},{\"id\":\"1798\",\"type\":\"Legend\"}],\"left\":[{\"id\":\"1746\",\"type\":\"LinearAxis\"}],\"min_border_bottom\":6,\"min_border_left\":0,\"min_border_right\":10,\"min_border_top\":3,\"outline_line_color\":{\"value\":\"#666666\"},\"plot_height\":110,\"plot_width\":null,\"renderers\":[{\"id\":\"1772\",\"type\":\"GlyphRenderer\"},{\"id\":\"1777\",\"type\":\"GlyphRenderer\"},{\"id\":\"1786\",\"type\":\"GlyphRenderer\"},{\"id\":\"1803\",\"type\":\"GlyphRenderer\"},{\"id\":\"1821\",\"type\":\"GlyphRenderer\"},{\"id\":\"1841\",\"type\":\"GlyphRenderer\"}],\"sizing_mode\":\"stretch_width\",\"title\":{\"id\":\"1789\",\"type\":\"Title\"},\"toolbar\":{\"id\":\"1759\",\"type\":\"Toolbar\"},\"toolbar_location\":null,\"x_range\":{\"id\":\"1689\",\"type\":\"Range1d\"},\"x_scale\":{\"id\":\"1737\",\"type\":\"LinearScale\"},\"y_range\":{\"id\":\"1735\",\"type\":\"DataRange1d\"},\"y_scale\":{\"id\":\"1739\",\"type\":\"LinearScale\"}},\"id\":\"1733\",\"subtype\":\"Figure\",\"type\":\"Plot\"},{\"attributes\":{},\"id\":\"1866\",\"type\":\"LinearScale\"},{\"attributes\":{},\"id\":\"1694\",\"type\":\"LinearScale\"},{\"attributes\":{\"source\":{\"id\":\"1783\",\"type\":\"ColumnDataSource\"}},\"id\":\"1787\",\"type\":\"CDSView\"},{\"attributes\":{\"fill_alpha\":{\"value\":0.1},\"fill_color\":{\"value\":\"#1f77b4\"},\"line_alpha\":{\"value\":0.1},\"line_color\":{\"value\":\"#1f77b4\"},\"marker\":{\"value\":\"triangle\"},\"size\":{\"units\":\"screen\",\"value\":13},\"x\":{\"field\":\"index\"},\"y\":{\"field\":\"returns_long\"}},\"id\":\"1898\",\"type\":\"Scatter\"},{\"attributes\":{},\"id\":\"2054\",\"type\":\"UnionRenderers\"},{\"attributes\":{\"text\":\"\"},\"id\":\"1789\",\"type\":\"Title\"},{\"attributes\":{\"formatter\":{\"id\":\"2060\",\"type\":\"BasicTickFormatter\"},\"ticker\":{\"id\":\"1869\",\"type\":\"BasicTicker\"},\"visible\":false},\"id\":\"1868\",\"type\":\"LinearAxis\"},{\"attributes\":{\"below\":[{\"id\":\"1698\",\"type\":\"LinearAxis\"}],\"center\":[{\"id\":\"1702\",\"type\":\"Grid\"},{\"id\":\"1707\",\"type\":\"Grid\"},{\"id\":\"1994\",\"type\":\"Legend\"}],\"left\":[{\"id\":\"1703\",\"type\":\"LinearAxis\"}],\"min_border_bottom\":6,\"min_border_left\":0,\"min_border_right\":10,\"min_border_top\":3,\"outline_line_color\":{\"value\":\"#666666\"},\"plot_height\":400,\"plot_width\":null,\"renderers\":[{\"id\":\"1961\",\"type\":\"GlyphRenderer\"},{\"id\":\"1967\",\"type\":\"GlyphRenderer\"},{\"id\":\"1972\",\"type\":\"GlyphRenderer\"},{\"id\":\"1977\",\"type\":\"GlyphRenderer\"},{\"id\":\"1982\",\"type\":\"GlyphRenderer\"},{\"id\":\"1999\",\"type\":\"GlyphRenderer\"},{\"id\":\"2017\",\"type\":\"GlyphRenderer\"}],\"sizing_mode\":\"stretch_width\",\"title\":{\"id\":\"1985\",\"type\":\"Title\"},\"toolbar\":{\"id\":\"1716\",\"type\":\"Toolbar\"},\"toolbar_location\":null,\"x_range\":{\"id\":\"1689\",\"type\":\"Range1d\"},\"x_scale\":{\"id\":\"1694\",\"type\":\"LinearScale\"},\"y_range\":{\"id\":\"1692\",\"type\":\"DataRange1d\"},\"y_scale\":{\"id\":\"1696\",\"type\":\"LinearScale\"}},\"id\":\"1690\",\"subtype\":\"Figure\",\"type\":\"Plot\"},{\"attributes\":{\"callback\":null},\"id\":\"1735\",\"type\":\"DataRange1d\"},{\"attributes\":{},\"id\":\"1790\",\"type\":\"BasicTickFormatter\"},{\"attributes\":{},\"id\":\"1869\",\"type\":\"BasicTicker\"},{\"attributes\":{},\"id\":\"2010\",\"type\":\"UnionRenderers\"},{\"attributes\":{},\"id\":\"1737\",\"type\":\"LinearScale\"},{\"attributes\":{\"ticker\":{\"id\":\"1869\",\"type\":\"BasicTicker\"}},\"id\":\"1872\",\"type\":\"Grid\"},{\"attributes\":{\"line_color\":{\"value\":\"#bbbbbb\"},\"x0\":{\"field\":\"index\"},\"x1\":{\"field\":\"index\"},\"y0\":{\"field\":\"High\"},\"y1\":{\"field\":\"Low\"}},\"id\":\"1959\",\"type\":\"Segment\"},{\"attributes\":{},\"id\":\"1793\",\"type\":\"UnionRenderers\"},{\"attributes\":{},\"id\":\"1739\",\"type\":\"LinearScale\"},{\"attributes\":{\"dimensions\":\"width\",\"maintain_focus\":false},\"id\":\"1709\",\"type\":\"WheelZoomTool\"},{\"attributes\":{\"callback\":null,\"formatters\":{\"@datetime\":\"datetime\"},\"mode\":\"vline\",\"point_policy\":\"follow_mouse\",\"renderers\":[{\"id\":\"1977\",\"type\":\"GlyphRenderer\"}],\"tooltips\":[[\"Date\",\"@datetime{%c}\"],[\"x, y\",\"$index&nbsp;&nbsp;&nbsp;&nbsp;$y{0,0.0[0000]}\"],[\"OHLC\",\"@Open{0,0.0[0000]}&nbsp;&nbsp;&nbsp;&nbsp;@High{0,0.0[0000]}&nbsp;&nbsp;&nbsp;&nbsp;@Low{0,0.0[0000]}&nbsp;&nbsp;&nbsp;&nbsp;@Close{0,0.0[0000]}\"],[\"Volume\",\"@Volume{0,0}\"],[\"SMA(C,10)\",\"@{SMA(C,10)_0_1}{0,0.0[0000]}\"],[\"SMA(C,30)\",\"@{SMA(C,30)_1_1}{0,0.0[0000]}\"]]},\"id\":\"2032\",\"type\":\"HoverTool\"},{\"attributes\":{\"axis_label\":\"Profit / Loss\",\"formatter\":{\"id\":\"1910\",\"type\":\"NumeralTickFormatter\"},\"minor_tick_line_color\":{\"value\":null},\"ticker\":{\"id\":\"1874\",\"type\":\"BasicTicker\"}},\"id\":\"1873\",\"type\":\"LinearAxis\"},{\"attributes\":{},\"id\":\"1794\",\"type\":\"Selection\"},{\"attributes\":{\"formatter\":{\"id\":\"1790\",\"type\":\"BasicTickFormatter\"},\"ticker\":{\"id\":\"1742\",\"type\":\"BasicTicker\"},\"visible\":false},\"id\":\"1741\",\"type\":\"LinearAxis\"},{\"attributes\":{\"overlay\":{\"id\":\"1993\",\"type\":\"BoxAnnotation\"}},\"id\":\"1710\",\"type\":\"BoxZoomTool\"},{\"attributes\":{\"source\":{\"id\":\"1725\",\"type\":\"ColumnDataSource\"}},\"id\":\"2000\",\"type\":\"CDSView\"},{\"attributes\":{},\"id\":\"1874\",\"type\":\"BasicTicker\"},{\"attributes\":{},\"id\":\"1795\",\"type\":\"UnionRenderers\"},{\"attributes\":{},\"id\":\"1711\",\"type\":\"UndoTool\"},{\"attributes\":{},\"id\":\"1742\",\"type\":\"BasicTicker\"},{\"attributes\":{\"dimension\":1,\"ticker\":{\"id\":\"1874\",\"type\":\"BasicTicker\"}},\"id\":\"1877\",\"type\":\"Grid\"},{\"attributes\":{},\"id\":\"1796\",\"type\":\"Selection\"},{\"attributes\":{\"ticker\":{\"id\":\"1742\",\"type\":\"BasicTicker\"}},\"id\":\"1745\",\"type\":\"Grid\"},{\"attributes\":{\"dimensions\":\"width\"},\"id\":\"1708\",\"type\":\"PanTool\"},{\"attributes\":{\"below\":[{\"id\":\"1920\",\"type\":\"LinearAxis\"}],\"center\":[{\"id\":\"1924\",\"type\":\"Grid\"},{\"id\":\"1929\",\"type\":\"Grid\"}],\"left\":[{\"id\":\"1925\",\"type\":\"LinearAxis\"}],\"min_border_bottom\":6,\"min_border_left\":0,\"min_border_right\":10,\"min_border_top\":3,\"outline_line_color\":{\"value\":\"#666666\"},\"plot_height\":90,\"plot_width\":null,\"renderers\":[{\"id\":\"1951\",\"type\":\"GlyphRenderer\"}],\"sizing_mode\":\"stretch_width\",\"title\":{\"id\":\"2083\",\"type\":\"Title\"},\"toolbar\":{\"id\":\"1938\",\"type\":\"Toolbar\"},\"toolbar_location\":null,\"x_range\":{\"id\":\"1689\",\"type\":\"Range1d\"},\"x_scale\":{\"id\":\"1916\",\"type\":\"LinearScale\"},\"y_range\":{\"id\":\"1914\",\"type\":\"DataRange1d\"},\"y_scale\":{\"id\":\"1918\",\"type\":\"LinearScale\"}},\"id\":\"1912\",\"subtype\":\"Figure\",\"type\":\"Plot\"},{\"attributes\":{\"active_drag\":{\"id\":\"1708\",\"type\":\"PanTool\"},\"active_inspect\":\"auto\",\"active_multi\":null,\"active_scroll\":{\"id\":\"1709\",\"type\":\"WheelZoomTool\"},\"active_tap\":\"auto\",\"tools\":[{\"id\":\"1708\",\"type\":\"PanTool\"},{\"id\":\"1709\",\"type\":\"WheelZoomTool\"},{\"id\":\"1710\",\"type\":\"BoxZoomTool\"},{\"id\":\"1711\",\"type\":\"UndoTool\"},{\"id\":\"1712\",\"type\":\"RedoTool\"},{\"id\":\"1713\",\"type\":\"ResetTool\"},{\"id\":\"1714\",\"type\":\"CrosshairTool\"},{\"id\":\"1715\",\"type\":\"SaveTool\"},{\"id\":\"2032\",\"type\":\"HoverTool\"}]},\"id\":\"1716\",\"type\":\"Toolbar\"},{\"attributes\":{\"bottom_units\":\"screen\",\"fill_alpha\":{\"value\":0.5},\"fill_color\":{\"value\":\"lightgrey\"},\"left_units\":\"screen\",\"level\":\"overlay\",\"line_alpha\":{\"value\":1.0},\"line_color\":{\"value\":\"black\"},\"line_dash\":[4,4],\"line_width\":{\"value\":2},\"render_mode\":\"css\",\"right_units\":\"screen\",\"top_units\":\"screen\"},\"id\":\"1797\",\"type\":\"BoxAnnotation\"},{\"attributes\":{\"axis_label\":\"Equity\",\"formatter\":{\"id\":\"1781\",\"type\":\"NumeralTickFormatter\"},\"minor_tick_line_color\":{\"value\":null},\"ticker\":{\"id\":\"1747\",\"type\":\"BasicTicker\"}},\"id\":\"1746\",\"type\":\"LinearAxis\"},{\"attributes\":{\"dimension\":1,\"ticker\":{\"id\":\"1704\",\"type\":\"BasicTicker\"}},\"id\":\"1707\",\"type\":\"Grid\"},{\"attributes\":{\"border_line_color\":{\"value\":\"#333333\"},\"items\":[{\"id\":\"1799\",\"type\":\"LegendItem\"},{\"id\":\"1817\",\"type\":\"LegendItem\"},{\"id\":\"1837\",\"type\":\"LegendItem\"},{\"id\":\"1859\",\"type\":\"LegendItem\"}],\"label_text_font_size\":{\"value\":\"8pt\"},\"location\":\"top_left\",\"margin\":0,\"padding\":5,\"spacing\":0},\"id\":\"1798\",\"type\":\"Legend\"},{\"attributes\":{},\"id\":\"1747\",\"type\":\"BasicTicker\"},{\"attributes\":{\"line_color\":{\"value\":\"#666666\"},\"line_dash\":[6],\"location\":0},\"id\":\"1895\",\"type\":\"Span\"},{\"attributes\":{\"label\":{\"value\":\"Peak (693%)\"},\"renderers\":[{\"id\":\"1786\",\"type\":\"GlyphRenderer\"}]},\"id\":\"1799\",\"type\":\"LegendItem\"},{\"attributes\":{\"active_drag\":{\"id\":\"1878\",\"type\":\"PanTool\"},\"active_inspect\":\"auto\",\"active_multi\":null,\"active_scroll\":{\"id\":\"1879\",\"type\":\"WheelZoomTool\"},\"active_tap\":\"auto\",\"tools\":[{\"id\":\"1878\",\"type\":\"PanTool\"},{\"id\":\"1879\",\"type\":\"WheelZoomTool\"},{\"id\":\"1880\",\"type\":\"BoxZoomTool\"},{\"id\":\"1881\",\"type\":\"UndoTool\"},{\"id\":\"1882\",\"type\":\"RedoTool\"},{\"id\":\"1883\",\"type\":\"ResetTool\"},{\"id\":\"1884\",\"type\":\"CrosshairTool\"},{\"id\":\"1885\",\"type\":\"SaveTool\"},{\"id\":\"1906\",\"type\":\"HoverTool\"},{\"id\":\"1908\",\"type\":\"HoverTool\"}]},\"id\":\"1886\",\"type\":\"Toolbar\"},{\"attributes\":{\"dimension\":1,\"ticker\":{\"id\":\"1747\",\"type\":\"BasicTicker\"}},\"id\":\"1750\",\"type\":\"Grid\"},{\"attributes\":{\"dimensions\":\"width\"},\"id\":\"1878\",\"type\":\"PanTool\"},{\"attributes\":{\"fill_color\":\"#ffffea\",\"line_color\":\"#ffcb66\",\"x\":{\"field\":\"index\"},\"y\":{\"field\":\"equity_dd\"}},\"id\":\"1770\",\"type\":\"Patch\"},{\"attributes\":{\"callback\":null,\"data\":{\"Close\":{\"__ndarray__\":\"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\",\"dtype\":\"float64\",\"shape\":[2148]},\"High\":{\"__ndarray__\":\"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\",\"dtype\":\"float64\",\"shape\":[2148]},\"Low\":{\"__ndarray__\":\"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\",\"dtype\":\"float64\",\"shape\":[2148]},\"Open\":{\"__ndarray__\":\"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\",\"dtype\":\"float64\",\"shape\":[2148]},\"SMA(C,10)_0_1\":{\"__ndarray__\":\"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\",\"dtype\":\"float64\",\"shape\":[2148]},\"SMA(C,30)_1_1\":{\"__ndarray__\":\"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\",\"dtype\":\"float64\",\"shape\":[2148]},\"Volume\":[22351900,11428600,9137200,7631300,4598900,3551000,3109000,2601000,2461400,4573700,7566900,2578800,2926700,2495300,2032900,4353800,3926000,5419900,5361900,4637800,4741000,5319700,3618000,3794400,4272100,4566300,3536600,8473000,15273500,6885900,7570000,6517900,7494100,6697400,7064600,5540300,5241300,5838600,9893000,5226300,6604000,7025200,9064000,11372700,14589500,36891900,32764200,22307100,13356500,14846800,21162500,12224900,11346300,13888700,14409600,19833100,11191800,11064200,10644000,14985500,16746100,11901500,20917400,18132900,16629600,8769300,12368200,12413300,15281000,6480100,10666600,7700000,7864100,6260900,5869200,6254000,6870900,7541800,7654000,4317200,4818600,11088400,11471000,8572800,7386200,9834500,5516300,3907000,3614600,6104100,4145800,2678100,5904300,7668500,15844200,13755900,8236600,10387100,9662900,7539600,6958700,8177800,6849400,9640300,13172600,11257700,9001600,9258400,14022700,10659200,12307900,6627400,12208200,9596700,18839000,32799300,12988100,14819300,12960400,11480000,17171500,18982700,13116000,38562200,25782800,16532300,10414400,8485900,13483700,15586000,25814300,9973500,7818400,9311200,7285500,7608600,6774100,8667400,8046100,11360400,10960500,8028300,11146600,10422100,7106300,8260600,7090000,7483700,5631700,4845000,3705200,8738000,6473000,6236100,6768600,6182000,8076400,8736700,5252600,9692200,5116600,5410500,7319600,6555800,6152700,11577400,6550300,8430000,15451500,17751900,33205100,19840000,17272000,10264800,8682800,9170200,9767400,17780200,12083500,7509600,6763900,5536800,6345800,11478800,8948200,7415500,5681400,7808900,12312000,9716500,8163500,21388300,29043100,18057900,13546600,12184100,22236800,35191700,17974100,18782300,22525900,24323000,25700900,16441100,12696600,12803200,10091900,20883100,12462400,10434400,21024700,15132300,10474000,14056400,17771200,17802900,19036500,18298700,15094400,9227600,7494000,8000300,10672100,7457600,8390300,5864900,11437900,10667700,8438400,6207800,12621400,14310400,19789400,23386800,9658800,9816900,7217900,5925600,8363300,5662400,7290200,5930600,5236500,5939700,4481800,5779300,6879000,7514900,6585900,8174700,7109200,3883300,11872800,5542900,6813000,5821700,8593100,4376600,3755300,5903000,4792000,5034000,2742100,3434500,4212300,7499500,6613300,4390500,10386500,10299900,11275800,15466200,7579800,5761900,9351000,10119700,13006400,8483800,9894400,6873100,7997400,5613800,9151300,9160300,9144300,8328400,7993800,6770300,5572200,8542600,9306200,10567700,8519100,7566700,7077800,7010700,13911700,22892400,9431700,6878300,8907500,5134400,5903500,14342900,16356100,10565400,7448400,8824900,9591500,7897500,10466900,9128700,7063900,7807900,8624900,8695200,9212200,7025700,10335100,9596000,10085000,4840100,11008400,21495800,15596600,9744900,7543500,10289400,15114700,11665900,8910100,7643400,6950100,8157000,6630400,6045800,16330500,21936800,10084700,11221900,7546600,4595100,6702800,7117900,6945800,7587100,13121200,15286400,10808300,17756900,12791900,9097100,9007400,10125300,7656600,8270300,20485700,14537300,41116700,22741400,15464600,18739800,12926100,8452200,8588900,22066000,27122500,11807700,18281800,8940400,16630200,20804100,11912400,15223500,19717800,14654000,12947000,21315500,14320200,8686000,6476200,12551600,6484300,10212200,39437600,12061200,18330300,11962000,8939700,10378800,11745600,13910400,19325600,13642400,18450700,12768800,10016700,8551700,10407600,9831100,7596000,7434700,15180600,7023700,8945800,19027500,14711700,36521400,8122700,15715700,13410500,8598500,7025900,9320100,11107200,6017000,6552900,8259500,8137600,6781700,12271500,22551300,8836400,9569000,7277800,8337900,7421300,10361200,13104300,8072200,4652000,6065000,5118600,9140600,6187200,8892800,10087600,8590100,6491100,10643800,5835000,11398200,8604400,8983000,9553800,8194600,3667000,4316000,7981300,6278000,6386400,5558500,10259800,8911300,10359500,6157500,5019100,7659100,7772000,6785700,5304600,7633100,4039900,8744400,5911900,5314800,3551200,4107100,3710500,6658200,6258000,2156700,4985600,3687100,6041900,4436400,5971300,4906700,6924500,7552100,5811900,8536800,8518500,12538700,11754600,8086100,5761100,5531900,5641100,4083600,4595300,5463200,7097800,6327000,5095200,3946900,5743200,4311000,4261900,3766500,4968300,6698200,5853200,5080200,4952200,4023300,4164100,3642300,3482500,2466700,4164000,4460000,4044400,2959900,2672900,4074300,3724100,3842000,3083400,4529200,5442200,9768200,5366100,7838200,7106700,14292900,9147800,10692100,4649600,5737300,5289400,5876700,5107400,3310900,3651900,5464700,6661800,5789800,7336500,7583300,9788600,5635400,4844000,3622500,4319400,5211000,6017300,11503500,11647900,15104500,8660200,9187500,7031700,6604000,6563100,6285400,5426300,5236700,4907700,4991500,4897100,7965000,4879200,2796700,4341900,7223400,8370700,5092600,5511000,5124500,8427500,4500700,1732700,7324700,7797600,6315300,5577500,5631400,4899900,4103000,4450300,4664300,3974900,3263400,4181000,4662100,4748900,5190800,8016600,6587000,4367800,6953300,3988300,2074300,4231500,3116200,2559200,7706500,7887600,6872100,4754400,5381400,5968500,7208200,4473700,7568900,6699100,5932000,4978300,5404300,4665500,6059300,6368500,5496500,4775700,4180500,12206100,15658700,6286500,7206900,5321900,4119800,4076700,4858600,5754500,4062600,5698800,4042400,6177000,4067600,5640600,5743900,3882600,3969900,9312800,8032300,8685200,6583600,6355100,7533700,6534100,5362800,4977700,3465400,6377300,8016900,3944200,5659100,5197700,3421500,5798300,5680700,4111300,4710300,3741200,4591600,3988500,3380200,3448500,6501800,3778800,2715800,3062100,2979300,3812000,2707900,2794800,5077900,3210100,5670500,11009600,12161500,5674600,3694700,3966800,4124900,2925700,3641200,3658200,3062700,3594200,3950000,3020100,2905100,3889900,3686300,2944100,3872700,4119000,6554200,4660600,3695900,6159300,3839000,5060200,4173600,5348500,5218000,7245800,8924300,4799000,7101000,10447100,7886700,10630500,6358200,4647700,6419500,7034000,4621200,6174100,4835900,4355300,4338200,4409700,7203700,7925000,5689500,6123100,4168400,3880600,3487600,1871800,4942900,2747000,3729800,3856000,3309300,3441600,5237100,6599500,4328600,6080000,11127200,17772300,6356700,5572100,5545000,6883400,5509100,3963300,4270500,4421500,3154900,3176200,3651500,4264300,4068800,4846500,5875200,3179300,3633700,5409500,8645600,5479400,2697300,3610600,3252700,3076700,2472700,2325100,3273900,2549300,2651700,2977600,3693700,3312900,3625900,3663600,3225800,2703600,2986000,1891100,2764900,2197500,4215700,5526900,5525000,8011700,5297000,2730600,3346100,2056300,2639500,4711300,7067500,3879500,2986700,5068700,5028000,8767800,5385600,11799000,6823700,6943800,6025300,6030500,12289200,15789000,6664400,6793700,7404200,5795500,3353900,3066300,6900600,6876800,6527200,5841500,8883700,8436300,8252900,16512200,11388100,10227300,8426100,8094700,6967700,9042800,5527400,9840600,7013500,2738700,6790100,8904500,7916500,6208000,7895500,4325100,4231800,4209600,4909000,3852100,3856200,6139100,6159100,5040800,3673500,5486000,7166700,4421100,4422200,5382000,1628400,2530000,2942500,2562700,2376200,4306900,3252500,5359800,6403400,5339100,6739700,6334200,4977000,4447500,5568200,10560000,8216800,8539600,9501500,16965700,9400900,6966000,5816700,6283000,7939600,14871300,17600500,13157100,11203300,7636400,7928900,6828900,5826000,6662300,6624700,6476700,5240100,6350400,6662200,5677800,5515900,8372800,23287300,10121900,6586900,9425400,7554500,13621700,7436600,7470100,8071800,7987600,8826900,6651900,7726600,6574400,7888200,7237200,6179000,9913400,6763500,5831600,5225700,5832200,4376200,4446400,6093100,5999000,6778400,5897200,5943500,4547000,6048100,5072400,4169700,3842600,4577600,7630700,13353000,18235600,7439700,7938500,4921500,4135100,4164400,4008600,4346000,7903000,6602800,6998800,6281000,4629300,6613000,5122900,4484900,4863900,5163500,4375800,4342700,4274100,5604500,3313600,6468100,5076300,4431500,3865500,4050400,4845000,3225200,3674200,4305300,3363200,3916700,4734500,5288300,3657400,3812900,5491600,6184400,3542800,3462900,3381200,5683100,5983100,3635900,4672600,4122200,5659500,5447500,3765300,4959900,4223000,2400500,4255200,4932400,4154000,4331700,4981400,4424800,6071000,4742200,8787400,11292400,5901500,4691500,4894100,3540900,3183500,3160000,2802800,3490700,2865100,3007900,2487000,3584500,3375800,2773800,3739300,4239300,2755700,3625500,2918600,3545700,3333900,3046500,3982100,3514100,2297200,2014300,3308200,4387100,3029700,3848200,6111500,4314600,4848500,4534300,9017900,7229600,6226800,6471400,6028000,6567400,6990700,9126900,8589400,10006000,4407300,5204200,4242000,5020300,5292500,10762900,3086300,6234800,5984900,7992900,11220600,11054400,11826400,8075000,10597800,8905500,7784800,6721400,16239700,14249200,6753400,5782000,6560000,6478900,7359000,6200700,8105400,9756600,7988900,7423300,5954500,7349900,6946500,8574800,4681300,8080100,10146600,10051100,13234700,9517100,7543800,8346100,7834600,9779400,10244500,10054700,10771200,6356600,2565500,5711200,5839700,5904800,4886600,6521200,8144300,6889900,5237000,6179200,5722100,6737900,7059600,5789700,4763500,5612600,3917600,3777700,1921500,1959100,3701900,3843500,2886800,3610500,4889000,6425200,4494500,3600700,4340500,3304300,4432500,5467900,5934500,5224400,5048200,4924500,8267000,10732800,4610700,4927300,7691400,7283800,4672000,5206900,6556500,6817400,7264400,7038100,4977300,7103700,5231600,5550300,4146700,5680400,6024500,4988700,6217100,5221100,6095900,6439100,5605600,5420000,5788500,6524800,7818400,6529900,7234200,6471300,6730200,5923600,5024100,3906400,4946800,4712500,5012200,4111200,4737900,4271500,3820000,4336300,6003300,3322800,3094100,3655300,3301200,4488000,3789800,3280300,3680100,2765200,3382600,3050100,3428600,4930700,10185100,10730800,4428900,3695400,3501800,2609000,3385400,2290600,2943600,3610000,4355700,2427700,3203000,2400800,2632900,2999800,3865100,2559300,3790800,2842800,2937000,3008700,3351700,2837500,2284000,2719800,1718600,3104500,3034300,2668800,2648200,3322400,2623600,3532800,3638100,3680800,3098700,3254900,3358900,2865200,2918400,3736900,3049700,3490100,3085200,4259100,4124400,2899600,2457800,3044500,3256700,2169300,2593900,2310800,2517600,2262600,3259300,3441200,3275600,2926600,4045700,2895800,3777000,6554500,6854100,3153500,2968200,2586700,3478200,3626900,2504400,2532500,1987000,3198600,2860400,2590300,2389800,2342000,2110900,2543100,1742000,1712500,2341400,1995200,1675100,2620200,2351100,2255000,3998900,3560500,2453400,2341000,1987800,1998900,1771600,1957900,2594900,1804800,1646200,1499200,2656700,2195400,2534600,1902900,1975700,2398100,2585300,4483100,3283500,2116400,3041200,2704200,2527600,2049600,1839300,2099200,3141700,2813200,2600800,2144600,2732300,4874200,4303800,2738100,3322200,3037400,3258400,6100400,8841900,3217900,4043700,3670600,2336500,2392700,2970400,3216500,2567800,2522600,3468500,3202100,2380200,2332700,1847700,1826700,2649900,2230800,2319700,1886300,1666800,2199200,1916700,1549600,2168000,2006200,2547500,1605200,1461200,1384600,1725100,2320300,1663200,1428700,2513600,1636200,1524000,1781000,1668300,1720000,1913400,2280400,2809400,2638800,3531500,2571200,1880800,2072700,858700,1697900,1424800,1465600,1219800,1956200,3004700,3978700,6414300,4724300,7212900,4853300,6496600,4240100,5434500,4316700,3250700,6307700,6800400,4419900,4355500,3964400,3229100,4140500,2250800,4096200,2999100,3377700,3156000,2694300,2819600,2674500,2410000,2279700,3654400,2029700,2336900,2553100,2144600,2872600,2326600,3309200,2049300,2237900,4356800,3089400,3183800,3912200,2386400,3176600,5654900,4233300,2753400,4653900,3431500,3321600,1777200,4792400,4004800,5501300,6565200,3930900,2696200,3104500,1977900,3030800,2102700,1901500,2060100,2581000,1947500,2056600,2352400,3912300,3402700,6761800,12235500,3894000,2977400,2391500,3280700,2089400,4368800,3844700,3406100,3058900,2435400,1857800,6076300,4582200,5000100,5089000,4128000,3322600,3851800,3325800,4116000,2793800,2825500,3445700,4913300,9690800,4345600,3017400,3475600,2809100,2894800,2666800,2540800,3650700,3920300,3632700,2685100,2729000,2577900,1781700,2040400,4259600,2289300,1977300,2872900,2983500,2219700,2029100,1893600,2245200,1762300,3502100,3603200,3513600,1936000,2560100,3129700,2668900,4331500,3334400,3976300,3118000,4858200,7824800,4550300,4054500,3279600,2147700,2264400,1995200,2451200,2496000,2675500,2144100,1858700,1802300,3812500,2420400,3319500,1872200,2074000,2223000,2204600,1934700,1305000,1890700,2686400,3925000,3917600,2986200,2762700,2592100,1777000,2312400,1231400,1946800,3228300,1684200,2540400,1709900,2401800,2430600,1974300,2241500,2216500,2402800,1969500,5641600,4403500,4466300,2537100,2317400,3356900,3107400,3654700,2172200,3244100,2225000,1940500,3507100,2762300,2395800,2859200,2626300,3753600,3055600,6634100,14824800,7098200,4587900,3525100,2920500,2256100,3158400,2512900,2241900,2184300,2278300,3087100,1997600,3380500,3570800,1765700,2101300,2237200,2497000,2261600,3393000,3478900,3307400,2442500,2590000,2297500,2186600,2162600,2396400,1311100,2859700,7117400,3754100,2547900,2631200,2093800,3042200,1756900,1868900,1704700,2398500,1643300,2167700,1596900,3087100,1973300,1879500,1207500,1110800,1208100,1064800,1019200,989500,1539300,2365200,1824500,2532300,2057800,2101200,1579200,1439300,1632700,1334000,2365600,3617000,3406100,5485800,8904400,4599200,3646800,2038100,2019200,4231100,2804900,2745300,1760700,1495100,1550800,1799600,1694900,1842500,2334400,2589900,2128000,2092000,1684000,1478800,3217900,3639900,2889600,2711700,1932400,2281500,3323200,2026700,1945300,3011000,3462700,2284900,2151000,3128100,3032000,2816100,4005600,3798500,2899300,3298600,3020900,1886900,1816200,2098700,2858400,2218400,1604800,1422300,2029400,2613200,2054500,6047500,2668300,2531500,1901800,1858200,2085600,2069400,5456300,14043700,5039800,2684100,3060000,2470100,1630800,3500000,2298400,2000000,4228500,2133700,2081500,2117000,1997800,2056100,1948700,2042900,2338800,1448300,2108700,2958200,3303600,1953200,2468700,2317500,2300000,1900000,1301600,2118500,1745800,2687300,2955900,2204500,1748500,1942100,1907600,1653400,1689100,2439900,2427300,2341500,2073300,2757000,5245400,3028600,2765400,2407100,4801700,3805600,3444700,2715100,2343000,2428400,3636700,3849200,2695600,3935500,4770200,2839300,2841200,2790200,6649500,13732100,4468300,2967500,2227800,3469500,3528200,3131600,2342900,3934400,3108400,4137400,3966100,3200600,3825700,4914600,5929100,7496600,6469700,5369600,4830600,3154300,7144900,6939400,4079100,6290700,5410000,4905900,4346800,3594500,3293000,3596300,2335800,2989000,2693300,2415500,2401200,2715800,2755800,2380500,3268800,2670400,2354200,2694400,2960800,3534300,2468400,2779100,2514300,4400300,2777300,2634200,3010900,2263300,2906600,2723600,4474400,4158800,4534100,3424300,2855900,2322200,2853400,3177800,5687600,8529900,4008200,3800800,2931500,3379000,3391000,3426900,2540500,2873100,3780300,2508000,2557800,3125100,2120900,2669800,2834800,3357400,3029400,3711000,2868400,3977000,3188700,2676000,2608500,3493300,3287700,3001300,2405300,2325800,1562400,2828900,1831800,3397000,3620600,4085700,3197500,2326500,2257300,2413100,2766200,2183900,4028200,3903700,2408600,4459300,2143500,2388200,2497900,1822300,1453700,1606400,2127200,1575400,1782300,3676500,2864000,3282900,2692900,5822600,4395600,2400000,1875200,2307300,1909300,2761700,6305300,10576300,3412900,3055800,4987700,3226200,3617500,2330500,2142400,2320700,2414700,3168500,3679600,2092100,1836400,2264700,2325200,1816300,1803700,2425900,2530900,2449100,2480800,1967000,2055000,1935600,1813900,2847600,3136900,2237700,1573300,1593300,3174400,1264500,1345500,2670600,1669000,2245800,2936900,2435100,3050500,2172800,1540500,2469600,2410200,1940200,1819200,2007200,2538900,1924300,2310700,2284200,2044900,1627600,2318700,2182700,2482000,2199000,5756600,8159300,5692100,3023900,2669500,3294600,3058400,2197800,1929100,1821100,2092500,1636400,2407300,2002300,1611500,1868000,2207400,1994500,2677300,2328800,1535900,2099400,1824400,2102100,4835100,3353800,5973500,3075400,3051900,3178100,1891300,3581900,2605700,1906700,2968300,3057900,2432700,2339900,2095800,1758500,1410400,2661100,3224200,1954200,2344900,3001200,2496900,2076200,2346700,2011300,2227900,1581600,1350200,1692300,1920900,2519500,1655500,1189500,2345900,2161800,1715100,1923100,3499300,2309800,1976000,1462600,1680100,1548200,4674700,6463700,3561700,2009400,1823000,1685200,3549700,2186700,1865600,1844600,1977700,1897100,1782400,1981800,1322200,1070300,1434600,3267900,3661700,2410700,1717700,2177700,1758100,2222200,1909200,1784200,1426600,2613700,2058600,2990300,1626900,2127100,1889600,1708200,3043500,3233000,2560000,1873800,2642300,2659000,2618500,1508300,2066800,3098300,2907400,6359100,3563800,6058500,5672900,3931100,2783500,3168000,2790200,2208300,2454200,2735900,1958600,3003200,2039900,2383900,2404200,3019100,2058200,2292900,12442400,11482200,4055600,2916600,2496500,2401100,1950800,1537000,2050100,2324400,1635900,1582800,2232300,2597000,3114100,1405900,1594200,1668400,1848900,3438200,2368200,2088700,2112200,922500,2204600,2508700,3042000,2776500,3163600,2192500,1991700,1862400,1462300,1919300,1366700,2687600,2426000,3444900,2130100,3035400,3004900,1918600,1657000,3526000,840900,1182400,1647400,1402000,1997400,2541300,2318200,2763500,1655700,1676100,2024700,1835700,1285200,2863900,3927700,2023400,2211500,3226800,3792400,5909100,3382700,2225900,1627100,1747100,1733000,1634200,3746100,3040500,1870700,2078100,2840200,3020100,2167700,1859000,1198200,1735300,2729800,2931800,2764200,3506400,2053900,2303900,2202500,2026100,2265800,2175400],\"datetime\":{\"__ndarray__\":\"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\",\"dtype\":\"float64\",\"shape\":[2148]},\"equity\":{\"__ndarray__\":\"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\",\"dtype\":\"float64\",\"shape\":[2148]},\"inc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index\":[0,1,2,3,4,5,6,7,8,9,10,11,12,13,14,15,16,17,18,19,20,21,22,23,24,25,26,27,28,29,30,31,32,33,34,35,36,37,38,39,40,41,42,43,44,45,46,47,48,49,50,51,52,53,54,55,56,57,58,59,60,61,62,63,64,65,66,67,68,69,70,71,72,73,74,75,76,77,78,79,80,81,82,83,84,85,86,87,88,89,90,91,92,93,94,95,96,97,98,99,100,101,102,103,104,105,106,107,108,109,110,111,112,113,114,115,116,117,118,119,120,121,122,123,124,125,126,127,128,129,130,131,132,133,134,135,136,137,138,139,140,141,142,143,144,145,146,147,148,149,150,151,152,153,154,155,156,157,158,159,160,161,162,163,164,165,166,167,168,169,170,171,172,173,174,175,176,177,178,179,180,181,182,183,184,185,186,187,188,189,190,191,192,193,194,195,196,197,198,199,200,201,202,203,204,205,206,207,208,209,210,211,212,213,214,215,216,217,218,219,220,221,222,223,224,225,226,227,228,229,230,231,232,233,234,235,236,237,238,239,240,241,242,243,244,245,246,247,248,249,250,251,252,253,254,255,256,257,258,259,260,261,262,263,264,265,266,267,268,269,270,271,272,273,274,275,276,277,278,279,280,281,282,283,284,285,286,287,288,289,290,291,292,293,294,295,296,297,298,299,300,301,302,303,304,305,306,307,308,309,310,311,312,313,314,315,316,317,318,319,320,321,322,323,324,325,326,327,328,329,330,331,332,333,334,335,336,337,338,339,340,341,342,343,344,345,346,347,348,349,350,351,352,353,354,355,356,357,358,359,360,361,362,363,364,365,366,367,368,369,370,371,372,373,374,375,376,377,378,379,380,381,382,383,384,385,386,387,388,389,390,391,392,393,394,395,396,397,398,399,400,401,402,403,404,405,406,407,408,409,410,411,412,413,414,415,416,417,418,419,420,421,422,423,424,425,426,427,428,429,430,431,432,433,434,435,436,437,438,439,440,441,442,443,444,445,446,447,448,449,450,451,452,453,454,455,456,457,458,459,460,461,462,463,464,465,466,467,468,469,470,471,472,473,474,475,476,477,478,479,480,481,482,483,484,485,486,487,488,489,490,491,492,493,494,495,496,497,498,499,500,501,502,503,504,505,506,507,508,509,510,511,512,513,514,515,516,517,518,519,520,521,522,523,524,525,526,527,528,529,530,531,532,533,534,535,536,537,538,539,540,541,542,543,544,545,546,547,548,549,550,551,552,553,554,555,556,557,558,559,560,561,562,563,564,565,566,567,568,569,570,571,572,573,574,575,576,577,578,579,580,581,582,583,584,585,586,587,588,589,590,591,592,593,594,595,596,597,598,599,600,601,602,603,604,605,606,607,608,609,610,611,612,613,614,615,616,617,618,619,620,621,622,623,624,625,626,627,628,629,630,631,632,633,634,635,636,637,638,639,640,641,642,643,644,645,646,647,648,649,650,651,652,653,654,655,656,657,658,659,660,661,662,663,664,665,666,667,668,669,670,671,672,673,674,675,676,677,678,679,680,681,682,683,684,685,686,687,688,689,690,691,692,693,694,695,696,697,698,699,700,701,702,703,704,705,706,707,708,709,710,711,712,713,714,715,716,717,718,719,720,721,722,723,724,725,726,727,728,729,730,731,732,733,734,735,736,737,738,739,740,741,742,743,744,745,746,747,748,749,750,751,752,753,754,755,756,757,758,759,760,761,762,763,764,765,766,767,768,769,770,771,772,773,774,775,776,777,778,779,780,781,782,783,784,785,786,787,788,789,790,791,792,793,794,795,796,797,798,799,800,801,802,803,804,805,806,807,808,809,810,811,812,813,814,815,816,817,818,819,820,821,822,823,824,825,826,827,828,829,830,831,832,833,834,835,836,837,838,839,840,841,842,843,844,845,846,847,848,849,850,851,852,853,854,855,856,857,858,859,860,861,862,863,864,865,866,867,868,869,870,871,872,873,874,875,876,877,878,879,880,881,882,883,884,885,886,887,888,889,890,891,892,893,894,895,896,897,898,899,900,901,902,903,904,905,906,907,908,909,910,911,912,913,914,915,916,917,918,919,920,921,922,923,924,925,926,927,928,929,930,931,932,933,934,935,936,937,938,939,940,941,942,943,944,945,946,947,948,949,950,951,952,953,954,955,956,957,958,959,960,961,962,963,964,965,966,967,968,969,970,971,972,973,974,975,976,977,978,979,980,981,982,983,984,985,986,987,988,989,990,991,992,993,994,995,996,997,998,999,1000,1001,1002,1003,1004,1005,1006,1007,1008,1009,1010,1011,1012,1013,1014,1015,1016,1017,1018,1019,1020,1021,1022,1023,1024,1025,1026,1027,1028,1029,1030,1031,1032,1033,1034,1035,1036,1037,1038,1039,1040,1041,1042,1043,1044,1045,1046,1047,1048,1049,1050,1051,1052,1053,1054,1055,1056,1057,1058,1059,1060,1061,1062,1063,1064,1065,1066,1067,1068,1069,1070,1071,1072,1073,1074,1075,1076,1077,1078,1079,1080,1081,1082,1083,1084,1085,1086,1087,1088,1089,1090,1091,1092,1093,1094,1095,1096,1097,1098,1099,1100,1101,1102,1103,1104,1105,1106,1107,1108,1109,1110,1111,1112,1113,1114,1115,1116,1117,1118,1119,1120,1121,1122,1123,1124,1125,1126,1127,1128,1129,1130,1131,1132,1133,1134,1135,1136,1137,1138,1139,1140,1141,1142,1143,1144,1145,1146,1147,1148,1149,1150,1151,1152,1153,1154,1155,1156,1157,1158,1159,1160,1161,1162,1163,1164,1165,1166,1167,1168,1169,1170,1171,1172,1173,1174,1175,1176,1177,1178,1179,1180,1181,1182,1183,1184,1185,1186,1187,1188,1189,1190,1191,1192,1193,1194,1195,1196,1197,1198,1199,1200,1201,1202,1203,1204,1205,1206,1207,1208,1209,1210,1211,1212,1213,1214,1215,1216,1217,1218,1219,1220,1221,1222,1223,1224,1225,1226,1227,1228,1229,1230,1231,1232,1233,1234,1235,1236,1237,1238,1239,1240,1241,1242,1243,1244,1245,1246,1247,1248,1249,1250,1251,1252,1253,1254,1255,1256,1257,1258,1259,1260,1261,1262,1263,1264,1265,1266,1267,1268,1269,1270,1271,1272,1273,1274,1275,1276,1277,1278,1279,1280,1281,1282,1283,1284,1285,1286,1287,1288,1289,1290,1291,1292,1293,1294,1295,1296,1297,1298,1299,1300,1301,1302,1303,1304,1305,1306,1307,1308,1309,1310,1311,1312,1313,1314,1315,1316,1317,1318,1319,1320,1321,1322,1323,1324,1325,1326,1327,1328,1329,1330,1331,1332,1333,1334,1335,1336,1337,1338,1339,1340,1341,1342,1343,1344,1345,1346,1347,1348,1349,1350,1351,1352,1353,1354,1355,1356,1357,1358,1359,1360,1361,1362,1363,1364,1365,1366,1367,1368,1369,1370,1371,1372,1373,1374,1375,1376,1377,1378,1379,1380,1381,1382,1383,1384,1385,1386,1387,1388,1389,1390,1391,1392,1393,1394,1395,1396,1397,1398,1399,1400,1401,1402,1403,1404,1405,1406,1407,1408,1409,1410,1411,1412,1413,1414,1415,1416,1417,1418,1419,1420,1421,1422,1423,1424,1425,1426,1427,1428,1429,1430,1431,1432,1433,1434,1435,1436,1437,1438,1439,1440,1441,1442,1443,1444,1445,1446,1447,1448,1449,1450,1451,1452,1453,1454,1455,1456,1457,1458,1459,1460,1461,1462,1463,1464,1465,1466,1467,1468,1469,1470,1471,1472,1473,1474,1475,1476,1477,1478,1479,1480,1481,1482,1483,1484,1485,1486,1487,1488,1489,1490,1491,1492,1493,1494,1495,1496,1497,1498,1499,1500,1501,1502,1503,1504,1505,1506,1507,1508,1509,1510,1511,1512,1513,1514,1515,1516,1517,1518,1519,1520,1521,1522,1523,1524,1525,1526,1527,1528,1529,1530,1531,1532,1533,1534,1535,1536,1537,1538,1539,1540,1541,1542,1543,1544,1545,1546,1547,1548,1549,1550,1551,1552,1553,1554,1555,1556,1557,1558,1559,1560,1561,1562,1563,1564,1565,1566,1567,1568,1569,1570,1571,1572,1573,1574,1575,1576,1577,1578,1579,1580,1581,1582,1583,1584,1585,1586,1587,1588,1589,1590,1591,1592,1593,1594,1595,1596,1597,1598,1599,1600,1601,1602,1603,1604,1605,1606,1607,1608,1609,1610,1611,1612,1613,1614,1615,1616,1617,1618,1619,1620,1621,1622,1623,1624,1625,1626,1627,1628,1629,1630,1631,1632,1633,1634,1635,1636,1637,1638,1639,1640,1641,1642,1643,1644,1645,1646,1647,1648,1649,1650,1651,1652,1653,1654,1655,1656,1657,1658,1659,1660,1661,1662,1663,1664,1665,1666,1667,1668,1669,1670,1671,1672,1673,1674,1675,1676,1677,1678,1679,1680,1681,1682,1683,1684,1685,1686,1687,1688,1689,1690,1691,1692,1693,1694,1695,1696,1697,1698,1699,1700,1701,1702,1703,1704,1705,1706,1707,1708,1709,1710,1711,1712,1713,1714,1715,1716,1717,1718,1719,1720,1721,1722,1723,1724,1725,1726,1727,1728,1729,1730,1731,1732,1733,1734,1735,1736,1737,1738,1739,1740,1741,1742,1743,1744,1745,1746,1747,1748,1749,1750,1751,1752,1753,1754,1755,1756,1757,1758,1759,1760,1761,1762,1763,1764,1765,1766,1767,1768,1769,1770,1771,1772,1773,1774,1775,1776,1777,1778,1779,1780,1781,1782,1783,1784,1785,1786,1787,1788,1789,1790,1791,1792,1793,1794,1795,1796,1797,1798,1799,1800,1801,1802,1803,1804,1805,1806,1807,1808,1809,1810,1811,1812,1813,1814,1815,1816,1817,1818,1819,1820,1821,1822,1823,1824,1825,1826,1827,1828,1829,1830,1831,1832,1833,1834,1835,1836,1837,1838,1839,1840,1841,1842,1843,1844,1845,1846,1847,1848,1849,1850,1851,1852,1853,1854,1855,1856,1857,1858,1859,1860,1861,1862,1863,1864,1865,1866,1867,1868,1869,1870,1871,1872,1873,1874,1875,1876,1877,1878,1879,1880,1881,1882,1883,1884,1885,1886,1887,1888,1889,1890,1891,1892,1893,1894,1895,1896,1897,1898,1899,1900,1901,1902,1903,1904,1905,1906,1907,1908,1909,1910,1911,1912,1913,1914,1915,1916,1917,1918,1919,1920,1921,1922,1923,1924,1925,1926,1927,1928,1929,1930,1931,1932,1933,1934,1935,1936,1937,1938,1939,1940,1941,1942,1943,1944,1945,1946,1947,1948,1949,1950,1951,1952,1953,1954,1955,1956,1957,1958,1959,1960,1961,1962,1963,1964,1965,1966,1967,1968,1969,1970,1971,1972,1973,1974,1975,1976,1977,1978,1979,1980,1981,1982,1983,1984,1985,1986,1987,1988,1989,1990,1991,1992,1993,1994,1995,1996,1997,1998,1999,2000,2001,2002,2003,2004,2005,2006,2007,2008,2009,2010,2011,2012,2013,2014,2015,2016,2017,2018,2019,2020,2021,2022,2023,2024,2025,2026,2027,2028,2029,2030,2031,2032,2033,2034,2035,2036,2037,2038,2039,2040,2041,2042,2043,2044,2045,2046,2047,2048,2049,2050,2051,2052,2053,2054,2055,2056,2057,2058,2059,2060,2061,2062,2063,2064,2065,2066,2067,2068,2069,2070,2071,2072,2073,2074,2075,2076,2077,2078,2079,2080,2081,2082,2083,2084,2085,2086,2087,2088,2089,2090,2091,2092,2093,2094,2095,2096,2097,2098,2099,2100,2101,2102,2103,2104,2105,2106,2107,2108,2109,2110,2111,2112,2113,2114,2115,2116,2117,2118,2119,2120,2121,2122,2123,2124,2125,2126,2127,2128,2129,2130,2131,2132,2133,2134,2135,2136,2137,2138,2139,2140,2141,2142,2143,2144,2145,2146,2147],\"ohlc_high\":{\"__ndarray__\":\"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\",\"dtype\":\"float64\",\"shape\":[2148]},\"ohlc_low\":{\"__ndarray__\":\"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\",\"dtype\":\"float64\",\"shape\":[2148]}},\"selected\":{\"id\":\"1796\",\"type\":\"Selection\"},\"selection_policy\":{\"id\":\"1795\",\"type\":\"UnionRenderers\"}},\"id\":\"1725\",\"type\":\"ColumnDataSource\"},{\"attributes\":{\"fill_color\":{\"value\":\"blue\"},\"line_color\":{\"value\":\"blue\"},\"size\":{\"units\":\"screen\",\"value\":8},\"x\":{\"value\":2147},\"y\":{\"value\":4.612290541949812}},\"id\":\"1801\",\"type\":\"Scatter\"},{\"attributes\":{\"dimensions\":\"width\",\"maintain_focus\":false},\"id\":\"1879\",\"type\":\"WheelZoomTool\"},{\"attributes\":{\"callback\":null,\"data\":{},\"selected\":{\"id\":\"1835\",\"type\":\"Selection\"},\"selection_policy\":{\"id\":\"1834\",\"type\":\"UnionRenderers\"}},\"id\":\"1800\",\"type\":\"ColumnDataSource\"},{\"attributes\":{\"callback\":null,\"data\":{\"equity_dd\":{\"__ndarray__\":\"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\",\"dtype\":\"float64\",\"shape\":[4296]},\"index\":[0,1,2,3,4,5,6,7,8,9,10,11,12,13,14,15,16,17,18,19,20,21,22,23,24,25,26,27,28,29,30,31,32,33,34,35,36,37,38,39,40,41,42,43,44,45,46,47,48,49,50,51,52,53,54,55,56,57,58,59,60,61,62,63,64,65,66,67,68,69,70,71,72,73,74,75,76,77,78,79,80,81,82,83,84,85,86,87,88,89,90,91,92,93,94,95,96,97,98,99,100,101,102,103,104,105,106,107,108,109,110,111,112,113,114,115,116,117,118,119,120,121,122,123,124,125,126,127,128,129,130,131,132,133,134,135,136,137,138,139,140,141,142,143,144,145,146,147,148,149,150,151,152,153,154,155,156,157,158,159,160,161,162,163,164,165,166,167,168,169,170,171,172,173,174,175,176,177,178,179,180,181,182,183,184,185,186,187,188,189,190,191,192,193,194,195,196,197,198,199,200,201,202,203,204,205,206,207,208,209,210,211,212,213,214,215,216,217,218,219,220,221,222,223,224,225,226,227,228,229,230,231,232,233,234,235,236,237,238,239,240,241,242,243,244,245,246,247,248,249,250,251,252,253,254,255,256,257,258,259,260,261,262,263,264,265,266,267,268,269,270,271,272,273,274,275,276,277,278,279,280,281,282,283,284,285,286,287,288,289,290,291,292,293,294,295,296,297,298,299,300,301,302,303,304,305,306,307,308,309,310,311,312,313,314,315,316,317,318,319,320,321,322,323,324,325,326,327,328,329,330,331,332,333,334,335,336,337,338,339,340,341,342,343,344,345,346,347,348,349,350,351,352,353,354,355,356,357,358,359,360,361,362,363,364,365,366,367,368,369,370,371,372,373,374,375,376,377,378,379,380,381,382,383,384,385,386,387,388,389,390,391,392,393,394,395,396,397,398,399,400,401,402,403,404,405,406,407,408,409,410,411,412,413,414,415,416,417,418,419,420,421,422,423,424,425,426,427,428,429,430,431,432,433,434,435,436,437,438,439,440,441,442,443,444,445,446,447,448,449,450,451,452,453,454,455,456,457,458,459,460,461,462,463,464,465,466,467,468,469,470,471,472,473,474,475,476,477,478,479,480,481,482,483,484,485,486,487,488,489,490,491,492,493,494,495,496,497,498,499,500,501,502,503,504,505,506,507,508,509,510,511,512,513,514,515,516,517,518,519,520,521,522,523,524,525,526,527,528,529,530,531,532,533,534,535,536,537,538,539,540,541,542,543,544,545,546,547,548,549,550,551,552,553,554,555,556,557,558,559,560,561,562,563,564,565,566,567,568,569,570,571,572,573,574,575,576,577,578,579,580,581,582,583,584,585,586,587,588,589,590,591,592,593,594,595,596,597,598,599,600,601,602,603,604,605,606,607,608,609,610,611,612,613,614,615,616,617,618,619,620,621,622,623,624,625,626,627,628,629,630,631,632,633,634,635,636,637,638,639,640,641,642,643,644,645,646,647,648,649,650,651,652,653,654,655,656,657,658,659,660,661,662,663,664,665,666,667,668,669,670,671,672,673,674,675,676,677,678,679,680,681,682,683,684,685,686,687,688,689,690,691,692,693,694,695,696,697,698,699,700,701,702,703,704,705,706,707,708,709,710,711,712,713,714,715,716,717,718,719,720,721,722,723,724,725,726,727,728,729,730,731,732,733,734,735,736,737,738,739,740,741,742,743,744,745,746,747,748,749,750,751,752,753,754,755,756,757,758,759,760,761,762,763,764,765,766,767,768,769,770,771,772,773,774,775,776,777,778,779,780,781,782,783,784,785,786,787,788,789,790,791,792,793,794,795,796,797,798,799,800,801,802,803,804,805,806,807,808,809,810,811,812,813,814,815,816,817,818,819,820,821,822,823,824,825,826,827,828,829,830,831,832,833,834,835,836,837,838,839,840,841,842,843,844,845,846,847,848,849,850,851,852,853,854,855,856,857,858,859,860,861,862,863,864,865,866,867,868,869,870,871,872,873,874,875,876,877,878,879,880,881,882,883,884,885,886,887,888,889,890,891,892,893,894,895,896,897,898,899,900,901,902,903,904,905,906,907,908,909,910,911,912,913,914,915,916,917,918,919,920,921,922,923,924,925,926,927,928,929,930,931,932,933,934,935,936,937,938,939,940,941,942,943,944,945,946,947,948,949,950,951,952,953,954,955,956,957,958,959,960,961,962,963,964,965,966,967,968,969,970,971,972,973,974,975,976,977,978,979,980,981,982,983,984,985,986,987,988,989,990,991,992,993,994,995,996,997,998,999,1000,1001,1002,1003,1004,1005,1006,1007,1008,1009,1010,1011,1012,1013,1014,1015,1016,1017,1018,1019,1020,1021,1022,1023,1024,1025,1026,1027,1028,1029,1030,1031,1032,1033,1034,1035,1036,1037,1038,1039,1040,1041,1042,1043,1044,1045,1046,1047,1048,1049,1050,1051,1052,1053,1054,1055,1056,1057,1058,1059,1060,1061,1062,1063,1064,1065,1066,1067,1068,1069,1070,1071,1072,1073,1074,1075,1076,1077,1078,1079,1080,1081,1082,1083,1084,1085,1086,1087,1088,1089,1090,1091,1092,1093,1094,1095,1096,1097,1098,1099,1100,1101,1102,1103,1104,1105,1106,1107,1108,1109,1110,1111,1112,1113,1114,1115,1116,1117,1118,1119,1120,1121,1122,1123,1124,1125,1126,1127,1128,1129,1130,1131,1132,1133,1134,1135,1136,1137,1138,1139,1140,1141,1142,1143,1144,1145,1146,1147,1148,1149,1150,1151,1152,1153,1154,1155,1156,1157,1158,1159,1160,1161,1162,1163,1164,1165,1166,1167,1168,1169,1170,1171,1172,1173,1174,1175,1176,1177,1178,1179,1180,1181,1182,1183,1184,1185,1186,1187,1188,1189,1190,1191,1192,1193,1194,1195,1196,1197,1198,1199,1200,1201,1202,1203,1204,1205,1206,1207,1208,1209,1210,1211,1212,1213,1214,1215,1216,1217,1218,1219,1220,1221,1222,1223,1224,1225,1226,1227,1228,1229,1230,1231,1232,1233,1234,1235,1236,1237,1238,1239,1240,1241,1242,1243,1244,1245,1246,1247,1248,1249,1250,1251,1252,1253,1254,1255,1256,1257,1258,1259,1260,1261,1262,1263,1264,1265,1266,1267,1268,1269,1270,1271,1272,1273,1274,1275,1276,1277,1278,1279,1280,1281,1282,1283,1284,1285,1286,1287,1288,1289,1290,1291,1292,1293,1294,1295,1296,1297,1298,1299,1300,1301,1302,1303,1304,1305,1306,1307,1308,1309,1310,1311,1312,1313,1314,1315,1316,1317,1318,1319,1320,1321,1322,1323,1324,1325,1326,1327,1328,1329,1330,1331,1332,1333,1334,1335,1336,1337,1338,1339,1340,1341,1342,1343,1344,1345,1346,1347,1348,1349,1350,1351,1352,1353,1354,1355,1356,1357,1358,1359,1360,1361,1362,1363,1364,1365,1366,1367,1368,1369,1370,1371,1372,1373,1374,1375,1376,1377,1378,1379,1380,1381,1382,1383,1384,1385,1386,1387,1388,1389,1390,1391,1392,1393,1394,1395,1396,1397,1398,1399,1400,1401,1402,1403,1404,1405,1406,1407,1408,1409,1410,1411,1412,1413,1414,1415,1416,1417,1418,1419,1420,1421,1422,1423,1424,1425,1426,1427,1428,1429,1430,1431,1432,1433,1434,1435,1436,1437,1438,1439,1440,1441,1442,1443,1444,1445,1446,1447,1448,1449,1450,1451,1452,1453,1454,1455,1456,1457,1458,1459,1460,1461,1462,1463,1464,1465,1466,1467,1468,1469,1470,1471,1472,1473,1474,1475,1476,1477,1478,1479,1480,1481,1482,1483,1484,1485,1486,1487,1488,1489,1490,1491,1492,1493,1494,1495,1496,1497,1498,1499,1500,1501,1502,1503,1504,1505,1506,1507,1508,1509,1510,1511,1512,1513,1514,1515,1516,1517,1518,1519,1520,1521,1522,1523,1524,1525,1526,1527,1528,1529,1530,1531,1532,1533,1534,1535,1536,1537,1538,1539,1540,1541,1542,1543,1544,1545,1546,1547,1548,1549,1550,1551,1552,1553,1554,1555,1556,1557,1558,1559,1560,1561,1562,1563,1564,1565,1566,1567,1568,1569,1570,1571,1572,1573,1574,1575,1576,1577,1578,1579,1580,1581,1582,1583,1584,1585,1586,1587,1588,1589,1590,1591,1592,1593,1594,1595,1596,1597,1598,1599,1600,1601,1602,1603,1604,1605,1606,1607,1608,1609,1610,1611,1612,1613,1614,1615,1616,1617,1618,1619,1620,1621,1622,1623,1624,1625,1626,1627,1628,1629,1630,1631,1632,1633,1634,1635,1636,1637,1638,1639,1640,1641,1642,1643,1644,1645,1646,1647,1648,1649,1650,1651,1652,1653,1654,1655,1656,1657,1658,1659,1660,1661,1662,1663,1664,1665,1666,1667,1668,1669,1670,1671,1672,1673,1674,1675,1676,1677,1678,1679,1680,1681,1682,1683,1684,1685,1686,1687,1688,1689,1690,1691,1692,1693,1694,1695,1696,1697,1698,1699,1700,1701,1702,1703,1704,1705,1706,1707,1708,1709,1710,1711,1712,1713,1714,1715,1716,1717,1718,1719,1720,1721,1722,1723,1724,1725,1726,1727,1728,1729,1730,1731,1732,1733,1734,1735,1736,1737,1738,1739,1740,1741,1742,1743,1744,1745,1746,1747,1748,1749,1750,1751,1752,1753,1754,1755,1756,1757,1758,1759,1760,1761,1762,1763,1764,1765,1766,1767,1768,1769,1770,1771,1772,1773,1774,1775,1776,1777,1778,1779,1780,1781,1782,1783,1784,1785,1786,1787,1788,1789,1790,1791,1792,1793,1794,1795,1796,1797,1798,1799,1800,1801,1802,1803,1804,1805,1806,1807,1808,1809,1810,1811,1812,1813,1814,1815,1816,1817,1818,1819,1820,1821,1822,1823,1824,1825,1826,1827,1828,1829,1830,1831,1832,1833,1834,1835,1836,1837,1838,1839,1840,1841,1842,1843,1844,1845,1846,1847,1848,1849,1850,1851,1852,1853,1854,1855,1856,1857,1858,1859,1860,1861,1862,1863,1864,1865,1866,1867,1868,1869,1870,1871,1872,1873,1874,1875,1876,1877,1878,1879,1880,1881,1882,1883,1884,1885,1886,1887,1888,1889,1890,1891,1892,1893,1894,1895,1896,1897,1898,1899,1900,1901,1902,1903,1904,1905,1906,1907,1908,1909,1910,1911,1912,1913,1914,1915,1916,1917,1918,1919,1920,1921,1922,1923,1924,1925,1926,1927,1928,1929,1930,1931,1932,1933,1934,1935,1936,1937,1938,1939,1940,1941,1942,1943,1944,1945,1946,1947,1948,1949,1950,1951,1952,1953,1954,1955,1956,1957,1958,1959,1960,1961,1962,1963,1964,1965,1966,1967,1968,1969,1970,1971,1972,1973,1974,1975,1976,1977,1978,1979,1980,1981,1982,1983,1984,1985,1986,1987,1988,1989,1990,1991,1992,1993,1994,1995,1996,1997,1998,1999,2000,2001,2002,2003,2004,2005,2006,2007,2008,2009,2010,2011,2012,2013,2014,2015,2016,2017,2018,2019,2020,2021,2022,2023,2024,2025,2026,2027,2028,2029,2030,2031,2032,2033,2034,2035,2036,2037,2038,2039,2040,2041,2042,2043,2044,2045,2046,2047,2048,2049,2050,2051,2052,2053,2054,2055,2056,2057,2058,2059,2060,2061,2062,2063,2064,2065,2066,2067,2068,2069,2070,2071,2072,2073,2074,2075,2076,2077,2078,2079,2080,2081,2082,2083,2084,2085,2086,2087,2088,2089,2090,2091,2092,2093,2094,2095,2096,2097,2098,2099,2100,2101,2102,2103,2104,2105,2106,2107,2108,2109,2110,2111,2112,2113,2114,2115,2116,2117,2118,2119,2120,2121,2122,2123,2124,2125,2126,2127,2128,2129,2130,2131,2132,2133,2134,2135,2136,2137,2138,2139,2140,2141,2142,2143,2144,2145,2146,2147,2147,2146,2145,2144,2143,2142,2141,2140,2139,2138,2137,2136,2135,2134,2133,2132,2131,2130,2129,2128,2127,2126,2125,2124,2123,2122,2121,2120,2119,2118,2117,2116,2115,2114,2113,2112,2111,2110,2109,2108,2107,2106,2105,2104,2103,2102,2101,2100,2099,2098,2097,2096,2095,2094,2093,2092,2091,2090,2089,2088,2087,2086,2085,2084,2083,2082,2081,2080,2079,2078,2077,2076,2075,2074,2073,2072,2071,2070,2069,2068,2067,2066,2065,2064,2063,2062,2061,2060,2059,2058,2057,2056,2055,2054,2053,2052,2051,2050,2049,2048,2047,2046,2045,2044,2043,2042,2041,2040,2039,2038,2037,2036,2035,2034,2033,2032,2031,2030,2029,2028,2027,2026,2025,2024,2023,2022,2021,2020,2019,2018,2017,2016,2015,2014,2013,2012,2011,2010,2009,2008,2007,2006,2005,2004,2003,2002,2001,2000,1999,1998,1997,1996,1995,1994,1993,1992,1991,1990,1989,1988,1987,1986,1985,1984,1983,1982,1981,1980,1979,1978,1977,1976,1975,1974,1973,1972,1971,1970,1969,1968,1967,1966,1965,1964,1963,1962,1961,1960,1959,1958,1957,1956,1955,1954,1953,1952,1951,1950,1949,1948,1947,1946,1945,1944,1943,1942,1941,1940,1939,1938,1937,1936,1935,1934,1933,1932,1931,1930,1929,1928,1927,1926,1925,1924,1923,1922,1921,1920,1919,1918,1917,1916,1915,1914,1913,1912,1911,1910,1909,1908,1907,1906,1905,1904,1903,1902,1901,1900,1899,1898,1897,1896,1895,1894,1893,1892,1891,1890,1889,1888,1887,1886,1885,1884,1883,1882,1881,1880,1879,1878,1877,1876,1875,1874,1873,1872,1871,1870,1869,1868,1867,1866,1865,1864,1863,1862,1861,1860,1859,1858,1857,1856,1855,1854,1853,1852,1851,1850,1849,1848,1847,1846,1845,1844,1843,1842,1841,1840,1839,1838,1837,1836,1835,1834,1833,1832,1831,1830,1829,1828,1827,1826,1825,1824,1823,1822,1821,1820,1819,1818,1817,1816,1815,1814,1813,1812,1811,1810,1809,1808,1807,1806,1805,1804,1803,1802,1801,1800,1799,1798,1797,1796,1795,1794,1793,1792,1791,1790,1789,1788,1787,1786,1785,1784,1783,1782,1781,1780,1779,1778,1777,1776,1775,1774,1773,1772,1771,1770,1769,1768,1767,1766,1765,1764,1763,1762,1761,1760,1759,1758,1757,1756,1755,1754,1753,1752,1751,1750,1749,1748,1747,1746,1745,1744,1743,1742,1741,1740,1739,1738,1737,1736,1735,1734,1733,1732,1731,1730,1729,1728,1727,1726,1725,1724,1723,1722,1721,1720,1719,1718,1717,1716,1715,1714,1713,1712,1711,1710,1709,1708,1707,1706,1705,1704,1703,1702,1701,1700,1699,1698,1697,1696,1695,1694,1693,1692,1691,1690,1689,1688,1687,1686,1685,1684,1683,1682,1681,1680,1679,1678,1677,1676,1675,1674,1673,1672,1671,1670,1669,1668,1667,1666,1665,1664,1663,1662,1661,1660,1659,1658,1657,1656,1655,1654,1653,1652,1651,1650,1649,1648,1647,1646,1645,1644,1643,1642,1641,1640,1639,1638,1637,1636,1635,1634,1633,1632,1631,1630,1629,1628,1627,1626,1625,1624,1623,1622,1621,1620,1619,1618,1617,1616,1615,1614,1613,1612,1611,1610,1609,1608,1607,1606,1605,1604,1603,1602,1601,1600,1599,1598,1597,1596,1595,1594,1593,1592,1591,1590,1589,1588,1587,1586,1585,1584,1583,1582,1581,1580,1579,1578,1577,1576,1575,1574,1573,1572,1571,1570,1569,1568,1567,1566,1565,1564,1563,1562,1561,1560,1559,1558,1557,1556,1555,1554,1553,1552,1551,1550,1549,1548,1547,1546,1545,1544,1543,1542,1541,1540,1539,1538,1537,1536,1535,1534,1533,1532,1531,1530,1529,1528,1527,1526,1525,1524,1523,1522,1521,1520,1519,1518,1517,1516,1515,1514,1513,1512,1511,1510,1509,1508,1507,1506,1505,1504,1503,1502,1501,1500,1499,1498,1497,1496,1495,1494,1493,1492,1491,1490,1489,1488,1487,1486,1485,1484,1483,1482,1481,1480,1479,1478,1477,1476,1475,1474,1473,1472,1471,1470,1469,1468,1467,1466,1465,1464,1463,1462,1461,1460,1459,1458,1457,1456,1455,1454,1453,1452,1451,1450,1449,1448,1447,1446,1445,1444,1443,1442,1441,1440,1439,1438,1437,1436,1435,1434,1433,1432,1431,1430,1429,1428,1427,1426,1425,1424,1423,1422,1421,1420,1419,1418,1417,1416,1415,1414,1413,1412,1411,1410,1409,1408,1407,1406,1405,1404,1403,1402,1401,1400,1399,1398,1397,1396,1395,1394,1393,1392,1391,1390,1389,1388,1387,1386,1385,1384,1383,1382,1381,1380,1379,1378,1377,1376,1375,1374,1373,1372,1371,1370,1369,1368,1367,1366,1365,1364,1363,1362,1361,1360,1359,1358,1357,1356,1355,1354,1353,1352,1351,1350,1349,1348,1347,1346,1345,1344,1343,1342,1341,1340,1339,1338,1337,1336,1335,1334,1333,1332,1331,1330,1329,1328,1327,1326,1325,1324,1323,1322,1321,1320,1319,1318,1317,1316,1315,1314,1313,1312,1311,1310,1309,1308,1307,1306,1305,1304,1303,1302,1301,1300,1299,1298,1297,1296,1295,1294,1293,1292,1291,1290,1289,1288,1287,1286,1285,1284,1283,1282,1281,1280,1279,1278,1277,1276,1275,1274,1273,1272,1271,1270,1269,1268,1267,1266,1265,1264,1263,1262,1261,1260,1259,1258,1257,1256,1255,1254,1253,1252,1251,1250,1249,1248,1247,1246,1245,1244,1243,1242,1241,1240,1239,1238,1237,1236,1235,1234,1233,1232,1231,1230,1229,1228,1227,1226,1225,1224,1223,1222,1221,1220,1219,1218,1217,1216,1215,1214,1213,1212,1211,1210,1209,1208,1207,1206,1205,1204,1203,1202,1201,1200,1199,1198,1197,1196,1195,1194,1193,1192,1191,1190,1189,1188,1187,1186,1185,1184,1183,1182,1181,1180,1179,1178,1177,1176,1175,1174,1173,1172,1171,1170,1169,1168,1167,1166,1165,1164,1163,1162,1161,1160,1159,1158,1157,1156,1155,1154,1153,1152,1151,1150,1149,1148,1147,1146,1145,1144,1143,1142,1141,1140,1139,1138,1137,1136,1135,1134,1133,1132,1131,1130,1129,1128,1127,1126,1125,1124,1123,1122,1121,1120,1119,1118,1117,1116,1115,1114,1113,1112,1111,1110,1109,1108,1107,1106,1105,1104,1103,1102,1101,1100,1099,1098,1097,1096,1095,1094,1093,1092,1091,1090,1089,1088,1087,1086,1085,1084,1083,1082,1081,1080,1079,1078,1077,1076,1075,1074,1073,1072,1071,1070,1069,1068,1067,1066,1065,1064,1063,1062,1061,1060,1059,1058,1057,1056,1055,1054,1053,1052,1051,1050,1049,1048,1047,1046,1045,1044,1043,1042,1041,1040,1039,1038,1037,1036,1035,1034,1033,1032,1031,1030,1029,1028,1027,1026,1025,1024,1023,1022,1021,1020,1019,1018,1017,1016,1015,1014,1013,1012,1011,1010,1009,1008,1007,1006,1005,1004,1003,1002,1001,1000,999,998,997,996,995,994,993,992,991,990,989,988,987,986,985,984,983,982,981,980,979,978,977,976,975,974,973,972,971,970,969,968,967,966,965,964,963,962,961,960,959,958,957,956,955,954,953,952,951,950,949,948,947,946,945,944,943,942,941,940,939,938,937,936,935,934,933,932,931,930,929,928,927,926,925,924,923,922,921,920,919,918,917,916,915,914,913,912,911,910,909,908,907,906,905,904,903,902,901,900,899,898,897,896,895,894,893,892,891,890,889,888,887,886,885,884,883,882,881,880,879,878,877,876,875,874,873,872,871,870,869,868,867,866,865,864,863,862,861,860,859,858,857,856,855,854,853,852,851,850,849,848,847,846,845,844,843,842,841,840,839,838,837,836,835,834,833,832,831,830,829,828,827,826,825,824,823,822,821,820,819,818,817,816,815,814,813,812,811,810,809,808,807,806,805,804,803,802,801,800,799,798,797,796,795,794,793,792,791,790,789,788,787,786,785,784,783,782,781,780,779,778,777,776,775,774,773,772,771,770,769,768,767,766,765,764,763,762,761,760,759,758,757,756,755,754,753,752,751,750,749,748,747,746,745,744,743,742,741,740,739,738,737,736,735,734,733,732,731,730,729,728,727,726,725,724,723,722,721,720,719,718,717,716,715,714,713,712,711,710,709,708,707,706,705,704,703,702,701,700,699,698,697,696,695,694,693,692,691,690,689,688,687,686,685,684,683,682,681,680,679,678,677,676,675,674,673,672,671,670,669,668,667,666,665,664,663,662,661,660,659,658,657,656,655,654,653,652,651,650,649,648,647,646,645,644,643,642,641,640,639,638,637,636,635,634,633,632,631,630,629,628,627,626,625,624,623,622,621,620,619,618,617,616,615,614,613,612,611,610,609,608,607,606,605,604,603,602,601,600,599,598,597,596,595,594,593,592,591,590,589,588,587,586,585,584,583,582,581,580,579,578,577,576,575,574,573,572,571,570,569,568,567,566,565,564,563,562,561,560,559,558,557,556,555,554,553,552,551,550,549,548,547,546,545,544,543,542,541,540,539,538,537,536,535,534,533,532,531,530,529,528,527,526,525,524,523,522,521,520,519,518,517,516,515,514,513,512,511,510,509,508,507,506,505,504,503,502,501,500,499,498,497,496,495,494,493,492,491,490,489,488,487,486,485,484,483,482,481,480,479,478,477,476,475,474,473,472,471,470,469,468,467,466,465,464,463,462,461,460,459,458,457,456,455,454,453,452,451,450,449,448,447,446,445,444,443,442,441,440,439,438,437,436,435,434,433,432,431,430,429,428,427,426,425,424,423,422,421,420,419,418,417,416,415,414,413,412,411,410,409,408,407,406,405,404,403,402,401,400,399,398,397,396,395,394,393,392,391,390,389,388,387,386,385,384,383,382,381,380,379,378,377,376,375,374,373,372,371,370,369,368,367,366,365,364,363,362,361,360,359,358,357,356,355,354,353,352,351,350,349,348,347,346,345,344,343,342,341,340,339,338,337,336,335,334,333,332,331,330,329,328,327,326,325,324,323,322,321,320,319,318,317,316,315,314,313,312,311,310,309,308,307,306,305,304,303,302,301,300,299,298,297,296,295,294,293,292,291,290,289,288,287,286,285,284,283,282,281,280,279,278,277,276,275,274,273,272,271,270,269,268,267,266,265,264,263,262,261,260,259,258,257,256,255,254,253,252,251,250,249,248,247,246,245,244,243,242,241,240,239,238,237,236,235,234,233,232,231,230,229,228,227,226,225,224,223,222,221,220,219,218,217,216,215,214,213,212,211,210,209,208,207,206,205,204,203,202,201,200,199,198,197,196,195,194,193,192,191,190,189,188,187,186,185,184,183,182,181,180,179,178,177,176,175,174,173,172,171,170,169,168,167,166,165,164,163,162,161,160,159,158,157,156,155,154,153,152,151,150,149,148,147,146,145,144,143,142,141,140,139,138,137,136,135,134,133,132,131,130,129,128,127,126,125,124,123,122,121,120,119,118,117,116,115,114,113,112,111,110,109,108,107,106,105,104,103,102,101,100,99,98,97,96,95,94,93,92,91,90,89,88,87,86,85,84,83,82,81,80,79,78,77,76,75,74,73,72,71,70,69,68,67,66,65,64,63,62,61,60,59,58,57,56,55,54,53,52,51,50,49,48,47,46,45,44,43,42,41,40,39,38,37,36,35,34,33,32,31,30,29,28,27,26,25,24,23,22,21,20,19,18,17,16,15,14,13,12,11,10,9,8,7,6,5,4,3,2,1,0]},\"selected\":{\"id\":\"1794\",\"type\":\"Selection\"},\"selection_policy\":{\"id\":\"1793\",\"type\":\"UnionRenderers\"}},\"id\":\"1768\",\"type\":\"ColumnDataSource\"},{\"attributes\":{\"callback\":null,\"data\":{\"Close\":{\"__ndarray__\":\"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\",\"dtype\":\"float64\",\"shape\":[446]},\"High\":{\"__ndarray__\":\"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\",\"dtype\":\"float64\",\"shape\":[446]},\"Low\":{\"__ndarray__\":\"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\",\"dtype\":\"float64\",\"shape\":[446]},\"Open\":{\"__ndarray__\":\"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\",\"dtype\":\"float64\",\"shape\":[446]},\"Volume\":[33780500,28027400,19781800,11808700,24086600,21570500,41739000,33314300,32803200,78943300,104437100,71702600,64631600,76350700,46542600,38360800,32637900,43337000,22872400,26500800,57886700,39165800,42690300,55825400,89042400,73710600,99777600,64857500,38797800,47062700,44025600,21665600,34397700,36874500,37016000,81388800,65229800,53904600,39725100,43682300,94220000,94184900,101687500,66675000,78458600,79460100,33624000,44799200,76315800,40982500,30059400,31240900,36582900,29359700,21905600,22715600,55008200,46722800,39530000,41397100,42507800,58459300,36255400,57537700,44148500,41365900,34856200,65389200,53623500,44113800,55385100,28353600,56972800,48678300,84410000,78324100,87866900,73510600,82954500,34198100,92003300,64300100,63430300,50450000,86230100,52873300,32997200,58001600,41442400,42254700,39426800,42958200,39002800,24961700,41246600,32540500,31644100,24285000,16871300,29791000,47160500,29103800,28578500,22029500,27552100,17778900,18301200,14723800,32943900,45889100,25321700,28904700,31473800,38699100,46587900,28419200,25529500,30539600,19785400,32646500,22092400,22046200,29913000,11981200,22466200,27786200,25178300,27994100,43107500,25583900,25735300,19334700,36583800,30763400,27462900,24209500,20411800,16444900,15356100,37129600,20386700,17906300,16445500,22902400,24580600,26187100,42423500,28896500,25142800,27786600,13049300,19573800,45907600,29866300,18986400,22706300,26347500,15110000,13777600,14296100,13571400,25476800,16069500,23713700,37804100,47077800,30011700,29212400,53473200,42758600,25120200,37714600,21527600,24868700,26878000,9663600,15295400,29793400,37332100,42834100,52511100,46754600,30829800,24206300,57794300,44154700,37767400,31217800,28029200,29214100,25780700,47639500,28599200,29859200,27131100,23020000,24894000,15986100,19993900,24434600,22053100,23537700,15348700,22654700,35317800,22211500,15326500,15960400,17084800,16173800,16587500,19808900,34973700,41280400,24166300,34061800,52774200,53900600,32933300,39474900,33507000,51029600,43748400,29748000,28863500,32172500,29963300,11575900,14042700,23749900,24363600,28972500,29185200,32883300,27009600,22910700,28781700,33895800,28055600,23520600,21753900,18328400,13108200,32325300,17620500,15627600,15101600,15138600,12911600,11455800,16797700,15496100,17621000,15783000,9591600,15165300,24127100,15813500,13082900,11976100,9466200,14785700,10552700,9503000,9289600,14725700,12439000,12494200,16793000,24560300,15661400,14745800,11589400,10753500,9839700,6998500,9650900,8329500,13173500,7383400,5808100,20078200,28237400,20675500,20109400,15879800,12878100,10574100,12702300,16780100,18204600,17976600,22698400,10215900,10546700,28664700,14633000,17113900,22605400,18744200,23669100,16542500,12778600,13406400,13439500,11371100,14317200,12690200,23111700,16296500,11762000,13213400,10308500,13724700,12430400,10631100,8516600,14471900,17081200,14403400,13464900,30894400,20387800,12375800,13801700,12490100,14116300,8056700,18910300,10466500,10893500,6171100,5820900,10881000,8350800,21413300,16534400,10356800,10261300,10600700,11173600,12587700,14058700,16818100,11681100,9888100,15203600,25513200,13254000,13657700,10386100,9887400,13001200,9365900,9596200,9632100,14844500,16808400,14567900,15250500,28852300,16661300,16654700,21836100,27320800,29864100,19736500,12834800,11120900,14214100,14939400,13538600,19447500,22570900,17510500,15128800,13308400,16943200,15254200,9294800,15764000,12960600,16983700,10305600,7091300,12516300,16800700,21552600,18300100,12376800,12198000,11025900,8438400,11609400,10048300,12337300,10533300,10600300,8275400,20779600,17738500,9676900,10096500,10635900,18088900,14778600,10538600,10037300,13185600,11159000,9064500,7352700,11423300,15829300,12629000,9771700,7591300,13235700,9100300,11416600,9874300,12353600,15939900,22009800,13356600,11789800,31294800,13820600,5911500,11162100,9955600,7491600,13695400,9428200,12055300,13141900,5072700,9620400,8477400,14253300,15310100,10487500,12849600,9690000,11256300,10973700],\"_width\":{\"__ndarray__\":\"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\",\"dtype\":\"float64\",\"shape\":[446]},\"inc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index\":{\"__ndarray__\":\"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\",\"dtype\":\"float64\",\"shape\":[446]}},\"selected\":{\"id\":\"1990\",\"type\":\"Selection\"},\"selection_policy\":{\"id\":\"1989\",\"type\":\"UnionRenderers\"}},\"id\":\"1957\",\"type\":\"ColumnDataSource\"},{\"attributes\":{},\"id\":\"1704\",\"type\":\"BasicTicker\"},{\"attributes\":{\"overlay\":{\"id\":\"2065\",\"type\":\"BoxAnnotation\"}},\"id\":\"1880\",\"type\":\"BoxZoomTool\"},{\"attributes\":{\"fill_alpha\":{\"value\":0.1},\"fill_color\":{\"value\":\"#1f77b4\"},\"line_alpha\":{\"value\":0.1},\"line_color\":{\"value\":\"#1f77b4\"},\"size\":{\"units\":\"screen\",\"value\":8},\"x\":{\"value\":2147},\"y\":{\"value\":4.612290541949812}},\"id\":\"1802\",\"type\":\"Scatter\"},{\"attributes\":{\"formatter\":{\"id\":\"1987\",\"type\":\"BasicTickFormatter\"},\"ticker\":{\"id\":\"1704\",\"type\":\"BasicTicker\"}},\"id\":\"1703\",\"type\":\"LinearAxis\"},{\"attributes\":{},\"id\":\"1835\",\"type\":\"Selection\"},{\"attributes\":{\"data_source\":{\"id\":\"1800\",\"type\":\"ColumnDataSource\"},\"glyph\":{\"id\":\"1801\",\"type\":\"Scatter\"},\"hover_glyph\":null,\"muted_glyph\":null,\"nonselection_glyph\":{\"id\":\"1802\",\"type\":\"Scatter\"},\"selection_glyph\":null,\"view\":{\"id\":\"1804\",\"type\":\"CDSView\"}},\"id\":\"1803\",\"type\":\"GlyphRenderer\"},{\"attributes\":{\"active_drag\":{\"id\":\"1751\",\"type\":\"PanTool\"},\"active_inspect\":\"auto\",\"active_multi\":null,\"active_scroll\":{\"id\":\"1752\",\"type\":\"WheelZoomTool\"},\"active_tap\":\"auto\",\"tools\":[{\"id\":\"1751\",\"type\":\"PanTool\"},{\"id\":\"1752\",\"type\":\"WheelZoomTool\"},{\"id\":\"1753\",\"type\":\"BoxZoomTool\"},{\"id\":\"1754\",\"type\":\"UndoTool\"},{\"id\":\"1755\",\"type\":\"RedoTool\"},{\"id\":\"1756\",\"type\":\"ResetTool\"},{\"id\":\"1757\",\"type\":\"CrosshairTool\"},{\"id\":\"1758\",\"type\":\"SaveTool\"},{\"id\":\"1779\",\"type\":\"HoverTool\"}]},\"id\":\"1759\",\"type\":\"Toolbar\"},{\"attributes\":{},\"id\":\"1881\",\"type\":\"UndoTool\"},{\"attributes\":{\"ticker\":{\"id\":\"1699\",\"type\":\"BasicTicker\"}},\"id\":\"1702\",\"type\":\"Grid\"},{\"attributes\":{\"dimensions\":\"width\"},\"id\":\"1751\",\"type\":\"PanTool\"},{\"attributes\":{},\"id\":\"1882\",\"type\":\"RedoTool\"},{\"attributes\":{\"source\":{\"id\":\"1800\",\"type\":\"ColumnDataSource\"}},\"id\":\"1804\",\"type\":\"CDSView\"},{\"attributes\":{\"dimensions\":\"width\",\"maintain_focus\":false},\"id\":\"1752\",\"type\":\"WheelZoomTool\"},{\"attributes\":{},\"id\":\"1699\",\"type\":\"BasicTicker\"},{\"attributes\":{},\"id\":\"1883\",\"type\":\"ResetTool\"},{\"attributes\":{},\"id\":\"1814\",\"type\":\"UnionRenderers\"},{\"attributes\":{\"formatter\":{\"id\":\"1731\",\"type\":\"FuncTickFormatter\"},\"ticker\":{\"id\":\"1699\",\"type\":\"BasicTicker\"},\"visible\":false},\"id\":\"1698\",\"type\":\"LinearAxis\"},{\"attributes\":{\"overlay\":{\"id\":\"1797\",\"type\":\"BoxAnnotation\"}},\"id\":\"1753\",\"type\":\"BoxZoomTool\"},{\"attributes\":{},\"id\":\"1884\",\"type\":\"CrosshairTool\"},{\"attributes\":{},\"id\":\"1815\",\"type\":\"Selection\"},{\"attributes\":{},\"id\":\"1754\",\"type\":\"UndoTool\"},{\"attributes\":{},\"id\":\"1885\",\"type\":\"SaveTool\"},{\"attributes\":{},\"id\":\"1713\",\"type\":\"ResetTool\"},{\"attributes\":{\"label\":{\"value\":\"Final (461%)\"},\"renderers\":[{\"id\":\"1803\",\"type\":\"GlyphRenderer\"}]},\"id\":\"1817\",\"type\":\"LegendItem\"},{\"attributes\":{\"data_source\":{\"id\":\"1725\",\"type\":\"ColumnDataSource\"},\"glyph\":{\"id\":\"1997\",\"type\":\"Line\"},\"hover_glyph\":null,\"muted_glyph\":null,\"nonselection_glyph\":{\"id\":\"1998\",\"type\":\"Line\"},\"selection_glyph\":null,\"view\":{\"id\":\"2000\",\"type\":\"CDSView\"}},\"id\":\"1999\",\"type\":\"GlyphRenderer\"},{\"attributes\":{},\"id\":\"1755\",\"type\":\"RedoTool\"},{\"attributes\":{},\"id\":\"1712\",\"type\":\"RedoTool\"},{\"attributes\":{},\"id\":\"1756\",\"type\":\"ResetTool\"},{\"attributes\":{\"callback\":null,\"data\":{},\"selected\":{\"id\":\"1857\",\"type\":\"Selection\"},\"selection_policy\":{\"id\":\"1856\",\"type\":\"UnionRenderers\"}},\"id\":\"1818\",\"type\":\"ColumnDataSource\"},{\"attributes\":{},\"id\":\"1714\",\"type\":\"CrosshairTool\"},{\"attributes\":{},\"id\":\"1757\",\"type\":\"CrosshairTool\"},{\"attributes\":{\"fill_color\":{\"value\":\"red\"},\"line_color\":{\"value\":\"red\"},\"size\":{\"units\":\"screen\",\"value\":8},\"x\":{\"value\":1989},\"y\":{\"value\":3.508987661601755}},\"id\":\"1819\",\"type\":\"Scatter\"},{\"attributes\":{},\"id\":\"1758\",\"type\":\"SaveTool\"},{\"attributes\":{},\"id\":\"1715\",\"type\":\"SaveTool\"},{\"attributes\":{\"fill_alpha\":{\"value\":0.1},\"fill_color\":{\"value\":\"#1f77b4\"},\"line_alpha\":{\"value\":0.1},\"line_color\":{\"value\":\"#1f77b4\"},\"size\":{\"units\":\"screen\",\"value\":8},\"x\":{\"value\":1989},\"y\":{\"value\":3.508987661601755}},\"id\":\"1820\",\"type\":\"Scatter\"},{\"attributes\":{\"data_source\":{\"id\":\"1818\",\"type\":\"ColumnDataSource\"},\"glyph\":{\"id\":\"1819\",\"type\":\"Scatter\"},\"hover_glyph\":null,\"muted_glyph\":null,\"nonselection_glyph\":{\"id\":\"1820\",\"type\":\"Scatter\"},\"selection_glyph\":null,\"view\":{\"id\":\"1822\",\"type\":\"CDSView\"}},\"id\":\"1821\",\"type\":\"GlyphRenderer\"},{\"attributes\":{\"fill_alpha\":0.1,\"fill_color\":\"#1f77b4\",\"line_alpha\":0.1,\"line_color\":\"#1f77b4\",\"x\":{\"field\":\"index\"},\"y\":{\"field\":\"equity_dd\"}},\"id\":\"1771\",\"type\":\"Patch\"},{\"attributes\":{\"data_source\":{\"id\":\"1768\",\"type\":\"ColumnDataSource\"},\"glyph\":{\"id\":\"1770\",\"type\":\"Patch\"},\"hover_glyph\":null,\"muted_glyph\":null,\"nonselection_glyph\":{\"id\":\"1771\",\"type\":\"Patch\"},\"selection_glyph\":null,\"view\":{\"id\":\"1773\",\"type\":\"CDSView\"}},\"id\":\"1772\",\"type\":\"GlyphRenderer\"},{\"attributes\":{\"source\":{\"id\":\"1818\",\"type\":\"ColumnDataSource\"}},\"id\":\"1822\",\"type\":\"CDSView\"},{\"attributes\":{\"fill_color\":{\"field\":\"returns_pos\",\"transform\":{\"id\":\"1728\",\"type\":\"CategoricalColorMapper\"}},\"marker\":{\"value\":\"triangle\"},\"size\":{\"units\":\"screen\",\"value\":13},\"x\":{\"field\":\"index\"},\"y\":{\"field\":\"returns_long\"}},\"id\":\"1897\",\"type\":\"Scatter\"},{\"attributes\":{\"label\":{\"value\":\"Max Drawdown (-49.4%)\"},\"renderers\":[{\"id\":\"1821\",\"type\":\"GlyphRenderer\"}]},\"id\":\"1837\",\"type\":\"LegendItem\"},{\"attributes\":{\"source\":{\"id\":\"1768\",\"type\":\"ColumnDataSource\"}},\"id\":\"1773\",\"type\":\"CDSView\"},{\"attributes\":{\"callback\":null,\"data\":{\"x\":[1746,2147]},\"selected\":{\"id\":\"2055\",\"type\":\"Selection\"},\"selection_policy\":{\"id\":\"2054\",\"type\":\"UnionRenderers\"}},\"id\":\"1838\",\"type\":\"ColumnDataSource\"},{\"attributes\":{},\"id\":\"1834\",\"type\":\"UnionRenderers\"},{\"attributes\":{\"children\":[[{\"id\":\"1733\",\"subtype\":\"Figure\",\"type\":\"Plot\"},0,0],[{\"id\":\"1860\",\"subtype\":\"Figure\",\"type\":\"Plot\"},1,0],[{\"id\":\"1690\",\"subtype\":\"Figure\",\"type\":\"Plot\"},2,0],[{\"id\":\"1912\",\"subtype\":\"Figure\",\"type\":\"Plot\"},3,0]]},\"id\":\"2091\",\"type\":\"GridBox\"},{\"attributes\":{\"line_color\":\"red\",\"line_width\":2,\"x\":{\"field\":\"x\"},\"y\":{\"value\":6.931887771129211}},\"id\":\"1839\",\"type\":\"Line\"},{\"attributes\":{\"source\":{\"id\":\"1726\",\"type\":\"ColumnDataSource\"}},\"id\":\"1900\",\"type\":\"CDSView\"},{\"attributes\":{\"line_color\":\"#1f77b4\",\"line_width\":1.5,\"x\":{\"field\":\"index\"},\"y\":{\"field\":\"equity\"}},\"id\":\"1775\",\"type\":\"Line\"},{\"attributes\":{\"source\":{\"id\":\"1725\",\"type\":\"ColumnDataSource\"}},\"id\":\"2018\",\"type\":\"CDSView\"},{\"attributes\":{\"line_alpha\":0.1,\"line_color\":\"#1f77b4\",\"line_width\":2,\"x\":{\"field\":\"x\"},\"y\":{\"value\":6.931887771129211}},\"id\":\"1840\",\"type\":\"Line\"},{\"attributes\":{\"data_source\":{\"id\":\"1726\",\"type\":\"ColumnDataSource\"},\"glyph\":{\"id\":\"1897\",\"type\":\"Scatter\"},\"hover_glyph\":null,\"muted_glyph\":null,\"nonselection_glyph\":{\"id\":\"1898\",\"type\":\"Scatter\"},\"selection_glyph\":null,\"view\":{\"id\":\"1900\",\"type\":\"CDSView\"}},\"id\":\"1899\",\"type\":\"GlyphRenderer\"},{\"attributes\":{\"line_alpha\":0.1,\"line_color\":\"#1f77b4\",\"line_width\":1.5,\"x\":{\"field\":\"index\"},\"y\":{\"field\":\"equity\"}},\"id\":\"1776\",\"type\":\"Line\"},{\"attributes\":{\"data_source\":{\"id\":\"1838\",\"type\":\"ColumnDataSource\"},\"glyph\":{\"id\":\"1839\",\"type\":\"Line\"},\"hover_glyph\":null,\"muted_glyph\":null,\"nonselection_glyph\":{\"id\":\"1840\",\"type\":\"Line\"},\"selection_glyph\":null,\"view\":{\"id\":\"1842\",\"type\":\"CDSView\"}},\"id\":\"1841\",\"type\":\"GlyphRenderer\"},{\"attributes\":{\"data_source\":{\"id\":\"1725\",\"type\":\"ColumnDataSource\"},\"glyph\":{\"id\":\"1775\",\"type\":\"Line\"},\"hover_glyph\":null,\"muted_glyph\":null,\"nonselection_glyph\":{\"id\":\"1776\",\"type\":\"Line\"},\"selection_glyph\":null,\"view\":{\"id\":\"1778\",\"type\":\"CDSView\"}},\"id\":\"1777\",\"type\":\"GlyphRenderer\"}],\"root_ids\":[\"2094\"]},\"title\":\"Bokeh Application\",\"version\":\"1.4.0\"}};\n",
              "  var render_items = [{\"docid\":\"e4f76568-5ccb-4300-a369-672a9ae8acce\",\"roots\":{\"2094\":\"043c4231-7545-4072-b8ef-81531bf4a3e5\"}}];\n",
              "  root.Bokeh.embed.embed_items_notebook(docs_json, render_items);\n",
              "\n",
              "  }\n",
              "  if (root.Bokeh !== undefined) {\n",
              "    embed_document(root);\n",
              "  } else {\n",
              "    var attempts = 0;\n",
              "    var timer = setInterval(function(root) {\n",
              "      if (root.Bokeh !== undefined) {\n",
              "        clearInterval(timer);\n",
              "        embed_document(root);\n",
              "      } else {\n",
              "        attempts++;\n",
              "        if (attempts > 100) {\n",
              "          clearInterval(timer);\n",
              "          console.log(\"Bokeh: ERROR: Unable to run BokehJS code because BokehJS library is missing\");\n",
              "        }\n",
              "      }\n",
              "    }, 10, root)\n",
              "  }\n",
              "})(window);"
            ],
            "application/vnd.bokehjs_exec.v0+json": ""
          },
          "metadata": {
            "tags": [],
            "application/vnd.bokehjs_exec.v0+json": {
              "id": "2094"
            }
          }
        }
      ]
    },
    {
      "cell_type": "code",
      "metadata": {
        "id": "sp5rLNhjKDQB",
        "colab_type": "code",
        "colab": {}
      },
      "source": [
        ""
      ],
      "execution_count": 0,
      "outputs": []
    }
  ]
}